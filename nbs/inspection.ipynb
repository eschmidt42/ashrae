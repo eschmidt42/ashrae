{
 "cells": [
  {
   "cell_type": "code",
   "execution_count": null,
   "metadata": {},
   "outputs": [],
   "source": [
    "# default_exp inspection"
   ]
  },
  {
   "cell_type": "markdown",
   "metadata": {},
   "source": [
    "# Inspection of the data\n",
    "\n",
    "> Basic inspection of the dependent variable, `dep_var`."
   ]
  },
  {
   "cell_type": "code",
   "execution_count": null,
   "metadata": {},
   "outputs": [],
   "source": [
    "#hide\n",
    "%load_ext autoreload\n",
    "%autoreload 2"
   ]
  },
  {
   "cell_type": "code",
   "execution_count": null,
   "metadata": {},
   "outputs": [],
   "source": [
    "#export\n",
    "import pandas as pd\n",
    "import os\n",
    "import numpy as np\n",
    "import typing\n",
    "\n",
    "from fastcore.all import *\n",
    "from fastai.tabular.all import *\n",
    "\n",
    "from ashrae import loading\n",
    "\n",
    "import plotly.graph_objects as go\n",
    "import plotly.express as px\n",
    "import matplotlib.pyplot as plt\n",
    "import ipywidgets as widgets"
   ]
  },
  {
   "cell_type": "code",
   "execution_count": null,
   "metadata": {},
   "outputs": [],
   "source": [
    "#hide\n",
    "pd.options.plotting.backend = \"plotly\""
   ]
  },
  {
   "cell_type": "markdown",
   "metadata": {},
   "source": [
    "## Loading"
   ]
  },
  {
   "cell_type": "code",
   "execution_count": null,
   "metadata": {},
   "outputs": [],
   "source": [
    "%%time\n",
    "ashrae_data = loading.load_all()"
   ]
  },
  {
   "cell_type": "markdown",
   "metadata": {},
   "source": [
    "## Looking at timeseries"
   ]
  },
  {
   "cell_type": "code",
   "execution_count": null,
   "metadata": {},
   "outputs": [],
   "source": [
    "#export\n",
    "class InspectTimeseries:\n",
    "    def __init__(self, train:pd.DataFrame, building:pd.DataFrame=None,\n",
    "                 dep_var:str='meter_reading'):\n",
    "        self.dep_var = dep_var\n",
    "        self.df = train\n",
    "        self.building = building\n",
    "        self.combos = list(zip(*train.loc[:,['building_id', 'meter']]\n",
    "                       .drop_duplicates()\n",
    "                       .values.T))"
   ]
  },
  {
   "cell_type": "code",
   "execution_count": null,
   "metadata": {},
   "outputs": [],
   "source": [
    "%%time\n",
    "it = InspectTimeseries(ashrae_data['meter_train'], building=ashrae_data['building'])"
   ]
  },
  {
   "cell_type": "code",
   "execution_count": null,
   "metadata": {},
   "outputs": [],
   "source": [
    "#export\n",
    "@patch\n",
    "def init_widgets(self:InspectTimeseries, meter:int=0, bid:int=0):\n",
    "    self.int_txt_meter = widgets.IntText(min=np.array(self.df['meter']).min(),\n",
    "                                         max=np.array(self.df['meter']).max(),\n",
    "                                         description='Meter',\n",
    "                                         value=meter)\n",
    "    self.int_txt_bid = widgets.IntText(min=np.array(self.df['building_id']).min(),\n",
    "                                       max=np.array(self.df['building_id']).max(),\n",
    "                                       description='building id',\n",
    "                                       value=bid)\n",
    "\n",
    "    self.run_btn = widgets.Button(description='plot')\n",
    "    self.run_btn.on_click(self.click_boldly)\n",
    "    self.selection_mode = widgets.Dropdown(description='selection',\n",
    "                                           value='all',\n",
    "                                           options=['all', 'random', 'filled_weeks', 'outlying'])\n",
    "    self.out_wdg = widgets.Output()\n",
    "\n",
    "\n",
    "@patch\n",
    "@delegates(init_widgets)\n",
    "def inspect_boldly(self:InspectTimeseries, **kwargs):\n",
    "    if not hasattr(self, 'switch_btn'):\n",
    "        self.init_widgets(**kwargs)\n",
    "    return widgets.VBox([self.int_txt_meter,\n",
    "                         self.int_txt_bid,\n",
    "                         self.selection_mode,\n",
    "                         self.run_btn, self.out_wdg])\n",
    "\n",
    "@patch\n",
    "def click_boldly(self:InspectTimeseries, change):\n",
    "    self.out_wdg.clear_output()\n",
    "    meter = self.int_txt_meter.value\n",
    "    bid = self.int_txt_bid.value\n",
    "\n",
    "    with self.out_wdg:\n",
    "        print(f'Selected: meter {meter} bid {bid}')\n",
    "        if (bid, meter) not in self.combos:\n",
    "            print('Combination not in the training set 🥴')\n",
    "        else:\n",
    "            self.plot_boldly(meter=meter, bid=bid).show()"
   ]
  },
  {
   "cell_type": "code",
   "execution_count": null,
   "metadata": {},
   "outputs": [],
   "source": [
    "#export\n",
    "@patch\n",
    "def select_boldly_all(self:InspectTimeseries, df_plot:pd.DataFrame):\n",
    "    return df_plot.assign(label='all')\n",
    "\n",
    "@patch\n",
    "def select_boldly_random(self:InspectTimeseries, df_plot:pd.DataFrame):\n",
    "    mask_random = np.random.choice([True,False], size=len(df_plot))\n",
    "    return pd.concat((\n",
    "        (df_plot.loc[~mask_random, ['timestamp', self.dep_var]]\n",
    "         .assign(label='one')),\n",
    "        (df_plot.loc[mask_random, ['timestamp', self.dep_var]]\n",
    "         .assign(label='two')),\n",
    "    ),ignore_index=True)\n",
    "\n",
    "\n",
    "@patch\n",
    "def select_boldly_filled_weeks(self:InspectTimeseries, df_plot:pd.DataFrame):\n",
    "    wks = (df_plot.groupby(pd.Grouper(key='timestamp', freq='W-MON'))[self.dep_var]\n",
    "           .describe(percentiles=[.05, .95]))\n",
    "\n",
    "    w_range = pd.date_range(df_plot['timestamp'].dt.date.min()-pd.Timedelta(7,unit='w'), df_plot['timestamp'].dt.date.max()+pd.Timedelta(7,unit='d'), freq='W-MON')\n",
    "\n",
    "    df_plot['week'] = [v.right for v in pd.cut(df_plot['timestamp'], w_range)]\n",
    "\n",
    "    df_plot = df_plot.join(wks.loc[:,['5%', '95%']], on='week')\n",
    "    mask_drop = np.isclose(df_plot['5%'], df_plot['95%'])\n",
    "    return pd.concat((\n",
    "        (df_plot.loc[mask_drop, ['timestamp', self.dep_var]]\n",
    "         .assign(label='constant')),\n",
    "        (df_plot.loc[~mask_drop, ['timestamp', self.dep_var]]\n",
    "         .assign(label='not constant')),\n",
    "    ),ignore_index=True)\n",
    "\n",
    "@patch\n",
    "def select_boldly_outlying(self:InspectTimeseries, df_plot:pd.DataFrame):\n",
    "\n",
    "    s = df_plot[self.dep_var].describe()\n",
    "    threshold = s['50%'] + (s['75%'] - s['50%']) * 10\n",
    "\n",
    "    mask = df_plot[self.dep_var] > threshold\n",
    "    return pd.concat((\n",
    "        (df_plot.loc[~mask, ['timestamp', self.dep_var]]\n",
    "         .assign(label='normal')),\n",
    "        (df_plot.loc[mask, ['timestamp', self.dep_var]]\n",
    "         .assign(label=f'outlier {mask.sum()}')),\n",
    "    ),ignore_index=True)\n",
    "\n",
    "@patch\n",
    "def plot_boldly(self:InspectTimeseries,\n",
    "                meter:int=None, bid:int=None):\n",
    "\n",
    "    assert (meter is not None and bid is not None)\n",
    "\n",
    "    mask = (self.df['meter']==int(meter)) & (self.df['building_id']==int(bid))\n",
    "\n",
    "\n",
    "    df_plot = self.df.loc[mask, ['timestamp', self.dep_var]]\n",
    "\n",
    "    df_plot = getattr(self, f'select_boldly_{self.selection_mode.value}')(df_plot)\n",
    "\n",
    "\n",
    "    fig = px.scatter(df_plot, x='timestamp',\n",
    "                     y=self.dep_var, color='label',\n",
    "                     title=f'meter = {meter}, building_id = {bid}')\n",
    "#     fig.update_traces(line=dict(color=\"Black\", width=.4))\n",
    "    fig.update_traces(marker=dict(size=1.5)) # ,color='Black'\n",
    "    return fig"
   ]
  },
  {
   "cell_type": "code",
   "execution_count": null,
   "metadata": {},
   "outputs": [],
   "source": [
    "it.inspect_boldly(bid=1)"
   ]
  },
  {
   "cell_type": "code",
   "execution_count": null,
   "metadata": {},
   "outputs": [],
   "source": [
    "#hide\n",
    "from nbdev.export import *\n",
    "notebook2script()"
   ]
  }
 ],
 "metadata": {
  "kernelspec": {
   "display_name": "Python [conda env:py38_fastai]",
   "language": "python",
   "name": "conda-env-py38_fastai-py"
  }
 },
 "nbformat": 4,
 "nbformat_minor": 4
}

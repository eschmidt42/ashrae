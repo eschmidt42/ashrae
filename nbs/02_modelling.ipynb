{
 "cells": [
  {
   "cell_type": "code",
   "execution_count": null,
   "metadata": {},
   "outputs": [],
   "source": [
    "# default_exp modelling"
   ]
  },
  {
   "cell_type": "markdown",
   "metadata": {},
   "source": [
    "# Modelling meter readings\n",
    "\n",
    "> API details."
   ]
  },
  {
   "cell_type": "code",
   "execution_count": 1,
   "metadata": {},
   "outputs": [],
   "source": [
    "#export\n",
    "import pandas as pd\n",
    "from pathlib import Path\n",
    "import os\n",
    "import plotly.graph_objects as go\n",
    "import plotly.express as px\n",
    "import numpy as np\n",
    "import typing\n",
    "\n",
    "from sklearn import linear_model, tree, model_selection, ensemble\n",
    "\n",
    "from fastai.tabular.all import *"
   ]
  },
  {
   "cell_type": "code",
   "execution_count": 2,
   "metadata": {},
   "outputs": [],
   "source": [
    "pd.options.plotting.backend = \"plotly\""
   ]
  },
  {
   "cell_type": "code",
   "execution_count": 3,
   "metadata": {},
   "outputs": [],
   "source": [
    "base_path = Path(\"../data\")"
   ]
  },
  {
   "cell_type": "code",
   "execution_count": 4,
   "metadata": {},
   "outputs": [
    {
     "data": {
      "text/plain": [
       "[Path('../data/building_metadata.csv'),\n",
       " Path('../data/sample_submission.csv'),\n",
       " Path('../data/test.csv'),\n",
       " Path('../data/train.csv'),\n",
       " Path('../data/weather_test.csv'),\n",
       " Path('../data/weather_train.csv')]"
      ]
     },
     "execution_count": 4,
     "metadata": {},
     "output_type": "execute_result"
    }
   ],
   "source": [
    "csvs = sorted([base_path/v for v in os.listdir(base_path) if v.endswith('.csv')])\n",
    "csvs"
   ]
  },
  {
   "cell_type": "code",
   "execution_count": 5,
   "metadata": {},
   "outputs": [
    {
     "data": {
      "text/plain": [
       "(Path('../data/train.csv'),\n",
       " Path('../data/weather_train.csv'),\n",
       " Path('../data/test.csv'),\n",
       " Path('../data/weather_test.csv'),\n",
       " Path('../data/building_metadata.csv'))"
      ]
     },
     "execution_count": 5,
     "metadata": {},
     "output_type": "execute_result"
    }
   ],
   "source": [
    "train_csv = csvs[3]\n",
    "train_weather_csv = csvs[-1]\n",
    "test_csv = csvs[2]\n",
    "test_weather_csv = csvs[-2]\n",
    "meta_csv = csvs[0]\n",
    "\n",
    "train_csv, train_weather_csv, test_csv, test_weather_csv, meta_csv"
   ]
  },
  {
   "cell_type": "code",
   "execution_count": 6,
   "metadata": {},
   "outputs": [],
   "source": [
    "#export\n",
    "def numpy_evaluate(y_true:np.ndarray, y_pred:np.ndarray): return np.sqrt(np.mean((y_pred  - y_true)**2))\n",
    "\n",
    "def evaluate_torch(y_true:torch.Tensor, y_pred:torch.Tensor): return torch.sqrt(torch.mean((y_pred - y_true)**2))"
   ]
  },
  {
   "cell_type": "markdown",
   "metadata": {},
   "source": [
    "## Loading"
   ]
  },
  {
   "cell_type": "code",
   "execution_count": 7,
   "metadata": {},
   "outputs": [
    {
     "name": "stdout",
     "output_type": "stream",
     "text": [
      "CPU times: user 9.33 s, sys: 780 ms, total: 10.1 s\n",
      "Wall time: 10.1 s\n"
     ]
    },
    {
     "data": {
      "text/html": [
       "<div>\n",
       "<style scoped>\n",
       "    .dataframe tbody tr th:only-of-type {\n",
       "        vertical-align: middle;\n",
       "    }\n",
       "\n",
       "    .dataframe tbody tr th {\n",
       "        vertical-align: top;\n",
       "    }\n",
       "\n",
       "    .dataframe thead th {\n",
       "        text-align: right;\n",
       "    }\n",
       "</style>\n",
       "<table border=\"1\" class=\"dataframe\">\n",
       "  <thead>\n",
       "    <tr style=\"text-align: right;\">\n",
       "      <th></th>\n",
       "      <th>building_id</th>\n",
       "      <th>meter</th>\n",
       "      <th>timestamp</th>\n",
       "      <th>meter_reading</th>\n",
       "    </tr>\n",
       "  </thead>\n",
       "  <tbody>\n",
       "    <tr>\n",
       "      <th>0</th>\n",
       "      <td>0</td>\n",
       "      <td>0</td>\n",
       "      <td>2016-01-01</td>\n",
       "      <td>0.0</td>\n",
       "    </tr>\n",
       "    <tr>\n",
       "      <th>1</th>\n",
       "      <td>1</td>\n",
       "      <td>0</td>\n",
       "      <td>2016-01-01</td>\n",
       "      <td>0.0</td>\n",
       "    </tr>\n",
       "    <tr>\n",
       "      <th>2</th>\n",
       "      <td>2</td>\n",
       "      <td>0</td>\n",
       "      <td>2016-01-01</td>\n",
       "      <td>0.0</td>\n",
       "    </tr>\n",
       "    <tr>\n",
       "      <th>3</th>\n",
       "      <td>3</td>\n",
       "      <td>0</td>\n",
       "      <td>2016-01-01</td>\n",
       "      <td>0.0</td>\n",
       "    </tr>\n",
       "    <tr>\n",
       "      <th>4</th>\n",
       "      <td>4</td>\n",
       "      <td>0</td>\n",
       "      <td>2016-01-01</td>\n",
       "      <td>0.0</td>\n",
       "    </tr>\n",
       "  </tbody>\n",
       "</table>\n",
       "</div>"
      ],
      "text/plain": [
       "   building_id  meter  timestamp  meter_reading\n",
       "0            0      0 2016-01-01            0.0\n",
       "1            1      0 2016-01-01            0.0\n",
       "2            2      0 2016-01-01            0.0\n",
       "3            3      0 2016-01-01            0.0\n",
       "4            4      0 2016-01-01            0.0"
      ]
     },
     "execution_count": 7,
     "metadata": {},
     "output_type": "execute_result"
    }
   ],
   "source": [
    "%%time\n",
    "train = pd.read_csv(train_csv, parse_dates=['timestamp'])\n",
    "train.head()"
   ]
  },
  {
   "cell_type": "code",
   "execution_count": 8,
   "metadata": {},
   "outputs": [
    {
     "name": "stdout",
     "output_type": "stream",
     "text": [
      "CPU times: user 18.7 s, sys: 2.3 s, total: 21 s\n",
      "Wall time: 21 s\n"
     ]
    },
    {
     "data": {
      "text/html": [
       "<div>\n",
       "<style scoped>\n",
       "    .dataframe tbody tr th:only-of-type {\n",
       "        vertical-align: middle;\n",
       "    }\n",
       "\n",
       "    .dataframe tbody tr th {\n",
       "        vertical-align: top;\n",
       "    }\n",
       "\n",
       "    .dataframe thead th {\n",
       "        text-align: right;\n",
       "    }\n",
       "</style>\n",
       "<table border=\"1\" class=\"dataframe\">\n",
       "  <thead>\n",
       "    <tr style=\"text-align: right;\">\n",
       "      <th></th>\n",
       "      <th>row_id</th>\n",
       "      <th>building_id</th>\n",
       "      <th>meter</th>\n",
       "      <th>timestamp</th>\n",
       "    </tr>\n",
       "  </thead>\n",
       "  <tbody>\n",
       "    <tr>\n",
       "      <th>0</th>\n",
       "      <td>0</td>\n",
       "      <td>0</td>\n",
       "      <td>0</td>\n",
       "      <td>2017-01-01</td>\n",
       "    </tr>\n",
       "    <tr>\n",
       "      <th>1</th>\n",
       "      <td>1</td>\n",
       "      <td>1</td>\n",
       "      <td>0</td>\n",
       "      <td>2017-01-01</td>\n",
       "    </tr>\n",
       "    <tr>\n",
       "      <th>2</th>\n",
       "      <td>2</td>\n",
       "      <td>2</td>\n",
       "      <td>0</td>\n",
       "      <td>2017-01-01</td>\n",
       "    </tr>\n",
       "    <tr>\n",
       "      <th>3</th>\n",
       "      <td>3</td>\n",
       "      <td>3</td>\n",
       "      <td>0</td>\n",
       "      <td>2017-01-01</td>\n",
       "    </tr>\n",
       "    <tr>\n",
       "      <th>4</th>\n",
       "      <td>4</td>\n",
       "      <td>4</td>\n",
       "      <td>0</td>\n",
       "      <td>2017-01-01</td>\n",
       "    </tr>\n",
       "  </tbody>\n",
       "</table>\n",
       "</div>"
      ],
      "text/plain": [
       "   row_id  building_id  meter  timestamp\n",
       "0       0            0      0 2017-01-01\n",
       "1       1            1      0 2017-01-01\n",
       "2       2            2      0 2017-01-01\n",
       "3       3            3      0 2017-01-01\n",
       "4       4            4      0 2017-01-01"
      ]
     },
     "execution_count": 8,
     "metadata": {},
     "output_type": "execute_result"
    }
   ],
   "source": [
    "%%time\n",
    "test = pd.read_csv(test_csv, parse_dates=['timestamp'])\n",
    "test.head()"
   ]
  },
  {
   "cell_type": "code",
   "execution_count": 9,
   "metadata": {},
   "outputs": [
    {
     "name": "stdout",
     "output_type": "stream",
     "text": [
      "CPU times: user 108 ms, sys: 4 ms, total: 112 ms\n",
      "Wall time: 110 ms\n"
     ]
    },
    {
     "data": {
      "text/html": [
       "<div>\n",
       "<style scoped>\n",
       "    .dataframe tbody tr th:only-of-type {\n",
       "        vertical-align: middle;\n",
       "    }\n",
       "\n",
       "    .dataframe tbody tr th {\n",
       "        vertical-align: top;\n",
       "    }\n",
       "\n",
       "    .dataframe thead th {\n",
       "        text-align: right;\n",
       "    }\n",
       "</style>\n",
       "<table border=\"1\" class=\"dataframe\">\n",
       "  <thead>\n",
       "    <tr style=\"text-align: right;\">\n",
       "      <th></th>\n",
       "      <th>site_id</th>\n",
       "      <th>timestamp</th>\n",
       "      <th>air_temperature</th>\n",
       "      <th>cloud_coverage</th>\n",
       "      <th>dew_temperature</th>\n",
       "      <th>precip_depth_1_hr</th>\n",
       "      <th>sea_level_pressure</th>\n",
       "      <th>wind_direction</th>\n",
       "      <th>wind_speed</th>\n",
       "    </tr>\n",
       "  </thead>\n",
       "  <tbody>\n",
       "    <tr>\n",
       "      <th>0</th>\n",
       "      <td>0</td>\n",
       "      <td>2016-01-01 00:00:00</td>\n",
       "      <td>25.0</td>\n",
       "      <td>6.0</td>\n",
       "      <td>20.0</td>\n",
       "      <td>NaN</td>\n",
       "      <td>1019.7</td>\n",
       "      <td>0.0</td>\n",
       "      <td>0.0</td>\n",
       "    </tr>\n",
       "    <tr>\n",
       "      <th>1</th>\n",
       "      <td>0</td>\n",
       "      <td>2016-01-01 01:00:00</td>\n",
       "      <td>24.4</td>\n",
       "      <td>NaN</td>\n",
       "      <td>21.1</td>\n",
       "      <td>-1.0</td>\n",
       "      <td>1020.2</td>\n",
       "      <td>70.0</td>\n",
       "      <td>1.5</td>\n",
       "    </tr>\n",
       "    <tr>\n",
       "      <th>2</th>\n",
       "      <td>0</td>\n",
       "      <td>2016-01-01 02:00:00</td>\n",
       "      <td>22.8</td>\n",
       "      <td>2.0</td>\n",
       "      <td>21.1</td>\n",
       "      <td>0.0</td>\n",
       "      <td>1020.2</td>\n",
       "      <td>0.0</td>\n",
       "      <td>0.0</td>\n",
       "    </tr>\n",
       "    <tr>\n",
       "      <th>3</th>\n",
       "      <td>0</td>\n",
       "      <td>2016-01-01 03:00:00</td>\n",
       "      <td>21.1</td>\n",
       "      <td>2.0</td>\n",
       "      <td>20.6</td>\n",
       "      <td>0.0</td>\n",
       "      <td>1020.1</td>\n",
       "      <td>0.0</td>\n",
       "      <td>0.0</td>\n",
       "    </tr>\n",
       "    <tr>\n",
       "      <th>4</th>\n",
       "      <td>0</td>\n",
       "      <td>2016-01-01 04:00:00</td>\n",
       "      <td>20.0</td>\n",
       "      <td>2.0</td>\n",
       "      <td>20.0</td>\n",
       "      <td>-1.0</td>\n",
       "      <td>1020.0</td>\n",
       "      <td>250.0</td>\n",
       "      <td>2.6</td>\n",
       "    </tr>\n",
       "  </tbody>\n",
       "</table>\n",
       "</div>"
      ],
      "text/plain": [
       "   site_id           timestamp  air_temperature  cloud_coverage  \\\n",
       "0        0 2016-01-01 00:00:00             25.0             6.0   \n",
       "1        0 2016-01-01 01:00:00             24.4             NaN   \n",
       "2        0 2016-01-01 02:00:00             22.8             2.0   \n",
       "3        0 2016-01-01 03:00:00             21.1             2.0   \n",
       "4        0 2016-01-01 04:00:00             20.0             2.0   \n",
       "\n",
       "   dew_temperature  precip_depth_1_hr  sea_level_pressure  wind_direction  \\\n",
       "0             20.0                NaN              1019.7             0.0   \n",
       "1             21.1               -1.0              1020.2            70.0   \n",
       "2             21.1                0.0              1020.2             0.0   \n",
       "3             20.6                0.0              1020.1             0.0   \n",
       "4             20.0               -1.0              1020.0           250.0   \n",
       "\n",
       "   wind_speed  \n",
       "0         0.0  \n",
       "1         1.5  \n",
       "2         0.0  \n",
       "3         0.0  \n",
       "4         2.6  "
      ]
     },
     "execution_count": 9,
     "metadata": {},
     "output_type": "execute_result"
    }
   ],
   "source": [
    "%%time\n",
    "weather_train = pd.read_csv(train_weather_csv, parse_dates=['timestamp'])\n",
    "weather_train.head()"
   ]
  },
  {
   "cell_type": "code",
   "execution_count": 10,
   "metadata": {},
   "outputs": [
    {
     "name": "stdout",
     "output_type": "stream",
     "text": [
      "CPU times: user 220 ms, sys: 8 ms, total: 228 ms\n",
      "Wall time: 226 ms\n"
     ]
    },
    {
     "data": {
      "text/html": [
       "<div>\n",
       "<style scoped>\n",
       "    .dataframe tbody tr th:only-of-type {\n",
       "        vertical-align: middle;\n",
       "    }\n",
       "\n",
       "    .dataframe tbody tr th {\n",
       "        vertical-align: top;\n",
       "    }\n",
       "\n",
       "    .dataframe thead th {\n",
       "        text-align: right;\n",
       "    }\n",
       "</style>\n",
       "<table border=\"1\" class=\"dataframe\">\n",
       "  <thead>\n",
       "    <tr style=\"text-align: right;\">\n",
       "      <th></th>\n",
       "      <th>site_id</th>\n",
       "      <th>timestamp</th>\n",
       "      <th>air_temperature</th>\n",
       "      <th>cloud_coverage</th>\n",
       "      <th>dew_temperature</th>\n",
       "      <th>precip_depth_1_hr</th>\n",
       "      <th>sea_level_pressure</th>\n",
       "      <th>wind_direction</th>\n",
       "      <th>wind_speed</th>\n",
       "    </tr>\n",
       "  </thead>\n",
       "  <tbody>\n",
       "    <tr>\n",
       "      <th>0</th>\n",
       "      <td>0</td>\n",
       "      <td>2017-01-01 00:00:00</td>\n",
       "      <td>17.8</td>\n",
       "      <td>4.0</td>\n",
       "      <td>11.7</td>\n",
       "      <td>NaN</td>\n",
       "      <td>1021.4</td>\n",
       "      <td>100.0</td>\n",
       "      <td>3.6</td>\n",
       "    </tr>\n",
       "    <tr>\n",
       "      <th>1</th>\n",
       "      <td>0</td>\n",
       "      <td>2017-01-01 01:00:00</td>\n",
       "      <td>17.8</td>\n",
       "      <td>2.0</td>\n",
       "      <td>12.8</td>\n",
       "      <td>0.0</td>\n",
       "      <td>1022.0</td>\n",
       "      <td>130.0</td>\n",
       "      <td>3.1</td>\n",
       "    </tr>\n",
       "    <tr>\n",
       "      <th>2</th>\n",
       "      <td>0</td>\n",
       "      <td>2017-01-01 02:00:00</td>\n",
       "      <td>16.1</td>\n",
       "      <td>0.0</td>\n",
       "      <td>12.8</td>\n",
       "      <td>0.0</td>\n",
       "      <td>1021.9</td>\n",
       "      <td>140.0</td>\n",
       "      <td>3.1</td>\n",
       "    </tr>\n",
       "    <tr>\n",
       "      <th>3</th>\n",
       "      <td>0</td>\n",
       "      <td>2017-01-01 03:00:00</td>\n",
       "      <td>17.2</td>\n",
       "      <td>0.0</td>\n",
       "      <td>13.3</td>\n",
       "      <td>0.0</td>\n",
       "      <td>1022.2</td>\n",
       "      <td>140.0</td>\n",
       "      <td>3.1</td>\n",
       "    </tr>\n",
       "    <tr>\n",
       "      <th>4</th>\n",
       "      <td>0</td>\n",
       "      <td>2017-01-01 04:00:00</td>\n",
       "      <td>16.7</td>\n",
       "      <td>2.0</td>\n",
       "      <td>13.3</td>\n",
       "      <td>0.0</td>\n",
       "      <td>1022.3</td>\n",
       "      <td>130.0</td>\n",
       "      <td>2.6</td>\n",
       "    </tr>\n",
       "  </tbody>\n",
       "</table>\n",
       "</div>"
      ],
      "text/plain": [
       "   site_id           timestamp  air_temperature  cloud_coverage  \\\n",
       "0        0 2017-01-01 00:00:00             17.8             4.0   \n",
       "1        0 2017-01-01 01:00:00             17.8             2.0   \n",
       "2        0 2017-01-01 02:00:00             16.1             0.0   \n",
       "3        0 2017-01-01 03:00:00             17.2             0.0   \n",
       "4        0 2017-01-01 04:00:00             16.7             2.0   \n",
       "\n",
       "   dew_temperature  precip_depth_1_hr  sea_level_pressure  wind_direction  \\\n",
       "0             11.7                NaN              1021.4           100.0   \n",
       "1             12.8                0.0              1022.0           130.0   \n",
       "2             12.8                0.0              1021.9           140.0   \n",
       "3             13.3                0.0              1022.2           140.0   \n",
       "4             13.3                0.0              1022.3           130.0   \n",
       "\n",
       "   wind_speed  \n",
       "0         3.6  \n",
       "1         3.1  \n",
       "2         3.1  \n",
       "3         3.1  \n",
       "4         2.6  "
      ]
     },
     "execution_count": 10,
     "metadata": {},
     "output_type": "execute_result"
    }
   ],
   "source": [
    "%%time\n",
    "weather_test = pd.read_csv(test_weather_csv, parse_dates=['timestamp'])\n",
    "weather_test.head()"
   ]
  },
  {
   "cell_type": "code",
   "execution_count": 11,
   "metadata": {},
   "outputs": [
    {
     "name": "stdout",
     "output_type": "stream",
     "text": [
      "CPU times: user 4 ms, sys: 0 ns, total: 4 ms\n",
      "Wall time: 3.02 ms\n"
     ]
    },
    {
     "data": {
      "text/html": [
       "<div>\n",
       "<style scoped>\n",
       "    .dataframe tbody tr th:only-of-type {\n",
       "        vertical-align: middle;\n",
       "    }\n",
       "\n",
       "    .dataframe tbody tr th {\n",
       "        vertical-align: top;\n",
       "    }\n",
       "\n",
       "    .dataframe thead th {\n",
       "        text-align: right;\n",
       "    }\n",
       "</style>\n",
       "<table border=\"1\" class=\"dataframe\">\n",
       "  <thead>\n",
       "    <tr style=\"text-align: right;\">\n",
       "      <th></th>\n",
       "      <th>site_id</th>\n",
       "      <th>building_id</th>\n",
       "      <th>primary_use</th>\n",
       "      <th>square_feet</th>\n",
       "      <th>year_built</th>\n",
       "      <th>floor_count</th>\n",
       "    </tr>\n",
       "  </thead>\n",
       "  <tbody>\n",
       "    <tr>\n",
       "      <th>0</th>\n",
       "      <td>0</td>\n",
       "      <td>0</td>\n",
       "      <td>Education</td>\n",
       "      <td>7432</td>\n",
       "      <td>2008.0</td>\n",
       "      <td>NaN</td>\n",
       "    </tr>\n",
       "    <tr>\n",
       "      <th>1</th>\n",
       "      <td>0</td>\n",
       "      <td>1</td>\n",
       "      <td>Education</td>\n",
       "      <td>2720</td>\n",
       "      <td>2004.0</td>\n",
       "      <td>NaN</td>\n",
       "    </tr>\n",
       "    <tr>\n",
       "      <th>2</th>\n",
       "      <td>0</td>\n",
       "      <td>2</td>\n",
       "      <td>Education</td>\n",
       "      <td>5376</td>\n",
       "      <td>1991.0</td>\n",
       "      <td>NaN</td>\n",
       "    </tr>\n",
       "    <tr>\n",
       "      <th>3</th>\n",
       "      <td>0</td>\n",
       "      <td>3</td>\n",
       "      <td>Education</td>\n",
       "      <td>23685</td>\n",
       "      <td>2002.0</td>\n",
       "      <td>NaN</td>\n",
       "    </tr>\n",
       "    <tr>\n",
       "      <th>4</th>\n",
       "      <td>0</td>\n",
       "      <td>4</td>\n",
       "      <td>Education</td>\n",
       "      <td>116607</td>\n",
       "      <td>1975.0</td>\n",
       "      <td>NaN</td>\n",
       "    </tr>\n",
       "  </tbody>\n",
       "</table>\n",
       "</div>"
      ],
      "text/plain": [
       "   site_id  building_id primary_use  square_feet  year_built  floor_count\n",
       "0        0            0   Education         7432      2008.0          NaN\n",
       "1        0            1   Education         2720      2004.0          NaN\n",
       "2        0            2   Education         5376      1991.0          NaN\n",
       "3        0            3   Education        23685      2002.0          NaN\n",
       "4        0            4   Education       116607      1975.0          NaN"
      ]
     },
     "execution_count": 11,
     "metadata": {},
     "output_type": "execute_result"
    }
   ],
   "source": [
    "%%time\n",
    "building = pd.read_csv(meta_csv)\n",
    "building.head()"
   ]
  },
  {
   "cell_type": "markdown",
   "metadata": {},
   "source": [
    "## sklearn pipeline"
   ]
  },
  {
   "cell_type": "markdown",
   "metadata": {},
   "source": [
    "### Preparing the model input and output"
   ]
  },
  {
   "cell_type": "code",
   "execution_count": 12,
   "metadata": {},
   "outputs": [],
   "source": [
    "metering_input_cols = ['meter'] # 'building_id', 'timestamp']\n",
    "output_col = 'meter_reading'"
   ]
  },
  {
   "cell_type": "code",
   "execution_count": null,
   "metadata": {},
   "outputs": [],
   "source": [
    "#export\n",
    "def get_Xy(metering:pd.DataFrame,\n",
    "           metering_input_cols:typing.List[str],\n",
    "           output_col:str='meter_reading',\n",
    "           is_train:bool=True):\n",
    "    \n",
    "    X = metering.loc[:,metering_input_cols]\n",
    "    if is_train:\n",
    "        y = np.log(1+metering[output_col].values.ravel())\n",
    "        \n",
    "    if is_train:\n",
    "        return X, y\n",
    "    return X, None"
   ]
  },
  {
   "cell_type": "code",
   "execution_count": null,
   "metadata": {},
   "outputs": [],
   "source": [
    "%%time\n",
    "X, y = get_Xy(train, metering_input_cols=metering_input_cols,\n",
    "              is_train=True)"
   ]
  },
  {
   "cell_type": "code",
   "execution_count": null,
   "metadata": {},
   "outputs": [],
   "source": [
    "X_train, X_test, y_train, y_test = model_selection.train_test_split(X, y, test_size=.2)"
   ]
  },
  {
   "cell_type": "code",
   "execution_count": null,
   "metadata": {},
   "outputs": [],
   "source": [
    "X_train.values.shape, y_train.shape"
   ]
  },
  {
   "cell_type": "code",
   "execution_count": null,
   "metadata": {},
   "outputs": [],
   "source": [
    "X_train[:5], y_train[:5], X_test[:5], y_test[:5]"
   ]
  },
  {
   "cell_type": "markdown",
   "metadata": {},
   "source": [
    "### Training"
   ]
  },
  {
   "cell_type": "code",
   "execution_count": null,
   "metadata": {},
   "outputs": [],
   "source": [
    "m = linear_model.LinearRegression()"
   ]
  },
  {
   "cell_type": "code",
   "execution_count": null,
   "metadata": {},
   "outputs": [],
   "source": [
    "m.fit(X_train, y_train)"
   ]
  },
  {
   "cell_type": "code",
   "execution_count": null,
   "metadata": {},
   "outputs": [],
   "source": [
    "y_pred = m.predict(X_train)"
   ]
  },
  {
   "cell_type": "markdown",
   "metadata": {},
   "source": [
    "### Evaluation"
   ]
  },
  {
   "cell_type": "code",
   "execution_count": null,
   "metadata": {},
   "outputs": [],
   "source": [
    "%%time\n",
    "numpy_evaluate(y_train, y_pred)"
   ]
  },
  {
   "cell_type": "code",
   "execution_count": null,
   "metadata": {},
   "outputs": [],
   "source": [
    "%%time\n",
    "numpy_evaluate(y_test, m.predict(X_test))"
   ]
  },
  {
   "cell_type": "markdown",
   "metadata": {},
   "source": [
    "Finding:\n",
    "- Linear model + meter as input only + random 80-20 split  $\\Rightarrow$ 2.14"
   ]
  },
  {
   "cell_type": "markdown",
   "metadata": {},
   "source": [
    "## fastai overkill"
   ]
  },
  {
   "cell_type": "markdown",
   "metadata": {},
   "source": [
    "### Radically merging all the data"
   ]
  },
  {
   "cell_type": "code",
   "execution_count": 13,
   "metadata": {},
   "outputs": [],
   "source": [
    "#export\n",
    "def radical_merging(df:pd.DataFrame, building:pd.DataFrame, \n",
    "                    weather:pd.DataFrame, n_sample:int=None,):\n",
    "    \n",
    "\n",
    "    bid_col = 'building_id'\n",
    "    sid_col = 'site_id'\n",
    "    time_col = 'timestamp'\n",
    "    target_col = 'meter_reading'\n",
    "    \n",
    "    categorical = [bid_col, sid_col, 'meter', 'primary_use', 'cloud_coverage']\n",
    "    continuous = ['square_feet', 'year_built', 'floor_count', \n",
    "                  'air_temperature', 'dew_temperature',\n",
    "                  'precip_depth_1_hr', 'sea_level_pressure', 'wind_direction',\n",
    "                  'wind_speed']\n",
    "\n",
    "\n",
    "    X = df.loc[:,[bid_col, 'meter', target_col, time_col]].copy()\n",
    "\n",
    "\n",
    "    X = pd.merge(X, building, on=bid_col, how='left')\n",
    "\n",
    "\n",
    "    X = pd.merge(X, weather, on=[sid_col, time_col], how='left')\n",
    "\n",
    "\n",
    "    #return_cols =  categorical + continuous + [target_col,]  # time_col\n",
    "\n",
    "    #X = X.loc[:,return_cols]\n",
    "    if n_sample is not None:\n",
    "        X = X.sample(n_sample)\n",
    "        \n",
    "    X[target_col] = np.log(X[target_col] + 1)\n",
    "    X = add_datepart(X, time_col)\n",
    "    \"\"\"\n",
    "    \"\"\"\n",
    "    categorical.extend(['timestampMonth', 'timestampWeek', 'timestampDay',\n",
    "                        'timestampDayofweek', 'timestampDayofyear', 'timestampIs_month_end',\n",
    "                        'timestampIs_month_start', 'timestampIs_quarter_end',\n",
    "                        'timestampIs_quarter_start', 'timestampIs_year_end',\n",
    "                        'timestampIs_year_start'])\n",
    "    \n",
    "    continuous.extend(['timestampYear', 'timestampElapsed'])\n",
    "        \n",
    "    X = X.loc[:, [col for col in X.columns.values if col not in [time_col]]]\n",
    "    \n",
    "    missing_cont = [col for col in continuous if col not in X.columns]\n",
    "    missing_cat = [col for col in categorical if col not in X.columns]\n",
    "    assert len(missing_cat) == 0, f'{missing_cat} not in X!'\n",
    "    assert len(missing_cont) == 0, f'{missing_cont} not in X!'\n",
    "    \n",
    "    X.loc[:,continuous] = X.loc[:,continuous].astype(float)\n",
    "    X.loc[:,categorical] = X.loc[:,categorical].astype('category')\n",
    "    \n",
    "    return X, continuous, categorical"
   ]
  },
  {
   "cell_type": "code",
   "execution_count": 49,
   "metadata": {},
   "outputs": [
    {
     "name": "stderr",
     "output_type": "stream",
     "text": [
      "/home/eric/.conda/envs/py38_fastai/lib/python3.8/site-packages/fastai/tabular/core.py:33: FutureWarning: Series.dt.weekofyear and Series.dt.week have been deprecated.  Please use Series.dt.isocalendar().week instead.\n",
      "  for n in attr: df[prefix + n] = getattr(field.dt, n.lower())\n"
     ]
    },
    {
     "name": "stdout",
     "output_type": "stream",
     "text": [
      "CPU times: user 46.1 s, sys: 14.8 s, total: 1min\n",
      "Wall time: 1min\n"
     ]
    }
   ],
   "source": [
    "%%time\n",
    "n_sample = None\n",
    "X, continuous, categorical = radical_merging(train, building, weather_train,\n",
    "                    n_sample=n_sample)"
   ]
  },
  {
   "cell_type": "code",
   "execution_count": 15,
   "metadata": {},
   "outputs": [
    {
     "data": {
      "text/html": [
       "<div>\n",
       "<style scoped>\n",
       "    .dataframe tbody tr th:only-of-type {\n",
       "        vertical-align: middle;\n",
       "    }\n",
       "\n",
       "    .dataframe tbody tr th {\n",
       "        vertical-align: top;\n",
       "    }\n",
       "\n",
       "    .dataframe thead th {\n",
       "        text-align: right;\n",
       "    }\n",
       "</style>\n",
       "<table border=\"1\" class=\"dataframe\">\n",
       "  <thead>\n",
       "    <tr style=\"text-align: right;\">\n",
       "      <th></th>\n",
       "      <th>7622815</th>\n",
       "      <th>14315440</th>\n",
       "      <th>7023631</th>\n",
       "      <th>14499301</th>\n",
       "      <th>11611176</th>\n",
       "    </tr>\n",
       "  </thead>\n",
       "  <tbody>\n",
       "    <tr>\n",
       "      <th>building_id</th>\n",
       "      <td>1090</td>\n",
       "      <td>987</td>\n",
       "      <td>114</td>\n",
       "      <td>1249</td>\n",
       "      <td>1200</td>\n",
       "    </tr>\n",
       "    <tr>\n",
       "      <th>meter</th>\n",
       "      <td>0</td>\n",
       "      <td>1</td>\n",
       "      <td>0</td>\n",
       "      <td>3</td>\n",
       "      <td>2</td>\n",
       "    </tr>\n",
       "    <tr>\n",
       "      <th>meter_reading</th>\n",
       "      <td>5.64659</td>\n",
       "      <td>7.03229</td>\n",
       "      <td>6.67803</td>\n",
       "      <td>6.08808</td>\n",
       "      <td>4.42715</td>\n",
       "    </tr>\n",
       "    <tr>\n",
       "      <th>site_id</th>\n",
       "      <td>13</td>\n",
       "      <td>9</td>\n",
       "      <td>1</td>\n",
       "      <td>14</td>\n",
       "      <td>13</td>\n",
       "    </tr>\n",
       "    <tr>\n",
       "      <th>primary_use</th>\n",
       "      <td>Office</td>\n",
       "      <td>Education</td>\n",
       "      <td>Education</td>\n",
       "      <td>Office</td>\n",
       "      <td>Entertainment/public assembly</td>\n",
       "    </tr>\n",
       "    <tr>\n",
       "      <th>square_feet</th>\n",
       "      <td>305047</td>\n",
       "      <td>166395</td>\n",
       "      <td>139683</td>\n",
       "      <td>159384</td>\n",
       "      <td>545351</td>\n",
       "    </tr>\n",
       "    <tr>\n",
       "      <th>year_built</th>\n",
       "      <td>NaN</td>\n",
       "      <td>NaN</td>\n",
       "      <td>1958</td>\n",
       "      <td>NaN</td>\n",
       "      <td>NaN</td>\n",
       "    </tr>\n",
       "    <tr>\n",
       "      <th>floor_count</th>\n",
       "      <td>NaN</td>\n",
       "      <td>NaN</td>\n",
       "      <td>13</td>\n",
       "      <td>NaN</td>\n",
       "      <td>NaN</td>\n",
       "    </tr>\n",
       "    <tr>\n",
       "      <th>air_temperature</th>\n",
       "      <td>15</td>\n",
       "      <td>35</td>\n",
       "      <td>15.8</td>\n",
       "      <td>20.6</td>\n",
       "      <td>20</td>\n",
       "    </tr>\n",
       "    <tr>\n",
       "      <th>cloud_coverage</th>\n",
       "      <td>4</td>\n",
       "      <td>2</td>\n",
       "      <td>NaN</td>\n",
       "      <td>0</td>\n",
       "      <td>6</td>\n",
       "    </tr>\n",
       "    <tr>\n",
       "      <th>dew_temperature</th>\n",
       "      <td>8.3</td>\n",
       "      <td>21.7</td>\n",
       "      <td>15.8</td>\n",
       "      <td>19.4</td>\n",
       "      <td>17.2</td>\n",
       "    </tr>\n",
       "    <tr>\n",
       "      <th>precip_depth_1_hr</th>\n",
       "      <td>0</td>\n",
       "      <td>0</td>\n",
       "      <td>NaN</td>\n",
       "      <td>0</td>\n",
       "      <td>0</td>\n",
       "    </tr>\n",
       "    <tr>\n",
       "      <th>sea_level_pressure</th>\n",
       "      <td>1022.7</td>\n",
       "      <td>1012.7</td>\n",
       "      <td>1005.3</td>\n",
       "      <td>1019</td>\n",
       "      <td>1015</td>\n",
       "    </tr>\n",
       "    <tr>\n",
       "      <th>wind_direction</th>\n",
       "      <td>70</td>\n",
       "      <td>NaN</td>\n",
       "      <td>60</td>\n",
       "      <td>330</td>\n",
       "      <td>140</td>\n",
       "    </tr>\n",
       "    <tr>\n",
       "      <th>wind_speed</th>\n",
       "      <td>1.5</td>\n",
       "      <td>2.1</td>\n",
       "      <td>2.6</td>\n",
       "      <td>1.5</td>\n",
       "      <td>2.6</td>\n",
       "    </tr>\n",
       "    <tr>\n",
       "      <th>timestampYear</th>\n",
       "      <td>2016</td>\n",
       "      <td>2016</td>\n",
       "      <td>2016</td>\n",
       "      <td>2016</td>\n",
       "      <td>2016</td>\n",
       "    </tr>\n",
       "    <tr>\n",
       "      <th>timestampMonth</th>\n",
       "      <td>5</td>\n",
       "      <td>9</td>\n",
       "      <td>5</td>\n",
       "      <td>9</td>\n",
       "      <td>7</td>\n",
       "    </tr>\n",
       "    <tr>\n",
       "      <th>timestampWeek</th>\n",
       "      <td>20</td>\n",
       "      <td>37</td>\n",
       "      <td>19</td>\n",
       "      <td>38</td>\n",
       "      <td>30</td>\n",
       "    </tr>\n",
       "    <tr>\n",
       "      <th>timestampDay</th>\n",
       "      <td>21</td>\n",
       "      <td>17</td>\n",
       "      <td>10</td>\n",
       "      <td>21</td>\n",
       "      <td>31</td>\n",
       "    </tr>\n",
       "    <tr>\n",
       "      <th>timestampDayofweek</th>\n",
       "      <td>5</td>\n",
       "      <td>5</td>\n",
       "      <td>1</td>\n",
       "      <td>2</td>\n",
       "      <td>6</td>\n",
       "    </tr>\n",
       "    <tr>\n",
       "      <th>timestampDayofyear</th>\n",
       "      <td>142</td>\n",
       "      <td>261</td>\n",
       "      <td>131</td>\n",
       "      <td>265</td>\n",
       "      <td>213</td>\n",
       "    </tr>\n",
       "    <tr>\n",
       "      <th>timestampIs_month_end</th>\n",
       "      <td>False</td>\n",
       "      <td>False</td>\n",
       "      <td>False</td>\n",
       "      <td>False</td>\n",
       "      <td>True</td>\n",
       "    </tr>\n",
       "    <tr>\n",
       "      <th>timestampIs_month_start</th>\n",
       "      <td>False</td>\n",
       "      <td>False</td>\n",
       "      <td>False</td>\n",
       "      <td>False</td>\n",
       "      <td>False</td>\n",
       "    </tr>\n",
       "    <tr>\n",
       "      <th>timestampIs_quarter_end</th>\n",
       "      <td>False</td>\n",
       "      <td>False</td>\n",
       "      <td>False</td>\n",
       "      <td>False</td>\n",
       "      <td>False</td>\n",
       "    </tr>\n",
       "    <tr>\n",
       "      <th>timestampIs_quarter_start</th>\n",
       "      <td>False</td>\n",
       "      <td>False</td>\n",
       "      <td>False</td>\n",
       "      <td>False</td>\n",
       "      <td>False</td>\n",
       "    </tr>\n",
       "    <tr>\n",
       "      <th>timestampIs_year_end</th>\n",
       "      <td>False</td>\n",
       "      <td>False</td>\n",
       "      <td>False</td>\n",
       "      <td>False</td>\n",
       "      <td>False</td>\n",
       "    </tr>\n",
       "    <tr>\n",
       "      <th>timestampIs_year_start</th>\n",
       "      <td>False</td>\n",
       "      <td>False</td>\n",
       "      <td>False</td>\n",
       "      <td>False</td>\n",
       "      <td>False</td>\n",
       "    </tr>\n",
       "    <tr>\n",
       "      <th>timestampElapsed</th>\n",
       "      <td>1.46384e+09</td>\n",
       "      <td>1.47415e+09</td>\n",
       "      <td>1.46292e+09</td>\n",
       "      <td>1.47443e+09</td>\n",
       "      <td>1.46997e+09</td>\n",
       "    </tr>\n",
       "  </tbody>\n",
       "</table>\n",
       "</div>"
      ],
      "text/plain": [
       "                              7622815      14315440     7023631      14499301  \\\n",
       "building_id                       1090          987          114         1249   \n",
       "meter                                0            1            0            3   \n",
       "meter_reading                  5.64659      7.03229      6.67803      6.08808   \n",
       "site_id                             13            9            1           14   \n",
       "primary_use                     Office    Education    Education       Office   \n",
       "square_feet                     305047       166395       139683       159384   \n",
       "year_built                         NaN          NaN         1958          NaN   \n",
       "floor_count                        NaN          NaN           13          NaN   \n",
       "air_temperature                     15           35         15.8         20.6   \n",
       "cloud_coverage                       4            2          NaN            0   \n",
       "dew_temperature                    8.3         21.7         15.8         19.4   \n",
       "precip_depth_1_hr                    0            0          NaN            0   \n",
       "sea_level_pressure              1022.7       1012.7       1005.3         1019   \n",
       "wind_direction                      70          NaN           60          330   \n",
       "wind_speed                         1.5          2.1          2.6          1.5   \n",
       "timestampYear                     2016         2016         2016         2016   \n",
       "timestampMonth                       5            9            5            9   \n",
       "timestampWeek                       20           37           19           38   \n",
       "timestampDay                        21           17           10           21   \n",
       "timestampDayofweek                   5            5            1            2   \n",
       "timestampDayofyear                 142          261          131          265   \n",
       "timestampIs_month_end            False        False        False        False   \n",
       "timestampIs_month_start          False        False        False        False   \n",
       "timestampIs_quarter_end          False        False        False        False   \n",
       "timestampIs_quarter_start        False        False        False        False   \n",
       "timestampIs_year_end             False        False        False        False   \n",
       "timestampIs_year_start           False        False        False        False   \n",
       "timestampElapsed           1.46384e+09  1.47415e+09  1.46292e+09  1.47443e+09   \n",
       "\n",
       "                                                11611176  \n",
       "building_id                                         1200  \n",
       "meter                                                  2  \n",
       "meter_reading                                    4.42715  \n",
       "site_id                                               13  \n",
       "primary_use                Entertainment/public assembly  \n",
       "square_feet                                       545351  \n",
       "year_built                                           NaN  \n",
       "floor_count                                          NaN  \n",
       "air_temperature                                       20  \n",
       "cloud_coverage                                         6  \n",
       "dew_temperature                                     17.2  \n",
       "precip_depth_1_hr                                      0  \n",
       "sea_level_pressure                                  1015  \n",
       "wind_direction                                       140  \n",
       "wind_speed                                           2.6  \n",
       "timestampYear                                       2016  \n",
       "timestampMonth                                         7  \n",
       "timestampWeek                                         30  \n",
       "timestampDay                                          31  \n",
       "timestampDayofweek                                     6  \n",
       "timestampDayofyear                                   213  \n",
       "timestampIs_month_end                               True  \n",
       "timestampIs_month_start                            False  \n",
       "timestampIs_quarter_end                            False  \n",
       "timestampIs_quarter_start                          False  \n",
       "timestampIs_year_end                               False  \n",
       "timestampIs_year_start                             False  \n",
       "timestampElapsed                             1.46997e+09  "
      ]
     },
     "execution_count": 15,
     "metadata": {},
     "output_type": "execute_result"
    }
   ],
   "source": [
    "X.head().T"
   ]
  },
  {
   "cell_type": "code",
   "execution_count": 50,
   "metadata": {},
   "outputs": [
    {
     "name": "stdout",
     "output_type": "stream",
     "text": [
      "<class 'pandas.core.frame.DataFrame'>\n",
      "Int64Index: 20216100 entries, 0 to 20216099\n",
      "Data columns (total 28 columns):\n",
      " #   Column                     Dtype   \n",
      "---  ------                     -----   \n",
      " 0   building_id                category\n",
      " 1   meter                      category\n",
      " 2   meter_reading              float64 \n",
      " 3   site_id                    category\n",
      " 4   primary_use                category\n",
      " 5   square_feet                float64 \n",
      " 6   year_built                 float64 \n",
      " 7   floor_count                float64 \n",
      " 8   air_temperature            float64 \n",
      " 9   cloud_coverage             category\n",
      " 10  dew_temperature            float64 \n",
      " 11  precip_depth_1_hr          float64 \n",
      " 12  sea_level_pressure         float64 \n",
      " 13  wind_direction             float64 \n",
      " 14  wind_speed                 float64 \n",
      " 15  timestampYear              float64 \n",
      " 16  timestampMonth             category\n",
      " 17  timestampWeek              category\n",
      " 18  timestampDay               category\n",
      " 19  timestampDayofweek         category\n",
      " 20  timestampDayofyear         category\n",
      " 21  timestampIs_month_end      category\n",
      " 22  timestampIs_month_start    category\n",
      " 23  timestampIs_quarter_end    category\n",
      " 24  timestampIs_quarter_start  category\n",
      " 25  timestampIs_year_end       category\n",
      " 26  timestampIs_year_start     category\n",
      " 27  timestampElapsed           float64 \n",
      "dtypes: category(16), float64(12)\n",
      "memory usage: 2.3 GB\n"
     ]
    }
   ],
   "source": [
    "X.info()"
   ]
  },
  {
   "cell_type": "code",
   "execution_count": 17,
   "metadata": {},
   "outputs": [
    {
     "data": {
      "text/plain": [
       "(['square_feet',\n",
       "  'year_built',\n",
       "  'floor_count',\n",
       "  'air_temperature',\n",
       "  'dew_temperature',\n",
       "  'precip_depth_1_hr',\n",
       "  'sea_level_pressure',\n",
       "  'wind_direction',\n",
       "  'wind_speed',\n",
       "  'timestampYear',\n",
       "  'timestampElapsed'],\n",
       " ['building_id',\n",
       "  'site_id',\n",
       "  'meter',\n",
       "  'primary_use',\n",
       "  'cloud_coverage',\n",
       "  'timestampMonth',\n",
       "  'timestampWeek',\n",
       "  'timestampDay',\n",
       "  'timestampDayofweek',\n",
       "  'timestampDayofyear',\n",
       "  'timestampIs_month_end',\n",
       "  'timestampIs_month_start',\n",
       "  'timestampIs_quarter_end',\n",
       "  'timestampIs_quarter_start',\n",
       "  'timestampIs_year_end',\n",
       "  'timestampIs_year_start'])"
      ]
     },
     "execution_count": 17,
     "metadata": {},
     "output_type": "execute_result"
    }
   ],
   "source": [
    "continuous, categorical"
   ]
  },
  {
   "cell_type": "code",
   "execution_count": 18,
   "metadata": {},
   "outputs": [],
   "source": [
    "#export\n",
    "def split_dataset(X:pd.DataFrame, split_kind:str='random',\n",
    "                  train_frac:float=8):\n",
    "    \n",
    "    def random_split():\n",
    "        n_train = int(len(X)*train_frac)\n",
    "        train_bool = X.index.isin(np.random.choice(X.index.values, size=n_train, replace=False))\n",
    "        return train_bool\n",
    "    \n",
    "    def time_split():\n",
    "#        print(X.columns)\n",
    "        time_col = 'timestampElapsed'\n",
    "        ts = X[time_col].sort_values(ascending=True)\n",
    "#        print(ts)\n",
    "        ix = int(len(X)*train_frac)\n",
    "#        print('ix', ix)\n",
    "        threshold_t = ts.iloc[ix:].values[0]\n",
    "#        print('threshold_t', threshold_t)\n",
    "        return X[time_col] < threshold_t\n",
    "    \n",
    "    split_funs = {\n",
    "        'random': random_split,\n",
    "        'time': time_split,\n",
    "    }\n",
    "    \n",
    "    assert split_kind in split_funs\n",
    "    train_bool = split_funs[split_kind]()\n",
    "    \n",
    "    train_idx = np.where(train_bool)[0]\n",
    "    valid_idx = np.where(~train_bool)[0]\n",
    "\n",
    "    return (list(train_idx), list(valid_idx))"
   ]
  },
  {
   "cell_type": "code",
   "execution_count": 51,
   "metadata": {},
   "outputs": [
    {
     "name": "stdout",
     "output_type": "stream",
     "text": [
      "CPU times: user 4 ms, sys: 0 ns, total: 4 ms\n",
      "Wall time: 6.41 ms\n"
     ]
    }
   ],
   "source": [
    "%%time\n",
    "split_kind = 'random'\n",
    "#split_kind = 'time'\n",
    "#splits = split_dataset(X, split_kind=split_kind, train_frac=.8)\n",
    "splits=None"
   ]
  },
  {
   "cell_type": "code",
   "execution_count": 20,
   "metadata": {},
   "outputs": [
    {
     "data": {
      "text/plain": [
       "[1, 2, 3, 4, 5, 6, 7, 8, 9, 10, 11, 12]"
      ]
     },
     "execution_count": 20,
     "metadata": {},
     "output_type": "execute_result"
    }
   ],
   "source": [
    "sorted(X.iloc[splits[0]].loc[:, 'timestampMonth'].unique())"
   ]
  },
  {
   "cell_type": "code",
   "execution_count": null,
   "metadata": {},
   "outputs": [],
   "source": [
    "X.info()"
   ]
  },
  {
   "cell_type": "markdown",
   "metadata": {},
   "source": [
    "Super simplistic input data"
   ]
  },
  {
   "cell_type": "code",
   "execution_count": 21,
   "metadata": {},
   "outputs": [
    {
     "name": "stdout",
     "output_type": "stream",
     "text": [
      "CPU times: user 72 ms, sys: 0 ns, total: 72 ms\n",
      "Wall time: 86.3 ms\n"
     ]
    }
   ],
   "source": [
    "%%time\n",
    "procs = [Categorify, FillMissing, Normalize]\n",
    "to = TabularPandas(X, procs, ['meter'],\n",
    "                   [], y_names='meter_reading', splits=splits)"
   ]
  },
  {
   "cell_type": "markdown",
   "metadata": {},
   "source": [
    "All input data"
   ]
  },
  {
   "cell_type": "code",
   "execution_count": 58,
   "metadata": {},
   "outputs": [
    {
     "name": "stdout",
     "output_type": "stream",
     "text": [
      "CPU times: user 3min 15s, sys: 11.9 s, total: 3min 27s\n",
      "Wall time: 3min 27s\n"
     ]
    }
   ],
   "source": [
    "%%time\n",
    "procs = [Categorify, FillMissing, Normalize]\n",
    "to = TabularPandas(X, procs, categorical,\n",
    "                   continuous, y_names='meter_reading', splits=splits)"
   ]
  },
  {
   "cell_type": "code",
   "execution_count": 34,
   "metadata": {},
   "outputs": [
    {
     "data": {
      "text/html": [
       "<div>\n",
       "<style scoped>\n",
       "    .dataframe tbody tr th:only-of-type {\n",
       "        vertical-align: middle;\n",
       "    }\n",
       "\n",
       "    .dataframe tbody tr th {\n",
       "        vertical-align: top;\n",
       "    }\n",
       "\n",
       "    .dataframe thead th {\n",
       "        text-align: right;\n",
       "    }\n",
       "</style>\n",
       "<table border=\"1\" class=\"dataframe\">\n",
       "  <thead>\n",
       "    <tr style=\"text-align: right;\">\n",
       "      <th></th>\n",
       "      <th>building_id</th>\n",
       "      <th>site_id</th>\n",
       "      <th>meter</th>\n",
       "      <th>primary_use</th>\n",
       "      <th>cloud_coverage</th>\n",
       "      <th>timestampMonth</th>\n",
       "      <th>timestampWeek</th>\n",
       "      <th>timestampDay</th>\n",
       "      <th>timestampDayofweek</th>\n",
       "      <th>timestampDayofyear</th>\n",
       "      <th>...</th>\n",
       "      <th>year_built</th>\n",
       "      <th>floor_count</th>\n",
       "      <th>air_temperature</th>\n",
       "      <th>dew_temperature</th>\n",
       "      <th>precip_depth_1_hr</th>\n",
       "      <th>sea_level_pressure</th>\n",
       "      <th>wind_direction</th>\n",
       "      <th>wind_speed</th>\n",
       "      <th>timestampYear</th>\n",
       "      <th>timestampElapsed</th>\n",
       "    </tr>\n",
       "  </thead>\n",
       "  <tbody>\n",
       "    <tr>\n",
       "      <th>14315440</th>\n",
       "      <td>988</td>\n",
       "      <td>10</td>\n",
       "      <td>2</td>\n",
       "      <td>1</td>\n",
       "      <td>3</td>\n",
       "      <td>9</td>\n",
       "      <td>37</td>\n",
       "      <td>17</td>\n",
       "      <td>6</td>\n",
       "      <td>261</td>\n",
       "      <td>...</td>\n",
       "      <td>0.080364</td>\n",
       "      <td>-0.119288</td>\n",
       "      <td>1.752461</td>\n",
       "      <td>1.381249</td>\n",
       "      <td>-0.096668</td>\n",
       "      <td>-0.492926</td>\n",
       "      <td>0.062007</td>\n",
       "      <td>-0.560048</td>\n",
       "      <td>0.0</td>\n",
       "      <td>0.725373</td>\n",
       "    </tr>\n",
       "    <tr>\n",
       "      <th>7023631</th>\n",
       "      <td>115</td>\n",
       "      <td>2</td>\n",
       "      <td>1</td>\n",
       "      <td>1</td>\n",
       "      <td>0</td>\n",
       "      <td>5</td>\n",
       "      <td>19</td>\n",
       "      <td>10</td>\n",
       "      <td>2</td>\n",
       "      <td>131</td>\n",
       "      <td>...</td>\n",
       "      <td>-0.540858</td>\n",
       "      <td>5.749377</td>\n",
       "      <td>-0.014284</td>\n",
       "      <td>0.797441</td>\n",
       "      <td>-0.096668</td>\n",
       "      <td>-1.571569</td>\n",
       "      <td>-1.026462</td>\n",
       "      <td>-0.338741</td>\n",
       "      <td>0.0</td>\n",
       "      <td>-0.507203</td>\n",
       "    </tr>\n",
       "    <tr>\n",
       "      <th>14499301</th>\n",
       "      <td>1250</td>\n",
       "      <td>15</td>\n",
       "      <td>4</td>\n",
       "      <td>7</td>\n",
       "      <td>1</td>\n",
       "      <td>9</td>\n",
       "      <td>38</td>\n",
       "      <td>21</td>\n",
       "      <td>3</td>\n",
       "      <td>265</td>\n",
       "      <td>...</td>\n",
       "      <td>0.080364</td>\n",
       "      <td>-0.119288</td>\n",
       "      <td>0.427403</td>\n",
       "      <td>1.153663</td>\n",
       "      <td>-0.096668</td>\n",
       "      <td>0.425374</td>\n",
       "      <td>1.422593</td>\n",
       "      <td>-0.825617</td>\n",
       "      <td>0.0</td>\n",
       "      <td>0.756191</td>\n",
       "    </tr>\n",
       "    <tr>\n",
       "      <th>18618247</th>\n",
       "      <td>1162</td>\n",
       "      <td>14</td>\n",
       "      <td>2</td>\n",
       "      <td>7</td>\n",
       "      <td>0</td>\n",
       "      <td>12</td>\n",
       "      <td>48</td>\n",
       "      <td>3</td>\n",
       "      <td>6</td>\n",
       "      <td>338</td>\n",
       "      <td>...</td>\n",
       "      <td>0.080364</td>\n",
       "      <td>-0.119288</td>\n",
       "      <td>-1.624598</td>\n",
       "      <td>-1.369576</td>\n",
       "      <td>-0.096668</td>\n",
       "      <td>1.678924</td>\n",
       "      <td>0.696947</td>\n",
       "      <td>-0.117433</td>\n",
       "      <td>0.0</td>\n",
       "      <td>1.451083</td>\n",
       "    </tr>\n",
       "    <tr>\n",
       "      <th>5579339</th>\n",
       "      <td>939</td>\n",
       "      <td>10</td>\n",
       "      <td>1</td>\n",
       "      <td>5</td>\n",
       "      <td>1</td>\n",
       "      <td>4</td>\n",
       "      <td>15</td>\n",
       "      <td>15</td>\n",
       "      <td>5</td>\n",
       "      <td>106</td>\n",
       "      <td>...</td>\n",
       "      <td>0.080364</td>\n",
       "      <td>-0.119288</td>\n",
       "      <td>-0.032687</td>\n",
       "      <td>0.550065</td>\n",
       "      <td>-0.096668</td>\n",
       "      <td>-0.390891</td>\n",
       "      <td>-1.117168</td>\n",
       "      <td>-0.825617</td>\n",
       "      <td>0.0</td>\n",
       "      <td>-0.750951</td>\n",
       "    </tr>\n",
       "    <tr>\n",
       "      <th>...</th>\n",
       "      <td>...</td>\n",
       "      <td>...</td>\n",
       "      <td>...</td>\n",
       "      <td>...</td>\n",
       "      <td>...</td>\n",
       "      <td>...</td>\n",
       "      <td>...</td>\n",
       "      <td>...</td>\n",
       "      <td>...</td>\n",
       "      <td>...</td>\n",
       "      <td>...</td>\n",
       "      <td>...</td>\n",
       "      <td>...</td>\n",
       "      <td>...</td>\n",
       "      <td>...</td>\n",
       "      <td>...</td>\n",
       "      <td>...</td>\n",
       "      <td>...</td>\n",
       "      <td>...</td>\n",
       "      <td>...</td>\n",
       "      <td>...</td>\n",
       "    </tr>\n",
       "    <tr>\n",
       "      <th>2150223</th>\n",
       "      <td>980</td>\n",
       "      <td>10</td>\n",
       "      <td>3</td>\n",
       "      <td>2</td>\n",
       "      <td>1</td>\n",
       "      <td>2</td>\n",
       "      <td>6</td>\n",
       "      <td>8</td>\n",
       "      <td>1</td>\n",
       "      <td>39</td>\n",
       "      <td>...</td>\n",
       "      <td>0.080364</td>\n",
       "      <td>-0.119288</td>\n",
       "      <td>0.068532</td>\n",
       "      <td>-1.696113</td>\n",
       "      <td>-0.096668</td>\n",
       "      <td>1.387400</td>\n",
       "      <td>1.513299</td>\n",
       "      <td>1.475981</td>\n",
       "      <td>0.0</td>\n",
       "      <td>-1.379094</td>\n",
       "    </tr>\n",
       "    <tr>\n",
       "      <th>6705941</th>\n",
       "      <td>1009</td>\n",
       "      <td>11</td>\n",
       "      <td>4</td>\n",
       "      <td>1</td>\n",
       "      <td>1</td>\n",
       "      <td>5</td>\n",
       "      <td>18</td>\n",
       "      <td>5</td>\n",
       "      <td>4</td>\n",
       "      <td>126</td>\n",
       "      <td>...</td>\n",
       "      <td>0.080364</td>\n",
       "      <td>-0.706154</td>\n",
       "      <td>0.114541</td>\n",
       "      <td>-0.548286</td>\n",
       "      <td>-0.096668</td>\n",
       "      <td>-1.003093</td>\n",
       "      <td>-0.119405</td>\n",
       "      <td>-0.117433</td>\n",
       "      <td>0.0</td>\n",
       "      <td>-0.560931</td>\n",
       "    </tr>\n",
       "    <tr>\n",
       "      <th>18596981</th>\n",
       "      <td>1081</td>\n",
       "      <td>14</td>\n",
       "      <td>3</td>\n",
       "      <td>1</td>\n",
       "      <td>0</td>\n",
       "      <td>12</td>\n",
       "      <td>48</td>\n",
       "      <td>3</td>\n",
       "      <td>6</td>\n",
       "      <td>338</td>\n",
       "      <td>...</td>\n",
       "      <td>0.080364</td>\n",
       "      <td>-0.119288</td>\n",
       "      <td>-1.523378</td>\n",
       "      <td>-1.260730</td>\n",
       "      <td>-0.096668</td>\n",
       "      <td>1.547735</td>\n",
       "      <td>0.696947</td>\n",
       "      <td>0.325182</td>\n",
       "      <td>0.0</td>\n",
       "      <td>1.447135</td>\n",
       "    </tr>\n",
       "    <tr>\n",
       "      <th>13510055</th>\n",
       "      <td>710</td>\n",
       "      <td>6</td>\n",
       "      <td>1</td>\n",
       "      <td>1</td>\n",
       "      <td>0</td>\n",
       "      <td>9</td>\n",
       "      <td>35</td>\n",
       "      <td>3</td>\n",
       "      <td>6</td>\n",
       "      <td>247</td>\n",
       "      <td>...</td>\n",
       "      <td>0.390975</td>\n",
       "      <td>-0.706154</td>\n",
       "      <td>0.188156</td>\n",
       "      <td>0.916182</td>\n",
       "      <td>-0.096668</td>\n",
       "      <td>0.002660</td>\n",
       "      <td>0.787653</td>\n",
       "      <td>1.254674</td>\n",
       "      <td>0.0</td>\n",
       "      <td>0.590260</td>\n",
       "    </tr>\n",
       "    <tr>\n",
       "      <th>15659598</th>\n",
       "      <td>1337</td>\n",
       "      <td>16</td>\n",
       "      <td>2</td>\n",
       "      <td>7</td>\n",
       "      <td>1</td>\n",
       "      <td>10</td>\n",
       "      <td>41</td>\n",
       "      <td>11</td>\n",
       "      <td>2</td>\n",
       "      <td>285</td>\n",
       "      <td>...</td>\n",
       "      <td>-2.766903</td>\n",
       "      <td>-0.119288</td>\n",
       "      <td>-0.087898</td>\n",
       "      <td>-0.765978</td>\n",
       "      <td>-0.096668</td>\n",
       "      <td>2.203664</td>\n",
       "      <td>0.152712</td>\n",
       "      <td>0.325182</td>\n",
       "      <td>0.0</td>\n",
       "      <td>0.950551</td>\n",
       "    </tr>\n",
       "  </tbody>\n",
       "</table>\n",
       "<p>80000 rows × 35 columns</p>\n",
       "</div>"
      ],
      "text/plain": [
       "          building_id  site_id  meter  primary_use  cloud_coverage  \\\n",
       "14315440          988       10      2            1               3   \n",
       "7023631           115        2      1            1               0   \n",
       "14499301         1250       15      4            7               1   \n",
       "18618247         1162       14      2            7               0   \n",
       "5579339           939       10      1            5               1   \n",
       "...               ...      ...    ...          ...             ...   \n",
       "2150223           980       10      3            2               1   \n",
       "6705941          1009       11      4            1               1   \n",
       "18596981         1081       14      3            1               0   \n",
       "13510055          710        6      1            1               0   \n",
       "15659598         1337       16      2            7               1   \n",
       "\n",
       "          timestampMonth  timestampWeek  timestampDay  timestampDayofweek  \\\n",
       "14315440               9             37            17                   6   \n",
       "7023631                5             19            10                   2   \n",
       "14499301               9             38            21                   3   \n",
       "18618247              12             48             3                   6   \n",
       "5579339                4             15            15                   5   \n",
       "...                  ...            ...           ...                 ...   \n",
       "2150223                2              6             8                   1   \n",
       "6705941                5             18             5                   4   \n",
       "18596981              12             48             3                   6   \n",
       "13510055               9             35             3                   6   \n",
       "15659598              10             41            11                   2   \n",
       "\n",
       "          timestampDayofyear  ...  year_built  floor_count  air_temperature  \\\n",
       "14315440                 261  ...    0.080364    -0.119288         1.752461   \n",
       "7023631                  131  ...   -0.540858     5.749377        -0.014284   \n",
       "14499301                 265  ...    0.080364    -0.119288         0.427403   \n",
       "18618247                 338  ...    0.080364    -0.119288        -1.624598   \n",
       "5579339                  106  ...    0.080364    -0.119288        -0.032687   \n",
       "...                      ...  ...         ...          ...              ...   \n",
       "2150223                   39  ...    0.080364    -0.119288         0.068532   \n",
       "6705941                  126  ...    0.080364    -0.706154         0.114541   \n",
       "18596981                 338  ...    0.080364    -0.119288        -1.523378   \n",
       "13510055                 247  ...    0.390975    -0.706154         0.188156   \n",
       "15659598                 285  ...   -2.766903    -0.119288        -0.087898   \n",
       "\n",
       "          dew_temperature  precip_depth_1_hr  sea_level_pressure  \\\n",
       "14315440         1.381249          -0.096668           -0.492926   \n",
       "7023631          0.797441          -0.096668           -1.571569   \n",
       "14499301         1.153663          -0.096668            0.425374   \n",
       "18618247        -1.369576          -0.096668            1.678924   \n",
       "5579339          0.550065          -0.096668           -0.390891   \n",
       "...                   ...                ...                 ...   \n",
       "2150223         -1.696113          -0.096668            1.387400   \n",
       "6705941         -0.548286          -0.096668           -1.003093   \n",
       "18596981        -1.260730          -0.096668            1.547735   \n",
       "13510055         0.916182          -0.096668            0.002660   \n",
       "15659598        -0.765978          -0.096668            2.203664   \n",
       "\n",
       "          wind_direction  wind_speed  timestampYear  timestampElapsed  \n",
       "14315440        0.062007   -0.560048            0.0          0.725373  \n",
       "7023631        -1.026462   -0.338741            0.0         -0.507203  \n",
       "14499301        1.422593   -0.825617            0.0          0.756191  \n",
       "18618247        0.696947   -0.117433            0.0          1.451083  \n",
       "5579339        -1.117168   -0.825617            0.0         -0.750951  \n",
       "...                  ...         ...            ...               ...  \n",
       "2150223         1.513299    1.475981            0.0         -1.379094  \n",
       "6705941        -0.119405   -0.117433            0.0         -0.560931  \n",
       "18596981        0.696947    0.325182            0.0          1.447135  \n",
       "13510055        0.787653    1.254674            0.0          0.590260  \n",
       "15659598        0.152712    0.325182            0.0          0.950551  \n",
       "\n",
       "[80000 rows x 35 columns]"
      ]
     },
     "execution_count": 34,
     "metadata": {},
     "output_type": "execute_result"
    }
   ],
   "source": [
    "to.train.xs"
   ]
  },
  {
   "cell_type": "code",
   "execution_count": 35,
   "metadata": {},
   "outputs": [
    {
     "data": {
      "text/html": [
       "<div>\n",
       "<style scoped>\n",
       "    .dataframe tbody tr th:only-of-type {\n",
       "        vertical-align: middle;\n",
       "    }\n",
       "\n",
       "    .dataframe tbody tr th {\n",
       "        vertical-align: top;\n",
       "    }\n",
       "\n",
       "    .dataframe thead th {\n",
       "        text-align: right;\n",
       "    }\n",
       "</style>\n",
       "<table border=\"1\" class=\"dataframe\">\n",
       "  <thead>\n",
       "    <tr style=\"text-align: right;\">\n",
       "      <th></th>\n",
       "      <th>meter_reading</th>\n",
       "    </tr>\n",
       "  </thead>\n",
       "  <tbody>\n",
       "    <tr>\n",
       "      <th>14315440</th>\n",
       "      <td>7.032289</td>\n",
       "    </tr>\n",
       "    <tr>\n",
       "      <th>7023631</th>\n",
       "      <td>6.678028</td>\n",
       "    </tr>\n",
       "    <tr>\n",
       "      <th>14499301</th>\n",
       "      <td>6.088081</td>\n",
       "    </tr>\n",
       "    <tr>\n",
       "      <th>18618247</th>\n",
       "      <td>0.000000</td>\n",
       "    </tr>\n",
       "    <tr>\n",
       "      <th>5579339</th>\n",
       "      <td>2.251292</td>\n",
       "    </tr>\n",
       "    <tr>\n",
       "      <th>...</th>\n",
       "      <td>...</td>\n",
       "    </tr>\n",
       "    <tr>\n",
       "      <th>2150223</th>\n",
       "      <td>4.836679</td>\n",
       "    </tr>\n",
       "    <tr>\n",
       "      <th>6705941</th>\n",
       "      <td>1.993352</td>\n",
       "    </tr>\n",
       "    <tr>\n",
       "      <th>18596981</th>\n",
       "      <td>6.662174</td>\n",
       "    </tr>\n",
       "    <tr>\n",
       "      <th>13510055</th>\n",
       "      <td>1.526056</td>\n",
       "    </tr>\n",
       "    <tr>\n",
       "      <th>15659598</th>\n",
       "      <td>1.298965</td>\n",
       "    </tr>\n",
       "  </tbody>\n",
       "</table>\n",
       "<p>80000 rows × 1 columns</p>\n",
       "</div>"
      ],
      "text/plain": [
       "          meter_reading\n",
       "14315440       7.032289\n",
       "7023631        6.678028\n",
       "14499301       6.088081\n",
       "18618247       0.000000\n",
       "5579339        2.251292\n",
       "...                 ...\n",
       "2150223        4.836679\n",
       "6705941        1.993352\n",
       "18596981       6.662174\n",
       "13510055       1.526056\n",
       "15659598       1.298965\n",
       "\n",
       "[80000 rows x 1 columns]"
      ]
     },
     "execution_count": 35,
     "metadata": {},
     "output_type": "execute_result"
    }
   ],
   "source": [
    "to.train.ys"
   ]
  },
  {
   "cell_type": "markdown",
   "metadata": {},
   "source": [
    "### Modelling with sklearn"
   ]
  },
  {
   "cell_type": "code",
   "execution_count": 53,
   "metadata": {},
   "outputs": [],
   "source": [
    "m = linear_model.LinearRegression()"
   ]
  },
  {
   "cell_type": "code",
   "execution_count": null,
   "metadata": {},
   "outputs": [],
   "source": [
    "m = ensemble.RandomForestRegressor(n_estimators=100, max_features=.75, criterion='mse')"
   ]
  },
  {
   "cell_type": "code",
   "execution_count": 54,
   "metadata": {},
   "outputs": [
    {
     "name": "stdout",
     "output_type": "stream",
     "text": [
      "CPU times: user 80 ms, sys: 0 ns, total: 80 ms\n",
      "Wall time: 50.2 ms\n"
     ]
    },
    {
     "data": {
      "text/plain": [
       "LinearRegression()"
      ]
     },
     "execution_count": 54,
     "metadata": {},
     "output_type": "execute_result"
    }
   ],
   "source": [
    "%%time\n",
    "m.fit(to.train.xs, to.train.ys.values.ravel())"
   ]
  },
  {
   "cell_type": "code",
   "execution_count": 55,
   "metadata": {},
   "outputs": [
    {
     "data": {
      "text/plain": [
       "tensor(2.3323, dtype=torch.float64)"
      ]
     },
     "execution_count": 55,
     "metadata": {},
     "output_type": "execute_result"
    }
   ],
   "source": [
    "evaluate_torch(torch.from_numpy(to.valid.ys.values), \n",
    "               torch.from_numpy(m.predict(to.valid.xs.values).ravel()))"
   ]
  },
  {
   "cell_type": "markdown",
   "metadata": {},
   "source": [
    "### Modelling with fastai"
   ]
  },
  {
   "cell_type": "code",
   "execution_count": 59,
   "metadata": {},
   "outputs": [],
   "source": [
    "dls = to.dataloaders()"
   ]
  },
  {
   "cell_type": "code",
   "execution_count": null,
   "metadata": {},
   "outputs": [],
   "source": [
    "y_range = [np.min([to.train.ys.values.min(), to.valid.ys.values.min()]),\n",
    "           np.max([to.train.ys.values.max(), to.valid.ys.values.max()]),]\n",
    "y_range"
   ]
  },
  {
   "cell_type": "code",
   "execution_count": 65,
   "metadata": {},
   "outputs": [
    {
     "data": {
      "text/plain": [
       "[0.0, 16.902212]"
      ]
     },
     "execution_count": 65,
     "metadata": {},
     "output_type": "execute_result"
    }
   ],
   "source": [
    "y_range = [to.train.ys.values.min(),\n",
    "           to.train.ys.values.max()]\n",
    "y_range"
   ]
  },
  {
   "cell_type": "code",
   "execution_count": 66,
   "metadata": {},
   "outputs": [],
   "source": [
    "learn = tabular_learner(dls, y_range=y_range, layers=[500,250],\n",
    "                        n_out=1, loss_func=evaluate_torch)"
   ]
  },
  {
   "cell_type": "code",
   "execution_count": 67,
   "metadata": {},
   "outputs": [
    {
     "data": {
      "text/html": [],
      "text/plain": [
       "<IPython.core.display.HTML object>"
      ]
     },
     "metadata": {},
     "output_type": "display_data"
    },
    {
     "data": {
      "text/plain": [
       "SuggestedLRs(lr_min=0.03630780577659607, lr_steep=0.0014454397605732083)"
      ]
     },
     "execution_count": 67,
     "metadata": {},
     "output_type": "execute_result"
    },
    {
     "data": {
      "image/png": "[encoded data removed]",
      "text/plain": [
       "<Figure size 432x288 with 1 Axes>"
      ]
     },
     "metadata": {
      "needs_background": "light"
     },
     "output_type": "display_data"
    }
   ],
   "source": [
    "learn.lr_find()"
   ]
  },
  {
   "cell_type": "code",
   "execution_count": null,
   "metadata": {},
   "outputs": [
    {
     "data": {
      "text/html": [
       "\n",
       "    <div>\n",
       "        <style>\n",
       "            /* Turns off some styling */\n",
       "            progress {\n",
       "                /* gets rid of default border in Firefox and Opera. */\n",
       "                border: none;\n",
       "                /* Needs to be in here for Safari polyfill so background images work as expected. */\n",
       "                background-size: auto;\n",
       "            }\n",
       "            .progress-bar-interrupted, .progress-bar-interrupted::-webkit-progress-bar {\n",
       "                background: #F44336;\n",
       "            }\n",
       "        </style>\n",
       "      <progress value='0' class='' max='5' style='width:300px; height:20px; vertical-align: middle;'></progress>\n",
       "      0.00% [0/5 00:00<00:00]\n",
       "    </div>\n",
       "    \n",
       "<table border=\"1\" class=\"dataframe\">\n",
       "  <thead>\n",
       "    <tr style=\"text-align: left;\">\n",
       "      <th>epoch</th>\n",
       "      <th>train_loss</th>\n",
       "      <th>valid_loss</th>\n",
       "      <th>time</th>\n",
       "    </tr>\n",
       "  </thead>\n",
       "  <tbody>\n",
       "  </tbody>\n",
       "</table><p>\n",
       "\n",
       "    <div>\n",
       "        <style>\n",
       "            /* Turns off some styling */\n",
       "            progress {\n",
       "                /* gets rid of default border in Firefox and Opera. */\n",
       "                border: none;\n",
       "                /* Needs to be in here for Safari polyfill so background images work as expected. */\n",
       "                background-size: auto;\n",
       "            }\n",
       "            .progress-bar-interrupted, .progress-bar-interrupted::-webkit-progress-bar {\n",
       "                background: #F44336;\n",
       "            }\n",
       "        </style>\n",
       "      <progress value='37971' class='' max='315876' style='width:300px; height:20px; vertical-align: middle;'></progress>\n",
       "      12.02% [37971/315876 12:40<1:32:49 0.8178]\n",
       "    </div>\n",
       "    "
      ],
      "text/plain": [
       "<IPython.core.display.HTML object>"
      ]
     },
     "metadata": {},
     "output_type": "display_data"
    }
   ],
   "source": [
    "learn.fit_one_cycle(5, 1e-2)"
   ]
  },
  {
   "cell_type": "code",
   "execution_count": 46,
   "metadata": {},
   "outputs": [
    {
     "data": {
      "text/html": [],
      "text/plain": [
       "<IPython.core.display.HTML object>"
      ]
     },
     "metadata": {},
     "output_type": "display_data"
    }
   ],
   "source": [
    "preds, targs = learn.get_preds()"
   ]
  },
  {
   "cell_type": "code",
   "execution_count": 47,
   "metadata": {},
   "outputs": [
    {
     "data": {
      "text/plain": [
       "(tensor([[5.8980],\n",
       "         [0.1494],\n",
       "         [3.6583],\n",
       "         ...,\n",
       "         [5.2112],\n",
       "         [4.5638],\n",
       "         [3.3567]]),\n",
       " tensor([[5.6466],\n",
       "         [4.4271],\n",
       "         [3.3935],\n",
       "         ...,\n",
       "         [5.1401],\n",
       "         [4.9075],\n",
       "         [3.6016]]))"
      ]
     },
     "execution_count": 47,
     "metadata": {},
     "output_type": "execute_result"
    }
   ],
   "source": [
    "preds, targs"
   ]
  },
  {
   "cell_type": "code",
   "execution_count": 48,
   "metadata": {},
   "outputs": [
    {
     "data": {
      "text/plain": [
       "tensor(0.9828)"
      ]
     },
     "execution_count": 48,
     "metadata": {},
     "output_type": "execute_result"
    }
   ],
   "source": [
    "evaluate_torch(targs, preds)"
   ]
  },
  {
   "cell_type": "markdown",
   "metadata": {},
   "source": [
    "**randomly splitting**\n",
    "    \n",
    "Finding (modified target values, all info = info except time):\n",
    "- Linear:\n",
    "    - meter only @100k: 2.1\n",
    "    - all info minus time @100k: 2.3\n",
    "    - all info incl time @100k: 2.32\n",
    "    - all info incl time + ids @100k: 2.32\n",
    "- RandomForest:\n",
    "    - meter only @100k: 2.2\n",
    "    - all info minus time @100k: 2.7\n",
    "    - all info incl time @100k: 2.74\n",
    "    - all info incl time + ids @100k: 2.82\n",
    "- tabular_learner:\n",
    "    - meter only @100k: 2.1\n",
    "    - all info minus time @100k: 1.56\n",
    "    - all info incl time @100k: 1.52\n",
    "    - all info incl time + ids @100k: 0.96\n",
    "    \n",
    "**splitting along time**\n",
    "Finding:\n",
    "- Linear:\n",
    "    - meter only @100k: 2.1\n",
    "    - all info minus time @100K: 2.2\n",
    "    - all info incl time @100k: 2.3\n",
    "    - all info incl time + ids @100k: 2.29\n",
    "- RandomForest:\n",
    "    - meter only @100k: 2.1\n",
    "    - all info minus time @100K: 2.7\n",
    "    - all info incl time @100k: 2.52\n",
    "    - all info incl time + ids @100k: 2.62\n",
    "- tabular_learner:\n",
    "    - meter only @100k: 2.06\n",
    "    - all info minus time @100K: 1.62\n",
    "    - all info incl time @100k: 1.62\n",
    "    - all info incl time + ids @100k: 1.31"
   ]
  },
  {
   "cell_type": "code",
   "execution_count": null,
   "metadata": {},
   "outputs": [],
   "source": []
  }
 ],
 "metadata": {
  "kernelspec": {
   "display_name": "Python [conda env:.conda-py38_fastai]",
   "language": "python",
   "name": "conda-env-.conda-py38_fastai-py"
  },
  "language_info": {
   "codemirror_mode": {
    "name": "ipython",
    "version": 3
   },
   "file_extension": ".py",
   "mimetype": "text/x-python",
   "name": "python",
   "nbconvert_exporter": "python",
   "pygments_lexer": "ipython3",
   "version": "3.8.5"
  },
  "toc": {
   "base_numbering": 1,
   "nav_menu": {},
   "number_sections": true,
   "sideBar": true,
   "skip_h1_title": false,
   "title_cell": "Table of Contents",
   "title_sidebar": "Contents",
   "toc_cell": false,
   "toc_position": {},
   "toc_section_display": true,
   "toc_window_display": false
  }
 },
 "nbformat": 4,
 "nbformat_minor": 2
}

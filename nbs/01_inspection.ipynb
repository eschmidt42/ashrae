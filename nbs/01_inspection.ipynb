{
 "cells": [
  {
   "cell_type": "code",
   "execution_count": null,
   "metadata": {},
   "outputs": [],
   "source": [
    "# default_exp inspection"
   ]
  },
  {
   "cell_type": "markdown",
   "metadata": {},
   "source": [
    "# Inspection of the data\n",
    "\n",
    "> API details."
   ]
  },
  {
   "cell_type": "markdown",
   "metadata": {},
   "source": [
    "Qs:\n",
    "- how many data points for each building / meter?\n",
    "- all train/test timestamps covered with weather data?\n",
    "- weather trends?\n",
    "- trends by meter?\n",
    "- what does a simple model need?\n",
    "- buiding type trends?\n",
    "- **anomalies?**"
   ]
  },
  {
   "cell_type": "code",
   "execution_count": null,
   "metadata": {},
   "outputs": [],
   "source": [
    "%load_ext autoreload\n",
    "%autoreload 2"
   ]
  },
  {
   "cell_type": "code",
   "execution_count": null,
   "metadata": {},
   "outputs": [],
   "source": [
    "#export\n",
    "import pandas as pd\n",
    "from pathlib import Path\n",
    "import os\n",
    "import plotly.graph_objects as go\n",
    "import plotly.express as px\n",
    "import numpy as np"
   ]
  },
  {
   "cell_type": "code",
   "execution_count": null,
   "metadata": {},
   "outputs": [],
   "source": [
    "pd.options.plotting.backend = \"plotly\""
   ]
  },
  {
   "cell_type": "code",
   "execution_count": null,
   "metadata": {},
   "outputs": [],
   "source": [
    "base_path = Path(\"../data\")"
   ]
  },
  {
   "cell_type": "code",
   "execution_count": null,
   "metadata": {},
   "outputs": [],
   "source": [
    "csvs = sorted([base_path/v for v in os.listdir(base_path) if v.endswith('.csv')])\n",
    "csvs"
   ]
  },
  {
   "cell_type": "code",
   "execution_count": null,
   "metadata": {},
   "outputs": [],
   "source": [
    "train_csv = csvs[3]\n",
    "train_weather_csv = csvs[-1]\n",
    "test_csv = csvs[2]\n",
    "test_weather_csv = csvs[-2]\n",
    "meta_csv = csvs[0]\n",
    "\n",
    "train_csv, train_weather_csv, test_csv, test_weather_csv, meta_csv"
   ]
  },
  {
   "cell_type": "markdown",
   "metadata": {},
   "source": [
    "## Loading"
   ]
  },
  {
   "cell_type": "code",
   "execution_count": null,
   "metadata": {},
   "outputs": [],
   "source": [
    "%%time\n",
    "train = pd.read_csv(train_csv, parse_dates=['timestamp'])\n",
    "train.head()"
   ]
  },
  {
   "cell_type": "code",
   "execution_count": null,
   "metadata": {},
   "outputs": [],
   "source": [
    "%%time\n",
    "test = pd.read_csv(test_csv, parse_dates=['timestamp'])\n",
    "test.head()"
   ]
  },
  {
   "cell_type": "code",
   "execution_count": null,
   "metadata": {},
   "outputs": [],
   "source": [
    "len(train), len(test), len(test)/len(train)"
   ]
  },
  {
   "cell_type": "markdown",
   "metadata": {},
   "source": [
    "Finding:\n",
    "- test samples ~2x train samples\n",
    "- train samples ~2mio"
   ]
  },
  {
   "cell_type": "code",
   "execution_count": null,
   "metadata": {},
   "outputs": [],
   "source": [
    "%%time\n",
    "weather_train = pd.read_csv(train_weather_csv)\n",
    "weather_train.head()"
   ]
  },
  {
   "cell_type": "code",
   "execution_count": null,
   "metadata": {},
   "outputs": [],
   "source": [
    "%%time\n",
    "weather_test = pd.read_csv(test_weather_csv)\n",
    "weather_test.head()"
   ]
  },
  {
   "cell_type": "code",
   "execution_count": null,
   "metadata": {},
   "outputs": [],
   "source": [
    "%%time\n",
    "building = pd.read_csv(meta_csv)\n",
    "building.head()"
   ]
  },
  {
   "cell_type": "code",
   "execution_count": null,
   "metadata": {},
   "outputs": [],
   "source": [
    "len(train), len(weather_train)"
   ]
  },
  {
   "cell_type": "markdown",
   "metadata": {},
   "source": [
    "## How many data points each building, meter, site, building type"
   ]
  },
  {
   "cell_type": "code",
   "execution_count": null,
   "metadata": {},
   "outputs": [],
   "source": [
    "train['building_id'].nunique()"
   ]
  },
  {
   "cell_type": "code",
   "execution_count": null,
   "metadata": {},
   "outputs": [],
   "source": [
    "%%time\n",
    "px.box(train.groupby('building_id').size())"
   ]
  },
  {
   "cell_type": "code",
   "execution_count": null,
   "metadata": {},
   "outputs": [],
   "source": [
    "%%time\n",
    "train.groupby('meter').size()"
   ]
  },
  {
   "cell_type": "code",
   "execution_count": null,
   "metadata": {},
   "outputs": [],
   "source": [
    "%%time\n",
    "px.box(weather.groupby('site_id').size())"
   ]
  },
  {
   "cell_type": "code",
   "execution_count": null,
   "metadata": {},
   "outputs": [],
   "source": [
    "%%time\n",
    "train.join(building.loc[:,['building_id', 'primary_use']], on='building_id', rsuffix='_building').groupby('primary_use').size().sort_values()"
   ]
  },
  {
   "cell_type": "markdown",
   "metadata": {},
   "source": [
    "Finding: \n",
    "- buildings vary with data points significantly\n",
    "- sites vary barely with data points\n",
    "- meter vary with data points by 10x between least and most data points\n",
    "- `primary_use`: Religious worship 32k, Education 8.1mio"
   ]
  },
  {
   "cell_type": "markdown",
   "metadata": {},
   "source": [
    "## Anomalies: meter reading, weather, building properties, gaps in the time series"
   ]
  },
  {
   "cell_type": "markdown",
   "metadata": {},
   "source": [
    "### meter readings (output)"
   ]
  },
  {
   "cell_type": "markdown",
   "metadata": {},
   "source": [
    "#### counting number of meter readings"
   ]
  },
  {
   "cell_type": "code",
   "execution_count": null,
   "metadata": {},
   "outputs": [],
   "source": [
    "train.groupby('meter').()"
   ]
  },
  {
   "cell_type": "code",
   "execution_count": null,
   "metadata": {},
   "outputs": [],
   "source": [
    "train['timestamp'].unique()[:10]"
   ]
  },
  {
   "cell_type": "code",
   "execution_count": null,
   "metadata": {},
   "outputs": [],
   "source": [
    "ideal_ts = pd.date_range(train['timestamp'].min(), train['timestamp'].max(), freq='60T')\n",
    "ideal_ts[:10]"
   ]
  },
  {
   "cell_type": "code",
   "execution_count": null,
   "metadata": {},
   "outputs": [],
   "source": [
    "len(ideal_ts), train['timestamp'].nunique()"
   ]
  },
  {
   "cell_type": "markdown",
   "metadata": {},
   "source": [
    "Finding: \n",
    "- the number of timestamps in the training set matches the expected number of timestamps of 1hour intervals"
   ]
  },
  {
   "cell_type": "code",
   "execution_count": null,
   "metadata": {},
   "outputs": [],
   "source": [
    "train_counts = train.groupby('timestamp').size()\n",
    "test_counts = test.groupby('timestamp').size()\n",
    "\n",
    "fig = go.Figure(data=[\n",
    "    go.Scatter(x=train_counts.index, y=train_counts.values, name='train'),\n",
    "    go.Scatter(x=test_counts.index, y=test_counts.values, name='test'),\n",
    "], layout=go.Layout(title='Data point count v time: train v test'))\n",
    "\n",
    "fig.show()"
   ]
  },
  {
   "cell_type": "markdown",
   "metadata": {},
   "source": [
    "Finding: \n",
    "- meter counts inconsistent vs time for training"
   ]
  },
  {
   "cell_type": "markdown",
   "metadata": {},
   "source": [
    "#### meter value trends"
   ]
  },
  {
   "cell_type": "code",
   "execution_count": null,
   "metadata": {},
   "outputs": [],
   "source": [
    "train.head()"
   ]
  },
  {
   "cell_type": "code",
   "execution_count": null,
   "metadata": {},
   "outputs": [],
   "source": [
    "train['meter'].isna().sum()"
   ]
  },
  {
   "cell_type": "markdown",
   "metadata": {},
   "source": [
    "No NaNs in the output"
   ]
  },
  {
   "cell_type": "code",
   "execution_count": null,
   "metadata": {},
   "outputs": [],
   "source": [
    "%%time\n",
    "train_counts = (train.dropna(subset=['meter']).groupby(['timestamp', 'meter'])\n",
    "                .agg(**{\n",
    "                    'mean': pd.NamedAgg('meter_reading', np.mean),\n",
    "                    'median': pd.NamedAgg('meter_reading', np.median),\n",
    "                    '5%': pd.NamedAgg('meter_reading', lambda x: np.percentile(x, 5)),\n",
    "                    '95%': pd.NamedAgg('meter_reading', lambda x: np.percentile(x, 95)),\n",
    "                }).unstack(level=-1))\n",
    "train_counts.head()"
   ]
  },
  {
   "cell_type": "code",
   "execution_count": null,
   "metadata": {},
   "outputs": [],
   "source": [
    "%%time\n",
    "for meter in [0,1,2,3]:\n",
    "    tmp = train_counts.loc[:,pd.IndexSlice[:,meter]]\n",
    "    tmp.columns = tmp.columns.droplevel(level=1)\n",
    "    tmp = tmp.reset_index()\n",
    "    \n",
    "    fig = go.Figure(data=[\n",
    "        go.Scatter(x=tmp['timestamp'], y=tmp['5%'], mode='lines', name='5%'),\n",
    "        go.Scatter(x=tmp['timestamp'], y=tmp['95%'], mode='lines', fill='tonexty', name='5% - 95%'),\n",
    "        go.Scatter(x=tmp['timestamp'], y=tmp['mean'], mode='lines', name='mean'),\n",
    "        go.Scatter(x=tmp['timestamp'], y=tmp['median'], mode='lines', name='median'),\n",
    "    ], layout=go.Layout(title=f'meter: {meter}'))\n",
    "    fig.show()\n",
    "    "
   ]
  },
  {
   "cell_type": "markdown",
   "metadata": {},
   "source": [
    "meter map: `{0: electricity, 1: chilledwater, 2: steam, 3: hotwater}`"
   ]
  },
  {
   "cell_type": "markdown",
   "metadata": {},
   "source": [
    "Finding:\n",
    "- the 4 meter types have quite different time behaviors\n",
    "- meters 0 & 1 have a seasonabl behavior based on the weekday (but much stronger for meter 0 than 1)\n",
    "- meter 2 has measurement anomalies has significant anomalous time periods  (median exceeds the 95% values)\n",
    "- meter 2 & 3 have seasonal effect based on the time of year it seems "
   ]
  },
  {
   "cell_type": "code",
   "execution_count": null,
   "metadata": {},
   "outputs": [],
   "source": [
    "%%time\n",
    "for meter in [0,1,2,3]:\n",
    "    tmp = train.loc[train['meter']==meter, :].sort_values('meter_reading', ascending=False)\n",
    "    print('meter', meter)\n",
    "    display(tmp.head())\n",
    "    "
   ]
  },
  {
   "cell_type": "markdown",
   "metadata": {},
   "source": [
    "### building properties"
   ]
  },
  {
   "cell_type": "code",
   "execution_count": null,
   "metadata": {},
   "outputs": [],
   "source": [
    "building.head()"
   ]
  },
  {
   "cell_type": "code",
   "execution_count": null,
   "metadata": {},
   "outputs": [],
   "source": [
    "building['in_train'] = building['building_id'].isin(train['building_id'])\n",
    "building['in_test'] = building['building_id'].isin(test['building_id'])\n",
    "building.head()"
   ]
  },
  {
   "cell_type": "code",
   "execution_count": null,
   "metadata": {},
   "outputs": [],
   "source": [
    "building.groupby(['in_train', 'in_test']).size()"
   ]
  },
  {
   "cell_type": "code",
   "execution_count": null,
   "metadata": {},
   "outputs": [],
   "source": [
    "px.box(building['square_feet'])"
   ]
  },
  {
   "cell_type": "code",
   "execution_count": null,
   "metadata": {},
   "outputs": [],
   "source": [
    "px.box(building['year_built'])"
   ]
  },
  {
   "cell_type": "code",
   "execution_count": null,
   "metadata": {},
   "outputs": [],
   "source": [
    "px.box(building['floor_count'])"
   ]
  },
  {
   "cell_type": "markdown",
   "metadata": {},
   "source": [
    "Finding:\n",
    "- `floor_count`, `year_built` and `square_feet` seem reasonable overall\n",
    "- all buildings in train and test"
   ]
  },
  {
   "cell_type": "markdown",
   "metadata": {},
   "source": [
    "### weather properties"
   ]
  },
  {
   "cell_type": "code",
   "execution_count": null,
   "metadata": {},
   "outputs": [],
   "source": [
    "weather_train.head()"
   ]
  },
  {
   "cell_type": "code",
   "execution_count": null,
   "metadata": {},
   "outputs": [],
   "source": [
    "cols = weather_train.columns.values[2:]\n",
    "weather_train.loc[:,cols].isna().sum() / len(weather_train)"
   ]
  },
  {
   "cell_type": "markdown",
   "metadata": {},
   "source": [
    "Finding:\n",
    "- `cloud_coverage` 50% NaNs\n",
    "- `precip_depth_1_hr` 35.9% NaNs "
   ]
  },
  {
   "cell_type": "code",
   "execution_count": null,
   "metadata": {},
   "outputs": [],
   "source": [
    "%%time\n",
    "for col in cols:\n",
    "    tmp = (weather_train.dropna(subset=[col]).groupby(['timestamp'])\n",
    "              .agg(**{\n",
    "                  'mean': pd.NamedAgg(col, np.mean,),\n",
    "                  'median': pd.NamedAgg(col, np.median),\n",
    "                  '5%': pd.NamedAgg(col, lambda x: np.percentile(x, 5)),\n",
    "                  '95%': pd.NamedAgg(col, lambda x: np.percentile(x, 95)),\n",
    "              }).reset_index())\n",
    "    display(tmp.head())\n",
    "    \n",
    "    fig = go.Figure(data=[\n",
    "        go.Scatter(x=tmp['timestamp'], y=tmp['5%'], mode='lines', name='5%'),\n",
    "        go.Scatter(x=tmp['timestamp'], y=tmp['95%'], mode='lines', fill='tonexty', name='5% - 95%'),\n",
    "        go.Scatter(x=tmp['timestamp'], y=tmp['mean'], mode='lines', name='mean'),\n",
    "        go.Scatter(x=tmp['timestamp'], y=tmp['median'], mode='lines', name='median'),\n",
    "    ], layout=go.Layout(title=f'column: {col}'))\n",
    "    fig.show()\n"
   ]
  },
  {
   "cell_type": "markdown",
   "metadata": {},
   "source": [
    "Finding:\n",
    "- temperatures $\\Rightarrow$ buildings predomonantly in the northern hemisphere"
   ]
  },
  {
   "cell_type": "code",
   "execution_count": null,
   "metadata": {},
   "outputs": [],
   "source": []
  }
 ],
 "metadata": {
  "kernelspec": {
   "display_name": "Python [conda env:.conda-py38_fastai]",
   "language": "python",
   "name": "conda-env-.conda-py38_fastai-py"
  }
 },
 "nbformat": 4,
 "nbformat_minor": 2
}

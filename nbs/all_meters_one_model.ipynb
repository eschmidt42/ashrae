{
 "cells": [
  {
   "cell_type": "code",
   "execution_count": 40,
   "metadata": {},
   "outputs": [],
   "source": [
    "# default_exp modelling"
   ]
  },
  {
   "cell_type": "markdown",
   "metadata": {},
   "source": [
    "# Modelling & submitting\n",
    "\n",
    "> Playing with different models and submitting predictions over the test set to kaggle. "
   ]
  },
  {
   "cell_type": "markdown",
   "metadata": {},
   "source": [
    "Current implementation of this notebook leads to (private leaderboard score): \n",
    "- baseline (linear regression on dep_var_stats and meter 1hot) 1.7\n",
    "- RandomForest, tabular_learner, lgbm at ~1.45, \n",
    "- ensembling tabular_learner, RandomForest and lgbm gives ~1.4"
   ]
  },
  {
   "cell_type": "code",
   "execution_count": 41,
   "metadata": {},
   "outputs": [
    {
     "name": "stdout",
     "output_type": "stream",
     "text": [
      "The autoreload extension is already loaded. To reload it, use:\n",
      "  %reload_ext autoreload\n"
     ]
    }
   ],
   "source": [
    "%load_ext autoreload\n",
    "%autoreload 2"
   ]
  },
  {
   "cell_type": "code",
   "execution_count": 42,
   "metadata": {},
   "outputs": [],
   "source": [
    "#export\n",
    "from ashrae import loading, preprocessing, feature_testing\n",
    "\n",
    "import pandas as pd\n",
    "from pathlib import Path\n",
    "import os\n",
    "import plotly.graph_objects as go\n",
    "import plotly.express as px\n",
    "import numpy as np\n",
    "import typing\n",
    "import pickle\n",
    "\n",
    "\n",
    "from sklearn import linear_model, tree, model_selection, ensemble\n",
    "\n",
    "from fastai.tabular.all import *\n",
    "\n",
    "import lightgbm as lgb\n",
    "\n",
    "import ipywidgets as widgets"
   ]
  },
  {
   "cell_type": "code",
   "execution_count": 43,
   "metadata": {},
   "outputs": [],
   "source": [
    "import tqdm\n",
    "from multiprocessing import Pool"
   ]
  },
  {
   "cell_type": "code",
   "execution_count": 44,
   "metadata": {},
   "outputs": [],
   "source": [
    "pd.options.plotting.backend = \"plotly\""
   ]
  },
  {
   "cell_type": "code",
   "execution_count": 45,
   "metadata": {},
   "outputs": [],
   "source": [
    "do_test = True\n",
    "do_submit = False\n",
    "data_path = loading.DATA_PATH"
   ]
  },
  {
   "cell_type": "code",
   "execution_count": 46,
   "metadata": {},
   "outputs": [],
   "source": [
    "loading.N_TRAIN = 100_000\n",
    "loading.N_TEST = 100_000"
   ]
  },
  {
   "cell_type": "markdown",
   "metadata": {},
   "source": [
    "Loading from scratch"
   ]
  },
  {
   "cell_type": "code",
   "execution_count": 47,
   "metadata": {},
   "outputs": [
    {
     "name": "stderr",
     "output_type": "stream",
     "text": [
      "2020-11-19 19:02:41.074 | INFO     | ashrae.loading:get_csvs:36 - Collected csv paths: {Path('../data/weather_test.csv'): 'weather_test', Path('../data/sample_submission.csv'): None, Path('../data/my_submission.csv'): None, Path('../data/test.csv'): 'test', Path('../data/train.csv'): 'train', Path('../data/ashrae-energy-prediction-publicleaderboard.csv'): 'public-leaderboard', Path('../data/weather_train.csv'): 'weather_train', Path('../data/building_metadata.csv'): 'building'}\n",
      "2020-11-19 19:02:51.656 | INFO     | ashrae.loading:get_meter_data:44 - Loading meter data: ../data/train.csv\n",
      "2020-11-19 19:03:13.775 | INFO     | ashrae.loading:get_meter_data:44 - Loading meter data: ../data/test.csv\n",
      "2020-11-19 19:03:13.797 | INFO     | ashrae.loading:test_meter_train_and_test_set:80 - Passed basic meter info tests\n",
      "2020-11-19 19:03:13.798 | INFO     | ashrae.loading:get_building_data:87 - Loading building data: ../data/building_metadata.csv\n",
      "2020-11-19 19:03:13.814 | INFO     | ashrae.loading:test_building:98 - Passed basic building info test\n",
      "2020-11-19 19:03:13.815 | INFO     | ashrae.loading:get_weather_data:104 - Loading weather data: ../data/weather_train.csv\n",
      "2020-11-19 19:03:13.963 | INFO     | ashrae.loading:test_weather:115 - Passed basic weather tests\n",
      "2020-11-19 19:03:13.964 | INFO     | ashrae.loading:get_weather_data:104 - Loading weather data: ../data/weather_test.csv\n",
      "2020-11-19 19:03:14.262 | INFO     | ashrae.loading:test_weather:115 - Passed basic weather tests\n"
     ]
    },
    {
     "name": "stdout",
     "output_type": "stream",
     "text": [
      "CPU times: user 30.4 s, sys: 2.84 s, total: 33.2 s\n",
      "Wall time: 33.2 s\n"
     ]
    }
   ],
   "source": [
    "%%time\n",
    "ashrae_data = loading.load_all()"
   ]
  },
  {
   "cell_type": "markdown",
   "metadata": {},
   "source": [
    "Takes about 3min30"
   ]
  },
  {
   "cell_type": "code",
   "execution_count": 48,
   "metadata": {},
   "outputs": [
    {
     "name": "stderr",
     "output_type": "stream",
     "text": [
      "2020-11-19 19:03:14.305 | INFO     | ashrae.preprocessing:add_random_noise_features:360 - Added noise feature: \n",
      "\tcontinuous: ['random_noise']\n",
      "2020-11-19 19:03:14.540 | INFO     | ashrae.preprocessing:add_time_features:477 - Added categorical time features: ['timestampMonth', 'timestampDay', 'timestampWeek', 'timestampDayofweek', 'timestampDayofyear', 'timestampIs_month_end', 'timestampIs_month_start', 'timestampIs_quarter_start', 'timestampIs_quarter_end', 'timestampIs_year_start', 'timestampIs_year_end', 'timestampHour', 'timestampIs_us_holiday']\n",
      "2020-11-19 19:03:16.306 | INFO     | ashrae.preprocessing:add_weather_features:453 - Added weather features: \n",
      "\tcategorical: ['air_temperature_na(processor)', 'cloud_coverage_na(processor)', 'dew_temperature_na(processor)', 'precip_depth_1_hr_na(processor)', 'sea_level_pressure_na(processor)', 'wind_direction_na(processor)', 'wind_speed_na(processor)']\n",
      "\tcontinuous: ['wind_direction', 'air_temperature', 'dew_temperature', 'precip_depth_1_hr', 'sea_level_pressure', 'wind_speed', 'cloud_coverage']\n",
      "2020-11-19 19:03:16.357 | INFO     | ashrae.preprocessing:add_building_features:376 - Added building features: \n",
      "\tcategorical: ['site_id', 'primary_use']\n",
      "\tcontinuous: ['square_feet', 'year_built', 'floor_count']\n",
      "2020-11-19 19:03:16.479 | INFO     | ashrae.preprocessing:__call__:141 - Reduced samples by 0 rows = 0.00 %\n"
     ]
    },
    {
     "data": {
      "text/html": [
       "<div>\n",
       "<style scoped>\n",
       "    .dataframe tbody tr th:only-of-type {\n",
       "        vertical-align: middle;\n",
       "    }\n",
       "\n",
       "    .dataframe tbody tr th {\n",
       "        vertical-align: top;\n",
       "    }\n",
       "\n",
       "    .dataframe thead th {\n",
       "        text-align: right;\n",
       "    }\n",
       "</style>\n",
       "<table border=\"1\" class=\"dataframe\">\n",
       "  <thead>\n",
       "    <tr style=\"text-align: right;\">\n",
       "      <th></th>\n",
       "      <th>building_id</th>\n",
       "      <th>meter</th>\n",
       "      <th>timestamp</th>\n",
       "      <th>timestampWeek</th>\n",
       "      <th>meter_reading_log1p</th>\n",
       "      <th>random_noise</th>\n",
       "      <th>timestampMonth</th>\n",
       "      <th>timestampDay</th>\n",
       "      <th>timestampDayofweek</th>\n",
       "      <th>timestampDayofyear</th>\n",
       "      <th>...</th>\n",
       "      <th>dew_temperature_na(processor)</th>\n",
       "      <th>precip_depth_1_hr_na(processor)</th>\n",
       "      <th>sea_level_pressure_na(processor)</th>\n",
       "      <th>wind_direction_na(processor)</th>\n",
       "      <th>wind_speed_na(processor)</th>\n",
       "      <th>site_id</th>\n",
       "      <th>primary_use</th>\n",
       "      <th>square_feet</th>\n",
       "      <th>year_built</th>\n",
       "      <th>floor_count</th>\n",
       "    </tr>\n",
       "  </thead>\n",
       "  <tbody>\n",
       "    <tr>\n",
       "      <th>0</th>\n",
       "      <td>371</td>\n",
       "      <td>0</td>\n",
       "      <td>2016-02-03 12:00:00</td>\n",
       "      <td>5</td>\n",
       "      <td>1.595339</td>\n",
       "      <td>-0.507730</td>\n",
       "      <td>2</td>\n",
       "      <td>3</td>\n",
       "      <td>2</td>\n",
       "      <td>34</td>\n",
       "      <td>...</td>\n",
       "      <td>False</td>\n",
       "      <td>False</td>\n",
       "      <td>False</td>\n",
       "      <td>False</td>\n",
       "      <td>False</td>\n",
       "      <td>3</td>\n",
       "      <td>Entertainment/public assembly</td>\n",
       "      <td>5554</td>\n",
       "      <td>NaN</td>\n",
       "      <td>NaN</td>\n",
       "    </tr>\n",
       "    <tr>\n",
       "      <th>1</th>\n",
       "      <td>747</td>\n",
       "      <td>0</td>\n",
       "      <td>2016-10-16 12:00:00</td>\n",
       "      <td>41</td>\n",
       "      <td>3.036553</td>\n",
       "      <td>-1.761493</td>\n",
       "      <td>10</td>\n",
       "      <td>16</td>\n",
       "      <td>6</td>\n",
       "      <td>290</td>\n",
       "      <td>...</td>\n",
       "      <td>False</td>\n",
       "      <td>False</td>\n",
       "      <td>False</td>\n",
       "      <td>False</td>\n",
       "      <td>False</td>\n",
       "      <td>6</td>\n",
       "      <td>Education</td>\n",
       "      <td>30531</td>\n",
       "      <td>NaN</td>\n",
       "      <td>NaN</td>\n",
       "    </tr>\n",
       "    <tr>\n",
       "      <th>2</th>\n",
       "      <td>944</td>\n",
       "      <td>0</td>\n",
       "      <td>2016-10-02 22:00:00</td>\n",
       "      <td>39</td>\n",
       "      <td>4.828314</td>\n",
       "      <td>1.503788</td>\n",
       "      <td>10</td>\n",
       "      <td>2</td>\n",
       "      <td>6</td>\n",
       "      <td>276</td>\n",
       "      <td>...</td>\n",
       "      <td>False</td>\n",
       "      <td>False</td>\n",
       "      <td>False</td>\n",
       "      <td>False</td>\n",
       "      <td>False</td>\n",
       "      <td>9</td>\n",
       "      <td>Services</td>\n",
       "      <td>389641</td>\n",
       "      <td>NaN</td>\n",
       "      <td>NaN</td>\n",
       "    </tr>\n",
       "    <tr>\n",
       "      <th>3</th>\n",
       "      <td>324</td>\n",
       "      <td>0</td>\n",
       "      <td>2016-10-26 20:00:00</td>\n",
       "      <td>43</td>\n",
       "      <td>3.316003</td>\n",
       "      <td>1.039234</td>\n",
       "      <td>10</td>\n",
       "      <td>26</td>\n",
       "      <td>2</td>\n",
       "      <td>300</td>\n",
       "      <td>...</td>\n",
       "      <td>False</td>\n",
       "      <td>False</td>\n",
       "      <td>False</td>\n",
       "      <td>False</td>\n",
       "      <td>False</td>\n",
       "      <td>3</td>\n",
       "      <td>Entertainment/public assembly</td>\n",
       "      <td>11910</td>\n",
       "      <td>NaN</td>\n",
       "      <td>NaN</td>\n",
       "    </tr>\n",
       "    <tr>\n",
       "      <th>4</th>\n",
       "      <td>100</td>\n",
       "      <td>0</td>\n",
       "      <td>2016-05-28 03:00:00</td>\n",
       "      <td>21</td>\n",
       "      <td>5.229268</td>\n",
       "      <td>-0.986456</td>\n",
       "      <td>5</td>\n",
       "      <td>28</td>\n",
       "      <td>5</td>\n",
       "      <td>149</td>\n",
       "      <td>...</td>\n",
       "      <td>False</td>\n",
       "      <td>False</td>\n",
       "      <td>False</td>\n",
       "      <td>False</td>\n",
       "      <td>False</td>\n",
       "      <td>0</td>\n",
       "      <td>Lodging/residential</td>\n",
       "      <td>24456</td>\n",
       "      <td>1968.0</td>\n",
       "      <td>NaN</td>\n",
       "    </tr>\n",
       "  </tbody>\n",
       "</table>\n",
       "<p>5 rows × 38 columns</p>\n",
       "</div>"
      ],
      "text/plain": [
       "  building_id meter           timestamp timestampWeek  meter_reading_log1p  \\\n",
       "0         371     0 2016-02-03 12:00:00             5             1.595339   \n",
       "1         747     0 2016-10-16 12:00:00            41             3.036553   \n",
       "2         944     0 2016-10-02 22:00:00            39             4.828314   \n",
       "3         324     0 2016-10-26 20:00:00            43             3.316003   \n",
       "4         100     0 2016-05-28 03:00:00            21             5.229268   \n",
       "\n",
       "   random_noise timestampMonth timestampDay timestampDayofweek  \\\n",
       "0     -0.507730              2            3                  2   \n",
       "1     -1.761493             10           16                  6   \n",
       "2      1.503788             10            2                  6   \n",
       "3      1.039234             10           26                  2   \n",
       "4     -0.986456              5           28                  5   \n",
       "\n",
       "  timestampDayofyear  ...  dew_temperature_na(processor)  \\\n",
       "0                 34  ...                          False   \n",
       "1                290  ...                          False   \n",
       "2                276  ...                          False   \n",
       "3                300  ...                          False   \n",
       "4                149  ...                          False   \n",
       "\n",
       "   precip_depth_1_hr_na(processor)  sea_level_pressure_na(processor)  \\\n",
       "0                            False                             False   \n",
       "1                            False                             False   \n",
       "2                            False                             False   \n",
       "3                            False                             False   \n",
       "4                            False                             False   \n",
       "\n",
       "   wind_direction_na(processor)  wind_speed_na(processor)  site_id  \\\n",
       "0                         False                     False        3   \n",
       "1                         False                     False        6   \n",
       "2                         False                     False        9   \n",
       "3                         False                     False        3   \n",
       "4                         False                     False        0   \n",
       "\n",
       "                     primary_use square_feet  year_built  floor_count  \n",
       "0  Entertainment/public assembly        5554         NaN          NaN  \n",
       "1                      Education       30531         NaN          NaN  \n",
       "2                       Services      389641         NaN          NaN  \n",
       "3  Entertainment/public assembly       11910         NaN          NaN  \n",
       "4            Lodging/residential       24456      1968.0          NaN  \n",
       "\n",
       "[5 rows x 38 columns]"
      ]
     },
     "metadata": {},
     "output_type": "display_data"
    },
    {
     "data": {
      "text/plain": [
       "{'conts': ['random_noise',\n",
       "  'wind_direction',\n",
       "  'air_temperature',\n",
       "  'dew_temperature',\n",
       "  'precip_depth_1_hr',\n",
       "  'sea_level_pressure',\n",
       "  'wind_speed',\n",
       "  'cloud_coverage',\n",
       "  'square_feet',\n",
       "  'year_built',\n",
       "  'floor_count'],\n",
       " 'cats': ['building_id',\n",
       "  'meter',\n",
       "  'timestampMonth',\n",
       "  'timestampDay',\n",
       "  'timestampWeek',\n",
       "  'timestampDayofweek',\n",
       "  'timestampDayofyear',\n",
       "  'timestampIs_month_end',\n",
       "  'timestampIs_month_start',\n",
       "  'timestampIs_quarter_start',\n",
       "  'timestampIs_quarter_end',\n",
       "  'timestampIs_year_start',\n",
       "  'timestampIs_year_end',\n",
       "  'timestampHour',\n",
       "  'timestampIs_us_holiday',\n",
       "  'air_temperature_na(processor)',\n",
       "  'cloud_coverage_na(processor)',\n",
       "  'dew_temperature_na(processor)',\n",
       "  'precip_depth_1_hr_na(processor)',\n",
       "  'sea_level_pressure_na(processor)',\n",
       "  'wind_direction_na(processor)',\n",
       "  'wind_speed_na(processor)',\n",
       "  'site_id',\n",
       "  'primary_use'],\n",
       " 'dep_var': 'meter_reading_log1p'}"
      ]
     },
     "metadata": {},
     "output_type": "display_data"
    },
    {
     "name": "stderr",
     "output_type": "stream",
     "text": [
      "2020-11-19 19:03:16.520 | INFO     | ashrae.preprocessing:add_random_noise_features:360 - Added noise feature: \n",
      "\tcontinuous: ['random_noise']\n"
     ]
    },
    {
     "name": "stdout",
     "output_type": "stream",
     "text": [
      "CPU times: user 6 µs, sys: 0 ns, total: 6 µs\n",
      "Wall time: 11.7 µs\n"
     ]
    },
    {
     "name": "stderr",
     "output_type": "stream",
     "text": [
      "2020-11-19 19:03:16.743 | INFO     | ashrae.preprocessing:add_time_features:477 - Added categorical time features: ['timestampMonth', 'timestampDay', 'timestampWeek', 'timestampDayofweek', 'timestampDayofyear', 'timestampIs_month_end', 'timestampIs_month_start', 'timestampIs_quarter_start', 'timestampIs_quarter_end', 'timestampIs_year_start', 'timestampIs_year_end', 'timestampHour', 'timestampIs_us_holiday']\n",
      "2020-11-19 19:03:20.094 | INFO     | ashrae.preprocessing:add_weather_features:453 - Added weather features: \n",
      "\tcategorical: ['air_temperature_na(processor)', 'cloud_coverage_na(processor)', 'dew_temperature_na(processor)', 'precip_depth_1_hr_na(processor)', 'sea_level_pressure_na(processor)', 'wind_direction_na(processor)', 'wind_speed_na(processor)']\n",
      "\tcontinuous: ['wind_direction', 'air_temperature', 'dew_temperature', 'precip_depth_1_hr', 'sea_level_pressure', 'wind_speed', 'cloud_coverage']\n",
      "2020-11-19 19:03:20.142 | INFO     | ashrae.preprocessing:add_building_features:376 - Added building features: \n",
      "\tcategorical: ['site_id', 'primary_use']\n",
      "\tcontinuous: ['square_feet', 'year_built', 'floor_count']\n",
      "2020-11-19 19:03:20.276 | INFO     | ashrae.preprocessing:__call__:141 - Reduced samples by 0 rows = 0.00 %\n"
     ]
    },
    {
     "name": "stdout",
     "output_type": "stream",
     "text": [
      "CPU times: user 5.9 s, sys: 99.4 ms, total: 6 s\n",
      "Wall time: 5.98 s\n"
     ]
    }
   ],
   "source": [
    "%%time\n",
    "processor = preprocessing.Processor() # t_train=t_train\n",
    "tfms_config = {\n",
    "#     'fix_bid_363':{},\n",
    "#     'fix_bid_1099':{'threshold': 10.},\n",
    "#     'remove_bad_meter0_readings_of_first_141days': {},\n",
    "#     'remove_not_summer_0s_meter_2_and_3': {},\n",
    "#     'remove_0s_meter0': {},\n",
    "#     'remove_outliers':{'f':10,'dep_var':'meter_reading'},\n",
    "#     'remove_imputed_weeks':{'dep_var':'meter_reading'},\n",
    "#     'add_dep_var_stats':{},\n",
    "    'add_random_noise_features':{},\n",
    "    'add_time_features':{},\n",
    "    'add_weather_features':{'fix_time_offset':True,\n",
    "                            'add_na_indicators':True,\n",
    "                            'impute_nas':True},\n",
    "    'add_building_features':{},\n",
    "#     'add_onehot_encoded':{},\n",
    "}\n",
    "\n",
    "df, var_names = processor(ashrae_data['meter_train'], tfms_configs=tfms_config,\n",
    "                          df_weather=ashrae_data['weather_train'],\n",
    "                          df_building=ashrae_data['building'])\n",
    "display(df.head(), var_names)\n",
    "\n",
    "%time\n",
    "df_test, _ = processor(ashrae_data['meter_test'], tfms_configs=tfms_config,\n",
    "                         df_weather=ashrae_data['weather_test'],\n",
    "                         df_building=ashrae_data['building'])\n",
    "df_test = preprocessing.align_test(df, var_names, df_test)"
   ]
  },
  {
   "cell_type": "code",
   "execution_count": 49,
   "metadata": {},
   "outputs": [
    {
     "name": "stdout",
     "output_type": "stream",
     "text": [
      "CPU times: user 0 ns, sys: 6 µs, total: 6 µs\n",
      "Wall time: 10.5 µs\n"
     ]
    }
   ],
   "source": [
    "%%time\n",
    "# df.to_parquet(data_path/'X.parquet')\n",
    "# df_test.to_parquet(data_path/'X_test.parquet')\n",
    "# pickle.dump(var_names, open(data_path/'var_names.pkl', 'wb'))"
   ]
  },
  {
   "cell_type": "code",
   "execution_count": 50,
   "metadata": {},
   "outputs": [],
   "source": [
    "#export\n",
    "def evaluate_torch(y_true:torch.Tensor, y_pred:torch.Tensor): return torch.sqrt(F.mse_loss(y_true, y_pred))\n",
    "\n",
    "cnr = lambda x: x.clone().numpy().ravel() # clone numpy ravel"
   ]
  },
  {
   "cell_type": "markdown",
   "metadata": {},
   "source": [
    "## Loading"
   ]
  },
  {
   "cell_type": "code",
   "execution_count": 51,
   "metadata": {},
   "outputs": [
    {
     "name": "stdout",
     "output_type": "stream",
     "text": [
      "CPU times: user 3 µs, sys: 0 ns, total: 3 µs\n",
      "Wall time: 6.2 µs\n"
     ]
    }
   ],
   "source": [
    "%%time\n",
    "# var_names = preprocessing.load_var_names(data_path/'var_names.pckl')\n",
    "# var_names"
   ]
  },
  {
   "cell_type": "code",
   "execution_count": 52,
   "metadata": {},
   "outputs": [
    {
     "name": "stdout",
     "output_type": "stream",
     "text": [
      "CPU times: user 3 µs, sys: 0 ns, total: 3 µs\n",
      "Wall time: 6.68 µs\n"
     ]
    }
   ],
   "source": [
    "%%time\n",
    "# df = preprocessing.load_df(data_path/'X.parquet') #.sample(100000)\n",
    "\n",
    "# if do_test:\n",
    "#     df_test = preprocessing.load_df(data_path/'X_test.parquet') #.sample(100000)"
   ]
  },
  {
   "cell_type": "code",
   "execution_count": 53,
   "metadata": {},
   "outputs": [
    {
     "data": {
      "text/plain": [
       "(100000, 100000)"
      ]
     },
     "execution_count": 53,
     "metadata": {},
     "output_type": "execute_result"
    }
   ],
   "source": [
    "len(df), len(df_test)"
   ]
  },
  {
   "cell_type": "markdown",
   "metadata": {},
   "source": [
    "## Sampling `df`"
   ]
  },
  {
   "cell_type": "code",
   "execution_count": 54,
   "metadata": {},
   "outputs": [
    {
     "name": "stdout",
     "output_type": "stream",
     "text": [
      "using 100000 samples = 100.00 %\n",
      "CPU times: user 0 ns, sys: 367 µs, total: 367 µs\n",
      "Wall time: 263 µs\n"
     ]
    }
   ],
   "source": [
    "%%time\n",
    "n = len(df)\n",
    "\n",
    "if False: # per building_id and meter sampling\n",
    "    n_sample_per_bid = 500\n",
    "    replace = True\n",
    "\n",
    "    df = (df.groupby(['building_id', 'meter'])\n",
    "         .sample(n=n_sample_per_bid, replace=replace))\n",
    "\n",
    "if False: # general sampling\n",
    "    frac_samples = .1\n",
    "    replace = False\n",
    "\n",
    "    df = (df.sample(frac=frac_samples, replace=replace))\n",
    "\n",
    "print(f'using {len(df)} samples = {len(df)/n*100:.2f} %')"
   ]
  },
  {
   "cell_type": "markdown",
   "metadata": {},
   "source": [
    "## Split"
   ]
  },
  {
   "cell_type": "markdown",
   "metadata": {},
   "source": [
    "Split settings"
   ]
  },
  {
   "cell_type": "code",
   "execution_count": 55,
   "metadata": {},
   "outputs": [
    {
     "name": "stdout",
     "output_type": "stream",
     "text": [
      "CPU times: user 2 µs, sys: 0 ns, total: 2 µs\n",
      "Wall time: 5.25 µs\n",
      "CPU times: user 704 µs, sys: 59 µs, total: 763 µs\n",
      "Wall time: 557 µs\n"
     ]
    }
   ],
   "source": [
    "%%time\n",
    "# t_train = pd.read_parquet(data_path/'t_train.parquet')\n",
    "t_train = None\n",
    "\n",
    "%time\n",
    "#split_kind = 'random'\n",
    "#split_kind = 'time'\n",
    "# split_kind = 'fix_time'\n",
    "split_kind = 'time_split_day'\n",
    "train_frac = .9"
   ]
  },
  {
   "cell_type": "markdown",
   "metadata": {},
   "source": [
    "Splitting"
   ]
  },
  {
   "cell_type": "code",
   "execution_count": 56,
   "metadata": {},
   "outputs": [
    {
     "name": "stdout",
     "output_type": "stream",
     "text": [
      "sets 2, train 89826 = 0.8983, valid 10174 = 0.1017\n"
     ]
    }
   ],
   "source": [
    "splits = preprocessing.split_dataset(df, split_kind=split_kind, train_frac=train_frac,\n",
    "                                     t_train=t_train)\n",
    "print(f'sets {len(splits)}, train {len(splits[0])} = {len(splits[0])/len(df):.4f}, valid {len(splits[1])} = {len(splits[1])/len(df):.4f}')"
   ]
  },
  {
   "cell_type": "code",
   "execution_count": 57,
   "metadata": {},
   "outputs": [
    {
     "data": {
      "text/plain": [
       "{'conts': ['random_noise',\n",
       "  'wind_direction',\n",
       "  'air_temperature',\n",
       "  'dew_temperature',\n",
       "  'precip_depth_1_hr',\n",
       "  'sea_level_pressure',\n",
       "  'wind_speed',\n",
       "  'cloud_coverage',\n",
       "  'square_feet',\n",
       "  'year_built',\n",
       "  'floor_count'],\n",
       " 'cats': ['building_id',\n",
       "  'meter',\n",
       "  'timestampMonth',\n",
       "  'timestampDay',\n",
       "  'timestampWeek',\n",
       "  'timestampDayofweek',\n",
       "  'timestampDayofyear',\n",
       "  'timestampIs_month_end',\n",
       "  'timestampIs_month_start',\n",
       "  'timestampIs_quarter_start',\n",
       "  'timestampIs_quarter_end',\n",
       "  'timestampIs_year_start',\n",
       "  'timestampIs_year_end',\n",
       "  'timestampHour',\n",
       "  'timestampIs_us_holiday',\n",
       "  'air_temperature_na(processor)',\n",
       "  'cloud_coverage_na(processor)',\n",
       "  'dew_temperature_na(processor)',\n",
       "  'precip_depth_1_hr_na(processor)',\n",
       "  'sea_level_pressure_na(processor)',\n",
       "  'wind_direction_na(processor)',\n",
       "  'wind_speed_na(processor)',\n",
       "  'site_id',\n",
       "  'primary_use'],\n",
       " 'dep_var': 'meter_reading_log1p'}"
      ]
     },
     "execution_count": 57,
     "metadata": {},
     "output_type": "execute_result"
    }
   ],
   "source": [
    "var_names"
   ]
  },
  {
   "cell_type": "code",
   "execution_count": 58,
   "metadata": {},
   "outputs": [
    {
     "data": {
      "text/plain": [
       "{'dep_var': 'meter_reading_log1p', 'conts': [], 'cats': []}"
      ]
     },
     "execution_count": 58,
     "metadata": {},
     "output_type": "execute_result"
    }
   ],
   "source": [
    "var_names_no_anns = {\n",
    "    'dep_var': var_names['dep_var'],\n",
    "    'conts': [v for v in var_names['conts'] if 'meter_reading' in v],\n",
    "    'cats': [v for v in var_names['cats'] if v.startswith('meter_')]\n",
    "}\n",
    "var_names_no_anns"
   ]
  },
  {
   "cell_type": "code",
   "execution_count": 59,
   "metadata": {},
   "outputs": [
    {
     "data": {
      "text/plain": [
       "{'dep_var': 'meter_reading_log1p',\n",
       " 'conts': ['random_noise',\n",
       "  'wind_direction',\n",
       "  'air_temperature',\n",
       "  'dew_temperature',\n",
       "  'precip_depth_1_hr',\n",
       "  'sea_level_pressure',\n",
       "  'wind_speed',\n",
       "  'cloud_coverage',\n",
       "  'square_feet',\n",
       "  'year_built',\n",
       "  'floor_count'],\n",
       " 'cats': ['building_id',\n",
       "  'meter',\n",
       "  'timestampMonth',\n",
       "  'timestampDay',\n",
       "  'timestampWeek',\n",
       "  'timestampDayofweek',\n",
       "  'timestampDayofyear',\n",
       "  'timestampIs_month_end',\n",
       "  'timestampIs_month_start',\n",
       "  'timestampIs_quarter_start',\n",
       "  'timestampIs_quarter_end',\n",
       "  'timestampIs_year_start',\n",
       "  'timestampIs_year_end',\n",
       "  'timestampHour',\n",
       "  'timestampIs_us_holiday',\n",
       "  'air_temperature_na(processor)',\n",
       "  'cloud_coverage_na(processor)',\n",
       "  'dew_temperature_na(processor)',\n",
       "  'precip_depth_1_hr_na(processor)',\n",
       "  'sea_level_pressure_na(processor)',\n",
       "  'wind_direction_na(processor)',\n",
       "  'wind_speed_na(processor)',\n",
       "  'site_id',\n",
       "  'primary_use']}"
      ]
     },
     "execution_count": 59,
     "metadata": {},
     "output_type": "execute_result"
    }
   ],
   "source": [
    "var_names_anns = {\n",
    "    'dep_var': var_names['dep_var'],\n",
    "    'conts': var_names['conts'],\n",
    "    'cats': [v for v in var_names['cats'] if not v.startswith('meter_')]\n",
    "}\n",
    "var_names_anns"
   ]
  },
  {
   "cell_type": "markdown",
   "metadata": {},
   "source": [
    "Takes about 6 minutes on 100% of the data"
   ]
  },
  {
   "cell_type": "code",
   "execution_count": 60,
   "metadata": {},
   "outputs": [
    {
     "name": "stdout",
     "output_type": "stream",
     "text": [
      "CPU times: user 1.95 s, sys: 23.4 ms, total: 1.97 s\n",
      "Wall time: 2.02 s\n"
     ]
    }
   ],
   "source": [
    "%%time\n",
    "procs = [Categorify, FillMissing, Normalize]\n",
    "to = feature_testing.get_tabular_object(df,\n",
    "                                        var_names,\n",
    "                                        splits=splits,\n",
    "                                        procs=procs)"
   ]
  },
  {
   "cell_type": "markdown",
   "metadata": {},
   "source": [
    "Storing `to`"
   ]
  },
  {
   "cell_type": "code",
   "execution_count": 61,
   "metadata": {},
   "outputs": [
    {
     "name": "stdout",
     "output_type": "stream",
     "text": [
      "CPU times: user 3 µs, sys: 0 ns, total: 3 µs\n",
      "Wall time: 6.2 µs\n"
     ]
    }
   ],
   "source": [
    "%%time\n",
    "# pickle.dump(to, open(data_path/'to.pkl', 'wb'))"
   ]
  },
  {
   "cell_type": "markdown",
   "metadata": {},
   "source": [
    "Loading `to`"
   ]
  },
  {
   "cell_type": "code",
   "execution_count": 62,
   "metadata": {},
   "outputs": [
    {
     "name": "stdout",
     "output_type": "stream",
     "text": [
      "CPU times: user 3 µs, sys: 1 µs, total: 4 µs\n",
      "Wall time: 5.96 µs\n"
     ]
    }
   ],
   "source": [
    "%%time\n",
    "# to = pickle.load(open(data_path/'to.pkl', 'rb'))"
   ]
  },
  {
   "cell_type": "markdown",
   "metadata": {},
   "source": [
    "Creating data loaders"
   ]
  },
  {
   "cell_type": "code",
   "execution_count": 63,
   "metadata": {},
   "outputs": [
    {
     "name": "stdout",
     "output_type": "stream",
     "text": [
      "CPU times: user 15.9 ms, sys: 4.33 ms, total: 20.2 ms\n",
      "Wall time: 19.1 ms\n"
     ]
    }
   ],
   "source": [
    "%%time\n",
    "train_bs = 1000\n",
    "val_bs = 1000\n",
    "\n",
    "dls = to.dataloaders(bs=train_bs, val_bs=val_bs)"
   ]
  },
  {
   "cell_type": "markdown",
   "metadata": {},
   "source": [
    "Saving dls"
   ]
  },
  {
   "cell_type": "code",
   "execution_count": 64,
   "metadata": {},
   "outputs": [
    {
     "name": "stdout",
     "output_type": "stream",
     "text": [
      "CPU times: user 2 µs, sys: 1e+03 ns, total: 3 µs\n",
      "Wall time: 5.96 µs\n"
     ]
    }
   ],
   "source": [
    "%%time\n",
    "# torch.save(dls, data_path/'dls.pkl')"
   ]
  },
  {
   "cell_type": "markdown",
   "metadata": {},
   "source": [
    "Warning: Takes about 14min with the test set"
   ]
  },
  {
   "cell_type": "code",
   "execution_count": 65,
   "metadata": {},
   "outputs": [
    {
     "name": "stdout",
     "output_type": "stream",
     "text": [
      "CPU times: user 1.83 s, sys: 0 ns, total: 1.83 s\n",
      "Wall time: 1.83 s\n"
     ]
    }
   ],
   "source": [
    "%%time\n",
    "test_bs = 1000\n",
    "\n",
    "if do_test:\n",
    "    test_dl = dls.test_dl(df_test, bs=test_bs) "
   ]
  },
  {
   "cell_type": "code",
   "execution_count": 66,
   "metadata": {},
   "outputs": [
    {
     "name": "stdout",
     "output_type": "stream",
     "text": [
      "CPU times: user 3 µs, sys: 0 ns, total: 3 µs\n",
      "Wall time: 6.68 µs\n"
     ]
    }
   ],
   "source": [
    "%%time\n",
    "# torch.save(test_dl, data_path/'test_dl.pkl')"
   ]
  },
  {
   "cell_type": "markdown",
   "metadata": {},
   "source": [
    "Loading dls"
   ]
  },
  {
   "cell_type": "code",
   "execution_count": 67,
   "metadata": {},
   "outputs": [
    {
     "name": "stdout",
     "output_type": "stream",
     "text": [
      "CPU times: user 3 µs, sys: 0 ns, total: 3 µs\n",
      "Wall time: 6.2 µs\n"
     ]
    }
   ],
   "source": [
    "%%time\n",
    "# dls = torch.load(data_path/'dls.pkl')"
   ]
  },
  {
   "cell_type": "code",
   "execution_count": 68,
   "metadata": {},
   "outputs": [
    {
     "name": "stdout",
     "output_type": "stream",
     "text": [
      "CPU times: user 3 µs, sys: 1e+03 ns, total: 4 µs\n",
      "Wall time: 6.2 µs\n"
     ]
    }
   ],
   "source": [
    "%%time\n",
    "# test_dl = torch.load(data_path/'test_dl.pkl')"
   ]
  },
  {
   "cell_type": "markdown",
   "metadata": {},
   "source": [
    "## Modelling with"
   ]
  },
  {
   "cell_type": "markdown",
   "metadata": {},
   "source": [
    "### `fastai`"
   ]
  },
  {
   "cell_type": "markdown",
   "metadata": {},
   "source": [
    "Fastai finding: make sure your test set values are not out of domain $\\Rightarrow$ `timestampYear` in this notebook is put into the training set but there only takes on the value 2016.0, but in the test set it's 2017.0 and 2018.0, causing the predictions to zero out everywhere."
   ]
  },
  {
   "cell_type": "code",
   "execution_count": 69,
   "metadata": {},
   "outputs": [
    {
     "data": {
      "text/plain": [
       "(0.0, 16.791418)"
      ]
     },
     "execution_count": 69,
     "metadata": {},
     "output_type": "execute_result"
    }
   ],
   "source": [
    "np.min([to.train.ys.values.min(), to.valid.ys.values.min()]), np.max([to.train.ys.values.max(), to.valid.ys.values.max()])"
   ]
  },
  {
   "cell_type": "code",
   "execution_count": 70,
   "metadata": {},
   "outputs": [],
   "source": [
    "y_range = (-.1, 17)\n",
    "\n",
    "# layers = [4000, 2000, 1000, 500, 250]\n",
    "layers = [50, 20] # [1600, 800, 400, 200]\n",
    "\n",
    "# embed_p = .01\n",
    "embed_p = 0.\n",
    "\n",
    "# ps = [.1, .1, .1, .1, .1]\n",
    "ps = [.0 for _ in layers]\n",
    "# ps[0] = .2\n",
    "\n",
    "# config = None\n",
    "config = tabular_config(embed_p=embed_p, ps=ps,\n",
    "#                         act_cls=Swish(inplace=True)\n",
    "                        )\n",
    "# config = tabular_config(act_cls=nn.ReLU(inplace=True))\n",
    "# config = tabular_config(act_cls=Swish(inplace=True))\n",
    "# config = tabular_config(act_cls=Sine(inplace=True))\n",
    "\n",
    "learn = tabular_learner(dls, y_range=y_range, \n",
    "                        layers=layers, n_out=1, \n",
    "                        config=config, \n",
    "#                         wd=.01,\n",
    "                        loss_func=evaluate_torch) #.to_fp16()\n",
    "run = -1 # a counter for `fit_one_cycle` executions"
   ]
  },
  {
   "cell_type": "code",
   "execution_count": 71,
   "metadata": {},
   "outputs": [
    {
     "name": "stdout",
     "output_type": "stream",
     "text": [
      "CPU times: user 3 µs, sys: 0 ns, total: 3 µs\n",
      "Wall time: 5.96 µs\n"
     ]
    }
   ],
   "source": [
    "%%time\n",
    "# learn.save('1600-800-400-200')"
   ]
  },
  {
   "cell_type": "code",
   "execution_count": 72,
   "metadata": {},
   "outputs": [
    {
     "name": "stdout",
     "output_type": "stream",
     "text": [
      "CPU times: user 3 µs, sys: 0 ns, total: 3 µs\n",
      "Wall time: 5.96 µs\n"
     ]
    }
   ],
   "source": [
    "%%time\n",
    "# learn = learn.load('1600-800-400-200')"
   ]
  },
  {
   "cell_type": "code",
   "execution_count": 73,
   "metadata": {},
   "outputs": [
    {
     "data": {
      "text/html": [],
      "text/plain": [
       "<IPython.core.display.HTML object>"
      ]
     },
     "metadata": {},
     "output_type": "display_data"
    },
    {
     "data": {
      "text/plain": [
       "SuggestedLRs(lr_min=0.06309573650360108, lr_steep=0.0063095735386013985)"
      ]
     },
     "execution_count": 73,
     "metadata": {},
     "output_type": "execute_result"
    },
    {
     "data": {
      "image/png": "[encoded data removed]",
      "text/plain": [
       "<Figure size 432x288 with 1 Axes>"
      ]
     },
     "metadata": {
      "needs_background": "light"
     },
     "output_type": "display_data"
    }
   ],
   "source": [
    "# learn.lr_find()"
   ]
  },
  {
   "cell_type": "code",
   "execution_count": 74,
   "metadata": {},
   "outputs": [
    {
     "name": "stdout",
     "output_type": "stream",
     "text": [
      "run #0\n"
     ]
    },
    {
     "data": {
      "text/html": [
       "<table border=\"1\" class=\"dataframe\">\n",
       "  <thead>\n",
       "    <tr style=\"text-align: left;\">\n",
       "      <th>epoch</th>\n",
       "      <th>train_loss</th>\n",
       "      <th>valid_loss</th>\n",
       "      <th>time</th>\n",
       "    </tr>\n",
       "  </thead>\n",
       "  <tbody>\n",
       "    <tr>\n",
       "      <td>0</td>\n",
       "      <td>1.610816</td>\n",
       "      <td>1.309824</td>\n",
       "      <td>00:09</td>\n",
       "    </tr>\n",
       "    <tr>\n",
       "      <td>1</td>\n",
       "      <td>1.237067</td>\n",
       "      <td>1.160592</td>\n",
       "      <td>00:09</td>\n",
       "    </tr>\n",
       "    <tr>\n",
       "      <td>2</td>\n",
       "      <td>1.103000</td>\n",
       "      <td>1.072184</td>\n",
       "      <td>00:09</td>\n",
       "    </tr>\n",
       "    <tr>\n",
       "      <td>3</td>\n",
       "      <td>1.000091</td>\n",
       "      <td>0.976203</td>\n",
       "      <td>00:09</td>\n",
       "    </tr>\n",
       "    <tr>\n",
       "      <td>4</td>\n",
       "      <td>0.900912</td>\n",
       "      <td>0.961582</td>\n",
       "      <td>00:09</td>\n",
       "    </tr>\n",
       "  </tbody>\n",
       "</table>"
      ],
      "text/plain": [
       "<IPython.core.display.HTML object>"
      ]
     },
     "metadata": {},
     "output_type": "display_data"
    }
   ],
   "source": [
    "run += 1\n",
    "print(f'run #{run}')\n",
    "learn.fit_one_cycle(5, lr_max=1e-1)"
   ]
  },
  {
   "cell_type": "code",
   "execution_count": 75,
   "metadata": {},
   "outputs": [
    {
     "data": {
      "text/html": [],
      "text/plain": [
       "<IPython.core.display.HTML object>"
      ]
     },
     "metadata": {},
     "output_type": "display_data"
    },
    {
     "name": "stdout",
     "output_type": "stream",
     "text": [
      "CPU times: user 285 ms, sys: 12.8 ms, total: 298 ms\n",
      "Wall time: 157 ms\n"
     ]
    }
   ],
   "source": [
    "%%time\n",
    "y_valid_pred, y_valid_true = learn.get_preds()\n",
    "y_valid_pred_fast = cnr(y_valid_pred)"
   ]
  },
  {
   "cell_type": "code",
   "execution_count": 76,
   "metadata": {},
   "outputs": [
    {
     "name": "stdout",
     "output_type": "stream",
     "text": [
      "fastai loss 0.9636\n"
     ]
    }
   ],
   "source": [
    "nb_score = evaluate_torch(y_valid_true, \n",
    "                          y_valid_pred).item()\n",
    "print(f'fastai loss {nb_score:.4f}')"
   ]
  },
  {
   "cell_type": "code",
   "execution_count": 77,
   "metadata": {},
   "outputs": [
    {
     "data": {
      "text/html": [],
      "text/plain": [
       "<IPython.core.display.HTML object>"
      ]
     },
     "metadata": {},
     "output_type": "display_data"
    },
    {
     "name": "stdout",
     "output_type": "stream",
     "text": [
      "CPU times: user 1.89 s, sys: 59.8 ms, total: 1.95 s\n",
      "Wall time: 984 ms\n"
     ]
    }
   ],
   "source": [
    "%%time\n",
    "if do_test:\n",
    "    y_test_pred, _ = learn.get_preds(dl=test_dl)\n",
    "    y_test_pred_fast = cnr(y_test_pred)\n",
    "    y_test_pred = cnr(y_test_pred)"
   ]
  },
  {
   "cell_type": "code",
   "execution_count": 39,
   "metadata": {},
   "outputs": [],
   "source": [
    "y_valid_pred, y_valid_true = cnr(y_valid_pred), cnr(y_valid_true)"
   ]
  },
  {
   "cell_type": "markdown",
   "metadata": {},
   "source": [
    "replacing categorical features for trees with learned embeddings"
   ]
  },
  {
   "cell_type": "code",
   "execution_count": null,
   "metadata": {},
   "outputs": [],
   "source": [
    "trees_with_embeddings = False"
   ]
  },
  {
   "cell_type": "code",
   "execution_count": null,
   "metadata": {},
   "outputs": [],
   "source": [
    "if trees_with_embeddings:\n",
    "    X_emb_train = to.train.xs.copy()\n",
    "    X_emb_val = to.valid.xs.copy()"
   ]
  },
  {
   "cell_type": "code",
   "execution_count": null,
   "metadata": {},
   "outputs": [],
   "source": [
    "#export\n",
    "class EmbeddingFeatures:\n",
    "    def __init__(self, to:TabularPandas, learn:Learner):        \n",
    "        self.df_embs = {col: self.get_embedding_features_df(col, to, learn) for col in to.cat_names}\n",
    "\n",
    "    def get_embedding_features_df(self, col:str, to:TabularPandas, learn:Learner): # , to:TabularPandas, learn:Learner\n",
    "        ix = to.cat_names.index(col)\n",
    "        w_emb = learn.model.embeds[ix].weight.cpu().detach().clone().numpy()\n",
    "        df_emb = (pd.DataFrame(w_emb)\n",
    "                  .add_prefix(f'{col}_embedding_'))\n",
    "        df_emb.index.rename(col, inplace=True)\n",
    "        return df_emb"
   ]
  },
  {
   "cell_type": "code",
   "execution_count": null,
   "metadata": {},
   "outputs": [],
   "source": [
    "%%time\n",
    "ef = EmbeddingFeatures(to, learn)"
   ]
  },
  {
   "cell_type": "code",
   "execution_count": null,
   "metadata": {},
   "outputs": [],
   "source": [
    "ef.df_embs['building_id'].iloc[:5,:3]"
   ]
  },
  {
   "cell_type": "code",
   "execution_count": null,
   "metadata": {},
   "outputs": [],
   "source": [
    "#export\n",
    "@patch\n",
    "def replace_cat_features_with_embeddings(self:EmbeddingFeatures, X:pd.DataFrame):\n",
    "    for col, df_emb in self.df_embs.items():\n",
    "        X = X.join(df_emb, on=col, how='left').drop(columns=col)\n",
    "    return X"
   ]
  },
  {
   "cell_type": "markdown",
   "metadata": {},
   "source": [
    "TODO: fix memory error in the creation of `X_emb`"
   ]
  },
  {
   "cell_type": "code",
   "execution_count": null,
   "metadata": {},
   "outputs": [],
   "source": [
    "%%time\n",
    "if trees_with_embeddings:\n",
    "    X_emb_train = ef.replace_cat_features_with_embeddings(X_emb_train)\n",
    "    X_emb_val = ef.replace_cat_features_with_embeddings(X_emb_val)"
   ]
  },
  {
   "cell_type": "markdown",
   "metadata": {},
   "source": [
    "### `sklearn`"
   ]
  },
  {
   "cell_type": "code",
   "execution_count": null,
   "metadata": {},
   "outputs": [],
   "source": [
    "%%time\n",
    "params = {'n_estimators': 20, 'max_features': 'sqrt', 'n_jobs':1}\n",
    "model = ensemble.RandomForestRegressor\n",
    "# params = {}\n",
    "# model = linear_model.LinearRegression\n",
    "\n",
    "m = model(**params)"
   ]
  },
  {
   "cell_type": "code",
   "execution_count": null,
   "metadata": {},
   "outputs": [],
   "source": [
    "%%time\n",
    "if trees_with_embeddings:\n",
    "    m.fit(X_emb_train, to.train.ys.values.ravel())\n",
    "else:\n",
    "    m.fit(to.train.xs.values, to.train.ys.values.ravel())"
   ]
  },
  {
   "cell_type": "code",
   "execution_count": null,
   "metadata": {},
   "outputs": [],
   "source": [
    "#export\n",
    "@patch\n",
    "def embedding_assignment_func(self:EmbeddingFeatures, stuff:tuple):\n",
    "    k, grp = stuff\n",
    "    grp.drop(columns=['group'], inplace=True)\n",
    "    grp = self.replace_cat_features_with_embeddings(grp)\n",
    "    return pd.Series(m.predict(grp.values), index=grp.index)\n",
    "\n",
    "@patch\n",
    "def predict_with_embeddings(self:EmbeddingFeatures, X:pd.DataFrame, m,\n",
    "                            num_rows:int=2_000_000, num_workers:int=1):\n",
    "    tmp = X.copy()\n",
    "    tmp['group'] = np.floor(tmp.index.values / num_rows).astype(int)\n",
    "    n = int(np.ceil(len(tmp)/num_rows))\n",
    "    y_test_pred = []\n",
    "    \n",
    "    if num_workers > 1:\n",
    "        pool = Pool(processes=num_workers)\n",
    "        for grp in tqdm.tqdm(pool.imap(self.embedding_assignment_func, tmp.groupby('group')), total=n):\n",
    "            y_test_pred.append(grp)\n",
    "        pool.join()\n",
    "        pool.close()\n",
    "    else:\n",
    "        for stuff in tqdm.tqdm(tmp.groupby('group'), total=n):\n",
    "            y_test_pred.append(self.embedding_assignment_func(stuff))\n",
    "    \n",
    "    y_test_pred = pd.concat(y_test_pred)\n",
    "    display(y_test_pred.head(), y_test_pred.tail())\n",
    "    return y_test_pred.sort_index()"
   ]
  },
  {
   "cell_type": "code",
   "execution_count": null,
   "metadata": {},
   "outputs": [],
   "source": [
    "%%time\n",
    "if trees_with_embeddings:\n",
    "    y_valid_pred = m.predict(X_emb_val)\n",
    "else:\n",
    "    y_valid_pred = m.predict(to.valid.xs.values)\n",
    "\n",
    "y_valid_pred_sk = np.copy(y_valid_pred)"
   ]
  },
  {
   "cell_type": "markdown",
   "metadata": {},
   "source": [
    "> Note: the prediction with embeddings takes ~ 37 minutes."
   ]
  },
  {
   "cell_type": "code",
   "execution_count": null,
   "metadata": {},
   "outputs": [],
   "source": [
    "%%time\n",
    "if do_test:\n",
    "    if trees_with_embeddings:\n",
    "        y_test_pred = ef.predict_with_embeddings(test_dl.xs, m.set_params(n_jobs=-1), \n",
    "                                                 num_workers=1)\n",
    "    else:\n",
    "        y_test_pred = m.predict(test_dl.xs)\n",
    "    y_test_pred_sk = np.copy(y_test_pred)"
   ]
  },
  {
   "cell_type": "code",
   "execution_count": null,
   "metadata": {},
   "outputs": [],
   "source": [
    "y_valid_true = to.valid.ys.values.ravel()\n",
    "nb_score = evaluate_torch(torch.from_numpy(y_valid_true), \n",
    "                          torch.from_numpy(y_valid_pred)).item()\n",
    "print(f'sklearn loss {nb_score:.4f}')"
   ]
  },
  {
   "cell_type": "markdown",
   "metadata": {},
   "source": [
    "### `lightgbm`"
   ]
  },
  {
   "cell_type": "code",
   "execution_count": null,
   "metadata": {},
   "outputs": [],
   "source": [
    "%%time\n",
    "if trees_with_embeddings:\n",
    "    lgb_train = lgb.Dataset(X_emb_train, to.train.ys.values.ravel())\n",
    "    lgb_eval = lgb.Dataset(X_emb_val, to.valid.ys.values.ravel(), \n",
    "                           reference=lgb_train)\n",
    "else:\n",
    "    lgb_train = lgb.Dataset(to.train.xs.values, to.train.ys.values.ravel())\n",
    "    lgb_eval = lgb.Dataset(to.valid.xs.values, to.valid.ys.values.ravel(), \n",
    "                           reference=lgb_train)"
   ]
  },
  {
   "cell_type": "code",
   "execution_count": null,
   "metadata": {},
   "outputs": [],
   "source": [
    "# specify your configurations as a dict\n",
    "params = {\n",
    "    'boosting_type': 'gbdt',\n",
    "    'objective': 'regression',\n",
    "    'metric': 'l2',\n",
    "    'num_leaves': 42,\n",
    "    'learning_rate': 0.5,\n",
    "    'feature_fraction': 0.9,\n",
    "    'bagging_fraction': 0.8,\n",
    "    'bagging_freq': 5,\n",
    "    'verbose': 0\n",
    "}"
   ]
  },
  {
   "cell_type": "code",
   "execution_count": null,
   "metadata": {},
   "outputs": [],
   "source": [
    "%%time\n",
    "gbm = lgb.train(params, lgb_train,\n",
    "                num_boost_round=10,\n",
    "                valid_sets=lgb_eval,\n",
    "                early_stopping_rounds=5)"
   ]
  },
  {
   "cell_type": "code",
   "execution_count": null,
   "metadata": {},
   "outputs": [],
   "source": [
    "%%time\n",
    "if trees_with_embeddings:\n",
    "    y_valid_pred_lgbm = gbm.predict(X_emb_val,\n",
    "                                    num_iteration=gbm.best_iteration)\n",
    "else:\n",
    "    y_valid_pred_lgbm = gbm.predict(to.valid.xs.values,\n",
    "                                    num_iteration=gbm.best_iteration)\n",
    "\n",
    "y_valid_pred = np.copy(y_valid_pred_lgbm)"
   ]
  },
  {
   "cell_type": "code",
   "execution_count": null,
   "metadata": {},
   "outputs": [],
   "source": [
    "%%time\n",
    "if do_test:\n",
    "    if trees_with_embeddings:\n",
    "        y_test_pred_lgbm = gbm.predict(X_emb_test,\n",
    "                                       num_iteration=gbm.best_iteration)\n",
    "    else:\n",
    "        y_test_pred_lgbm = gbm.predict(test_dl.xs.values,\n",
    "                                       num_iteration=gbm.best_iteration)\n",
    "    y_test_pred = np.copy(y_test_pred_lgbm)"
   ]
  },
  {
   "cell_type": "code",
   "execution_count": null,
   "metadata": {},
   "outputs": [],
   "source": [
    "y_valid_true = to.valid.ys.values.ravel()\n",
    "nb_score = evaluate_torch(torch.from_numpy(y_valid_true), \n",
    "                          torch.from_numpy(y_valid_pred)).item()\n",
    "print(f'lgbm loss {nb_score:.4f}')"
   ]
  },
  {
   "cell_type": "markdown",
   "metadata": {},
   "source": [
    "## Ensembling"
   ]
  },
  {
   "cell_type": "code",
   "execution_count": null,
   "metadata": {},
   "outputs": [],
   "source": [
    "y_valid_pred = np.mean([\n",
    "    y_valid_pred_sk, \n",
    "    y_valid_pred_fast,\n",
    "    y_valid_pred_lgbm\n",
    "], axis=0)\n",
    "y_valid_true = to.valid.ys.values.ravel()\n",
    "nb_score = evaluate_torch(torch.from_numpy(y_valid_true), \n",
    "                          torch.from_numpy(y_valid_pred)).item()\n",
    "print(f'ensembling loss {nb_score:.4f}')"
   ]
  },
  {
   "cell_type": "code",
   "execution_count": null,
   "metadata": {},
   "outputs": [],
   "source": [
    "%%time\n",
    "if do_test:\n",
    "    y_test_pred = np.mean([\n",
    "        y_test_pred_sk, \n",
    "        y_test_pred_fast, \n",
    "        y_test_pred_lgbm\n",
    "    ], axis=0)"
   ]
  },
  {
   "cell_type": "markdown",
   "metadata": {},
   "source": [
    "## Inspecting"
   ]
  },
  {
   "cell_type": "markdown",
   "metadata": {},
   "source": [
    "### `dep_var` distribution"
   ]
  },
  {
   "cell_type": "markdown",
   "metadata": {},
   "source": [
    "Train vs validation distributions"
   ]
  },
  {
   "cell_type": "code",
   "execution_count": null,
   "metadata": {},
   "outputs": [],
   "source": [
    "#export\n",
    "def pick_random(x,s:int=50): return np.random.choice(x.ravel(), size=s, replace=False)"
   ]
  },
  {
   "cell_type": "code",
   "execution_count": null,
   "metadata": {},
   "outputs": [],
   "source": [
    "feature_testing.hist_plot_preds(pick_random(y_valid_true), \n",
    "                                pick_random(y_valid_pred), \n",
    "                                label0='truth', label1='prediction')"
   ]
  },
  {
   "cell_type": "code",
   "execution_count": null,
   "metadata": {},
   "outputs": [],
   "source": [
    "if do_test:\n",
    "    feature_testing.hist_plot_preds(pick_random(y_valid_true), \n",
    "                                    pick_random(y_test_pred), \n",
    "                                    label0='truth (validation)', \n",
    "                                    label1='prediction (test set)').show()"
   ]
  },
  {
   "cell_type": "markdown",
   "metadata": {},
   "source": [
    "### Boldly wrong predictions"
   ]
  },
  {
   "cell_type": "code",
   "execution_count": null,
   "metadata": {},
   "outputs": [],
   "source": [
    "%%time\n",
    "miss_cols = [v for v in ['building_id', 'meter','timestamp'] if v not in to.valid.xs.columns]\n",
    "tmp = to.valid.xs.join(df.loc[:,miss_cols]) if len(miss_cols)>0 else to.valid.xs\n",
    "bwt = feature_testing.BoldlyWrongTimeseries(tmp, y_valid_true, y_valid_pred)"
   ]
  },
  {
   "cell_type": "code",
   "execution_count": null,
   "metadata": {},
   "outputs": [],
   "source": [
    "bwt.run_boldly()"
   ]
  },
  {
   "cell_type": "markdown",
   "metadata": {},
   "source": [
    "## Submission to kaggle"
   ]
  },
  {
   "cell_type": "code",
   "execution_count": null,
   "metadata": {},
   "outputs": [],
   "source": [
    "%%time\n",
    "if do_test:\n",
    "    y_test_pred_original = torch.exp(tensor(y_test_pred)) - 1\n",
    "\n",
    "    y_out = pd.DataFrame(cnr(y_test_pred_original),\n",
    "                         columns=['meter_reading'],\n",
    "                         index=test_dl.xs.index)\n",
    "    display(y_out.head())\n",
    "\n",
    "    assert len(y_out) == 41697600"
   ]
  },
  {
   "cell_type": "markdown",
   "metadata": {},
   "source": [
    "> Note: Writing to csv takes ~2min"
   ]
  },
  {
   "cell_type": "code",
   "execution_count": null,
   "metadata": {},
   "outputs": [],
   "source": [
    "%%time\n",
    "if do_submit:\n",
    "    y_out.to_csv(data_path/'my_submission.csv',\n",
    "                 float_format='%.4f')"
   ]
  },
  {
   "cell_type": "markdown",
   "metadata": {},
   "source": [
    "`kaggle competitions submit -c ashrae-energy-prediction -f submission.csv -m \"Message\"`"
   ]
  },
  {
   "cell_type": "code",
   "execution_count": null,
   "metadata": {},
   "outputs": [],
   "source": [
    "#export\n",
    "def pretty_dictionary(d:dict): return ', '.join(f'{k} = {v}' for k,v in d.items())"
   ]
  },
  {
   "cell_type": "code",
   "execution_count": null,
   "metadata": {},
   "outputs": [],
   "source": [
    "act = 'ReLu'\n",
    "\n",
    "# lin_model_msg = f'baseline (linear regression)'\n",
    "rf_model_msg = f'RandomForest: {pretty_dictionary(params)}'\n",
    "if trees_with_embeddings:\n",
    "    rf_model_msg += ' (with embeddings)'\n",
    "lgbm_model_msg = f'LGBM: {pretty_dictionary(params)}'\n",
    "\n",
    "fast_model_msg = f'tabular_learner (run #{run}): act {act}, layers {layers}, ps {ps}, embed_p {embed_p}'\n",
    "\n",
    "# model_msg = f'Ensembling tabular_learner and RandomForest ({fast_model_msg}, {rf_model_msg})'\n",
    "model_msg = f'Ensembling LGBM, tabular_learner and RandomForest ({lgbm_model_msg}, {fast_model_msg}, {rf_model_msg})'\n",
    "# model_msg = rf_model_msg\n",
    "# model_msg = lgbm_model_msg\n",
    "\n",
    "split_msg = f'split kind \"{split_kind}\" N_TRAIN {loading.N_TRAIN}'\n",
    "samples_msg = f'num samples {len(dls.xs)} = {len(dls.xs)/20216100/2*100:.2f} %'\n",
    "features_msg = f'weather and building features'\n",
    "score_msg = f'nb score {nb_score:.4f}'\n",
    "# message = ['baseline (linear regression on dep_var_stats and 1hot meter) ', '500 obs/bid', f'nb score {nb_score:.4f}']\n",
    "# message = ['random forest', '500 obs/bid', 'all features', f'nb score {nb_score:.4f}']\n",
    "# message = ['lightgbm', '500 obs/bid', '100 rounds', '42 leaves', 'lr .5', f'nb score {nb_score:.4f}']\n",
    "# message = ['tabular_learner', '500 obs/bid', 'all features', f'layers {layers}, embed_p .1, ps [.1,.1,.1]', f'nb score {nb_score:.4f}']\n",
    "message = ' + '.join([model_msg, samples_msg, split_msg, features_msg, score_msg])\n",
    "message"
   ]
  },
  {
   "cell_type": "code",
   "execution_count": null,
   "metadata": {},
   "outputs": [],
   "source": [
    "if do_test and do_submit:\n",
    "    print('Submitting...')\n",
    "    !kaggle competitions submit -c ashrae-energy-prediction -f '{data_path}/my_submission.csv' -m '{message}'"
   ]
  },
  {
   "cell_type": "code",
   "execution_count": null,
   "metadata": {},
   "outputs": [],
   "source": [
    "from nbdev.export import *\n",
    "notebook2script()"
   ]
  }
 ],
 "metadata": {
  "environment": {
   "name": "pytorch-gpu.1-4.m58",
   "type": "gcloud",
   "uri": "gcr.io/deeplearning-platform-release/pytorch-gpu.1-4:m58"
  },
  "kernelspec": {
   "display_name": "Python [conda env:py38_fastai]",
   "language": "python",
   "name": "conda-env-py38_fastai-py"
  },
  "language_info": {
   "codemirror_mode": {
    "name": "ipython",
    "version": 3
   },
   "file_extension": ".py",
   "mimetype": "text/x-python",
   "name": "python",
   "nbconvert_exporter": "python",
   "pygments_lexer": "ipython3",
   "version": "3.8.0"
  }
 },
 "nbformat": 4,
 "nbformat_minor": 4
}

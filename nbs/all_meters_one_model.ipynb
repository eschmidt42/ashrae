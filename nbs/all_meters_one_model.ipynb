{
 "cells": [
  {
   "cell_type": "code",
   "execution_count": null,
   "metadata": {},
   "outputs": [],
   "source": [
    "# default_exp modelling"
   ]
  },
  {
   "cell_type": "markdown",
   "metadata": {},
   "source": [
    "# Modelling & submitting\n",
    "\n",
    "> Playing with different models and submitting predictions over the test set to kaggle. "
   ]
  },
  {
   "cell_type": "markdown",
   "metadata": {},
   "source": [
    "Current implementation of this notebook leads to (private leaderboard score): \n",
    "- baseline (linear regression on dep_var_stats and meter 1hot) 1.7\n",
    "- RandomForest, tabular_learner, lgbm at ~1.45, \n",
    "- ensembling tabular_learner, RandomForest and lgbm gives ~1.4"
   ]
  },
  {
   "cell_type": "code",
   "execution_count": 1,
   "metadata": {},
   "outputs": [],
   "source": [
    "%load_ext autoreload\n",
    "%autoreload 2"
   ]
  },
  {
   "cell_type": "code",
   "execution_count": 2,
   "metadata": {},
   "outputs": [
    {
     "name": "stderr",
     "output_type": "stream",
     "text": [
      "/mnt/c/Programs_wsl2/miniconda3/envs/py38_fastai/lib/python3.8/site-packages/torch/cuda/__init__.py:52: UserWarning: CUDA initialization: Found no NVIDIA driver on your system. Please check that you have an NVIDIA GPU and installed a driver from http://www.nvidia.com/Download/index.aspx (Triggered internally at  /opt/conda/conda-bld/pytorch_1603729096996/work/c10/cuda/CUDAFunctions.cpp:100.)\n",
      "  return torch._C._cuda_getDeviceCount() > 0\n"
     ]
    }
   ],
   "source": [
    "#export\n",
    "from ashrae import loading, preprocessing, feature_testing\n",
    "\n",
    "import pandas as pd\n",
    "from pathlib import Path\n",
    "import os\n",
    "import plotly.graph_objects as go\n",
    "import plotly.express as px\n",
    "import numpy as np\n",
    "import typing\n",
    "import pickle\n",
    "\n",
    "\n",
    "from sklearn import linear_model, tree, model_selection, ensemble\n",
    "\n",
    "from fastai.tabular.all import *\n",
    "\n",
    "import lightgbm as lgb\n",
    "\n",
    "import ipywidgets as widgets"
   ]
  },
  {
   "cell_type": "code",
   "execution_count": 3,
   "metadata": {},
   "outputs": [],
   "source": [
    "import tqdm\n",
    "from multiprocessing import Pool"
   ]
  },
  {
   "cell_type": "code",
   "execution_count": 4,
   "metadata": {},
   "outputs": [],
   "source": [
    "pd.options.plotting.backend = \"plotly\""
   ]
  },
  {
   "cell_type": "code",
   "execution_count": 5,
   "metadata": {},
   "outputs": [],
   "source": [
    "do_test = True\n",
    "do_submit = False\n",
    "data_path = loading.DATA_PATH"
   ]
  },
  {
   "cell_type": "code",
   "execution_count": 6,
   "metadata": {},
   "outputs": [],
   "source": [
    "loading.N_TRAIN = 100_000\n",
    "loading.N_TEST = 100_000"
   ]
  },
  {
   "cell_type": "markdown",
   "metadata": {},
   "source": [
    "Loading from scratch"
   ]
  },
  {
   "cell_type": "code",
   "execution_count": 7,
   "metadata": {},
   "outputs": [
    {
     "name": "stderr",
     "output_type": "stream",
     "text": [
      "2020-11-27 18:32:14.980 | INFO     | ashrae.loading:get_csvs:36 - Collected csv paths: {Path('../data/ashrae-energy-prediction-publicleaderboard.csv'): 'public-leaderboard', Path('../data/building_metadata.csv'): 'building', Path('../data/my_submission.csv'): None, Path('../data/sample_submission.csv'): None, Path('../data/test.csv'): 'test', Path('../data/train.csv'): 'train', Path('../data/weather_test.csv'): 'weather_test', Path('../data/weather_train.csv'): 'weather_train'}\n",
      "2020-11-27 18:32:26.867 | INFO     | ashrae.loading:get_meter_data:44 - Loading meter data: ../data/train.csv\n",
      "2020-11-27 18:32:55.414 | INFO     | ashrae.loading:get_meter_data:44 - Loading meter data: ../data/test.csv\n",
      "2020-11-27 18:32:55.435 | INFO     | ashrae.loading:test_meter_train_and_test_set:80 - Passed basic meter info tests\n",
      "2020-11-27 18:32:55.436 | INFO     | ashrae.loading:get_building_data:87 - Loading building data: ../data/building_metadata.csv\n",
      "2020-11-27 18:32:55.453 | INFO     | ashrae.loading:test_building:98 - Passed basic building info test\n",
      "2020-11-27 18:32:55.455 | INFO     | ashrae.loading:get_weather_data:104 - Loading weather data: ../data/weather_train.csv\n",
      "2020-11-27 18:32:55.748 | INFO     | ashrae.loading:test_weather:115 - Passed basic weather tests\n",
      "2020-11-27 18:32:55.749 | INFO     | ashrae.loading:get_weather_data:104 - Loading weather data: ../data/weather_test.csv\n",
      "2020-11-27 18:32:56.099 | INFO     | ashrae.loading:test_weather:115 - Passed basic weather tests\n"
     ]
    },
    {
     "name": "stdout",
     "output_type": "stream",
     "text": [
      "CPU times: user 29.2 s, sys: 2.23 s, total: 31.5 s\n",
      "Wall time: 41.1 s\n"
     ]
    }
   ],
   "source": [
    "%%time\n",
    "ashrae_data = loading.load_all()"
   ]
  },
  {
   "cell_type": "markdown",
   "metadata": {},
   "source": [
    "Takes about 3min30"
   ]
  },
  {
   "cell_type": "code",
   "execution_count": 12,
   "metadata": {
    "scrolled": true
   },
   "outputs": [
    {
     "name": "stderr",
     "output_type": "stream",
     "text": [
      "2020-11-27 18:43:18.702 | INFO     | ashrae.preprocessing:add_random_noise_features:361 - Added noise feature: \n",
      "\tcontinuous: ['random_noise']\n",
      "2020-11-27 18:43:18.817 | INFO     | ashrae.preprocessing:add_time_features:478 - Added categorical time features: ['timestampMonth', 'timestampDay', 'timestampWeek', 'timestampDayofweek', 'timestampDayofyear', 'timestampIs_month_end', 'timestampIs_month_start', 'timestampIs_quarter_start', 'timestampIs_quarter_end', 'timestampIs_year_start', 'timestampIs_year_end', 'timestampHour', 'timestampIs_us_holiday']\n",
      "2020-11-27 18:43:19.917 | INFO     | ashrae.preprocessing:add_weather_features:454 - Added weather features: \n",
      "\tcategorical: ['air_temperature_na(processor)', 'cloud_coverage_na(processor)', 'dew_temperature_na(processor)', 'precip_depth_1_hr_na(processor)', 'sea_level_pressure_na(processor)', 'wind_direction_na(processor)', 'wind_speed_na(processor)']\n",
      "\tcontinuous: ['wind_direction', 'air_temperature', 'dew_temperature', 'precip_depth_1_hr', 'sea_level_pressure', 'wind_speed', 'cloud_coverage']\n",
      "2020-11-27 18:43:19.954 | INFO     | ashrae.preprocessing:add_building_features:377 - Added building features: \n",
      "\tcategorical: ['site_id', 'primary_use']\n",
      "\tcontinuous: ['square_feet', 'year_built', 'floor_count']\n",
      "2020-11-27 18:43:19.968 | INFO     | ashrae.preprocessing:convert_kBTU_to_kWh:603 - converted meter readings for meter 0 and site_id 0 from kBTU to kWh\n",
      "2020-11-27 18:43:20.054 | INFO     | ashrae.preprocessing:__call__:142 - Reduced samples by 0 rows = 0.00 %\n"
     ]
    },
    {
     "data": {
      "text/html": [
       "<div>\n",
       "<style scoped>\n",
       "    .dataframe tbody tr th:only-of-type {\n",
       "        vertical-align: middle;\n",
       "    }\n",
       "\n",
       "    .dataframe tbody tr th {\n",
       "        vertical-align: top;\n",
       "    }\n",
       "\n",
       "    .dataframe thead th {\n",
       "        text-align: right;\n",
       "    }\n",
       "</style>\n",
       "<table border=\"1\" class=\"dataframe\">\n",
       "  <thead>\n",
       "    <tr style=\"text-align: right;\">\n",
       "      <th></th>\n",
       "      <th>building_id</th>\n",
       "      <th>meter</th>\n",
       "      <th>timestamp</th>\n",
       "      <th>timestampWeek</th>\n",
       "      <th>meter_reading_log1p</th>\n",
       "      <th>random_noise</th>\n",
       "      <th>timestampMonth</th>\n",
       "      <th>timestampDay</th>\n",
       "      <th>timestampDayofweek</th>\n",
       "      <th>timestampDayofyear</th>\n",
       "      <th>...</th>\n",
       "      <th>dew_temperature_na(processor)</th>\n",
       "      <th>precip_depth_1_hr_na(processor)</th>\n",
       "      <th>sea_level_pressure_na(processor)</th>\n",
       "      <th>wind_direction_na(processor)</th>\n",
       "      <th>wind_speed_na(processor)</th>\n",
       "      <th>site_id</th>\n",
       "      <th>primary_use</th>\n",
       "      <th>square_feet</th>\n",
       "      <th>year_built</th>\n",
       "      <th>floor_count</th>\n",
       "    </tr>\n",
       "  </thead>\n",
       "  <tbody>\n",
       "    <tr>\n",
       "      <th>0</th>\n",
       "      <td>234</td>\n",
       "      <td>1</td>\n",
       "      <td>2016-04-04 15:00:00</td>\n",
       "      <td>14</td>\n",
       "      <td>6.714997</td>\n",
       "      <td>0.911579</td>\n",
       "      <td>4</td>\n",
       "      <td>4</td>\n",
       "      <td>0</td>\n",
       "      <td>95</td>\n",
       "      <td>...</td>\n",
       "      <td>False</td>\n",
       "      <td>False</td>\n",
       "      <td>False</td>\n",
       "      <td>False</td>\n",
       "      <td>False</td>\n",
       "      <td>2</td>\n",
       "      <td>Education</td>\n",
       "      <td>179167</td>\n",
       "      <td>1971.0</td>\n",
       "      <td>NaN</td>\n",
       "    </tr>\n",
       "    <tr>\n",
       "      <th>1</th>\n",
       "      <td>740</td>\n",
       "      <td>0</td>\n",
       "      <td>2016-03-14 12:00:00</td>\n",
       "      <td>11</td>\n",
       "      <td>0.000400</td>\n",
       "      <td>-1.545337</td>\n",
       "      <td>3</td>\n",
       "      <td>14</td>\n",
       "      <td>0</td>\n",
       "      <td>74</td>\n",
       "      <td>...</td>\n",
       "      <td>False</td>\n",
       "      <td>True</td>\n",
       "      <td>True</td>\n",
       "      <td>False</td>\n",
       "      <td>False</td>\n",
       "      <td>5</td>\n",
       "      <td>Education</td>\n",
       "      <td>37975</td>\n",
       "      <td>1976.0</td>\n",
       "      <td>1.0</td>\n",
       "    </tr>\n",
       "    <tr>\n",
       "      <th>2</th>\n",
       "      <td>169</td>\n",
       "      <td>0</td>\n",
       "      <td>2016-08-09 16:00:00</td>\n",
       "      <td>32</td>\n",
       "      <td>6.448066</td>\n",
       "      <td>-1.694625</td>\n",
       "      <td>8</td>\n",
       "      <td>9</td>\n",
       "      <td>1</td>\n",
       "      <td>222</td>\n",
       "      <td>...</td>\n",
       "      <td>False</td>\n",
       "      <td>False</td>\n",
       "      <td>False</td>\n",
       "      <td>False</td>\n",
       "      <td>False</td>\n",
       "      <td>2</td>\n",
       "      <td>Education</td>\n",
       "      <td>179559</td>\n",
       "      <td>2006.0</td>\n",
       "      <td>NaN</td>\n",
       "    </tr>\n",
       "    <tr>\n",
       "      <th>3</th>\n",
       "      <td>317</td>\n",
       "      <td>0</td>\n",
       "      <td>2016-09-10 04:00:00</td>\n",
       "      <td>36</td>\n",
       "      <td>3.766766</td>\n",
       "      <td>0.558248</td>\n",
       "      <td>9</td>\n",
       "      <td>10</td>\n",
       "      <td>5</td>\n",
       "      <td>254</td>\n",
       "      <td>...</td>\n",
       "      <td>False</td>\n",
       "      <td>False</td>\n",
       "      <td>False</td>\n",
       "      <td>False</td>\n",
       "      <td>False</td>\n",
       "      <td>3</td>\n",
       "      <td>Office</td>\n",
       "      <td>16098</td>\n",
       "      <td>NaN</td>\n",
       "      <td>NaN</td>\n",
       "    </tr>\n",
       "    <tr>\n",
       "      <th>4</th>\n",
       "      <td>1394</td>\n",
       "      <td>2</td>\n",
       "      <td>2016-07-22 01:00:00</td>\n",
       "      <td>29</td>\n",
       "      <td>4.995772</td>\n",
       "      <td>0.218147</td>\n",
       "      <td>7</td>\n",
       "      <td>22</td>\n",
       "      <td>4</td>\n",
       "      <td>204</td>\n",
       "      <td>...</td>\n",
       "      <td>False</td>\n",
       "      <td>True</td>\n",
       "      <td>False</td>\n",
       "      <td>False</td>\n",
       "      <td>False</td>\n",
       "      <td>15</td>\n",
       "      <td>Entertainment/public assembly</td>\n",
       "      <td>16351</td>\n",
       "      <td>2002.0</td>\n",
       "      <td>NaN</td>\n",
       "    </tr>\n",
       "  </tbody>\n",
       "</table>\n",
       "<p>5 rows × 38 columns</p>\n",
       "</div>"
      ],
      "text/plain": [
       "  building_id meter           timestamp timestampWeek  meter_reading_log1p  \\\n",
       "0         234     1 2016-04-04 15:00:00            14             6.714997   \n",
       "1         740     0 2016-03-14 12:00:00            11             0.000400   \n",
       "2         169     0 2016-08-09 16:00:00            32             6.448066   \n",
       "3         317     0 2016-09-10 04:00:00            36             3.766766   \n",
       "4        1394     2 2016-07-22 01:00:00            29             4.995772   \n",
       "\n",
       "   random_noise timestampMonth timestampDay timestampDayofweek  \\\n",
       "0      0.911579              4            4                  0   \n",
       "1     -1.545337              3           14                  0   \n",
       "2     -1.694625              8            9                  1   \n",
       "3      0.558248              9           10                  5   \n",
       "4      0.218147              7           22                  4   \n",
       "\n",
       "  timestampDayofyear  ...  dew_temperature_na(processor)  \\\n",
       "0                 95  ...                          False   \n",
       "1                 74  ...                          False   \n",
       "2                222  ...                          False   \n",
       "3                254  ...                          False   \n",
       "4                204  ...                          False   \n",
       "\n",
       "   precip_depth_1_hr_na(processor)  sea_level_pressure_na(processor)  \\\n",
       "0                            False                             False   \n",
       "1                             True                              True   \n",
       "2                            False                             False   \n",
       "3                            False                             False   \n",
       "4                             True                             False   \n",
       "\n",
       "   wind_direction_na(processor)  wind_speed_na(processor)  site_id  \\\n",
       "0                         False                     False        2   \n",
       "1                         False                     False        5   \n",
       "2                         False                     False        2   \n",
       "3                         False                     False        3   \n",
       "4                         False                     False       15   \n",
       "\n",
       "                     primary_use square_feet  year_built  floor_count  \n",
       "0                      Education      179167      1971.0          NaN  \n",
       "1                      Education       37975      1976.0          1.0  \n",
       "2                      Education      179559      2006.0          NaN  \n",
       "3                         Office       16098         NaN          NaN  \n",
       "4  Entertainment/public assembly       16351      2002.0          NaN  \n",
       "\n",
       "[5 rows x 38 columns]"
      ]
     },
     "metadata": {},
     "output_type": "display_data"
    },
    {
     "data": {
      "text/plain": [
       "{'conts': ['random_noise',\n",
       "  'wind_direction',\n",
       "  'air_temperature',\n",
       "  'dew_temperature',\n",
       "  'precip_depth_1_hr',\n",
       "  'sea_level_pressure',\n",
       "  'wind_speed',\n",
       "  'cloud_coverage',\n",
       "  'square_feet',\n",
       "  'year_built',\n",
       "  'floor_count'],\n",
       " 'cats': ['building_id',\n",
       "  'meter',\n",
       "  'timestampMonth',\n",
       "  'timestampDay',\n",
       "  'timestampWeek',\n",
       "  'timestampDayofweek',\n",
       "  'timestampDayofyear',\n",
       "  'timestampIs_month_end',\n",
       "  'timestampIs_month_start',\n",
       "  'timestampIs_quarter_start',\n",
       "  'timestampIs_quarter_end',\n",
       "  'timestampIs_year_start',\n",
       "  'timestampIs_year_end',\n",
       "  'timestampHour',\n",
       "  'timestampIs_us_holiday',\n",
       "  'air_temperature_na(processor)',\n",
       "  'cloud_coverage_na(processor)',\n",
       "  'dew_temperature_na(processor)',\n",
       "  'precip_depth_1_hr_na(processor)',\n",
       "  'sea_level_pressure_na(processor)',\n",
       "  'wind_direction_na(processor)',\n",
       "  'wind_speed_na(processor)',\n",
       "  'site_id',\n",
       "  'primary_use'],\n",
       " 'dep_var': 'meter_reading_log1p'}"
      ]
     },
     "metadata": {},
     "output_type": "display_data"
    },
    {
     "name": "stderr",
     "output_type": "stream",
     "text": [
      "2020-11-27 18:43:20.081 | INFO     | ashrae.preprocessing:add_random_noise_features:361 - Added noise feature: \n",
      "\tcontinuous: ['random_noise']\n",
      "2020-11-27 18:43:20.190 | INFO     | ashrae.preprocessing:add_time_features:478 - Added categorical time features: ['timestampMonth', 'timestampDay', 'timestampWeek', 'timestampDayofweek', 'timestampDayofyear', 'timestampIs_month_end', 'timestampIs_month_start', 'timestampIs_quarter_start', 'timestampIs_quarter_end', 'timestampIs_year_start', 'timestampIs_year_end', 'timestampHour', 'timestampIs_us_holiday']\n"
     ]
    },
    {
     "name": "stdout",
     "output_type": "stream",
     "text": [
      "CPU times: user 3 µs, sys: 0 ns, total: 3 µs\n",
      "Wall time: 4.53 µs\n"
     ]
    },
    {
     "name": "stderr",
     "output_type": "stream",
     "text": [
      "2020-11-27 18:43:22.380 | INFO     | ashrae.preprocessing:add_weather_features:454 - Added weather features: \n",
      "\tcategorical: ['air_temperature_na(processor)', 'cloud_coverage_na(processor)', 'dew_temperature_na(processor)', 'precip_depth_1_hr_na(processor)', 'sea_level_pressure_na(processor)', 'wind_direction_na(processor)', 'wind_speed_na(processor)']\n",
      "\tcontinuous: ['wind_direction', 'air_temperature', 'dew_temperature', 'precip_depth_1_hr', 'sea_level_pressure', 'wind_speed', 'cloud_coverage']\n",
      "2020-11-27 18:43:22.415 | INFO     | ashrae.preprocessing:add_building_features:377 - Added building features: \n",
      "\tcategorical: ['site_id', 'primary_use']\n",
      "\tcontinuous: ['square_feet', 'year_built', 'floor_count']\n",
      "2020-11-27 18:43:22.416 | INFO     | ashrae.preprocessing:convert_kBTU_to_kWh:603 - converted meter readings for meter 0 and site_id 0 from kBTU to kWh\n",
      "2020-11-27 18:43:22.510 | INFO     | ashrae.preprocessing:__call__:142 - Reduced samples by 0 rows = 0.00 %\n"
     ]
    },
    {
     "name": "stdout",
     "output_type": "stream",
     "text": [
      "CPU times: user 3.83 s, sys: 0 ns, total: 3.83 s\n",
      "Wall time: 3.82 s\n"
     ]
    }
   ],
   "source": [
    "%%time\n",
    "processor = preprocessing.Processor() # t_train=t_train\n",
    "tfms_config = {\n",
    "#     'fix_bid_363':{},\n",
    "#     'fix_bid_1099':{'threshold': 10.},\n",
    "#     'remove_bad_meter0_readings_of_first_141days': {},\n",
    "#     'remove_not_summer_0s_meter_2_and_3': {},\n",
    "#     'remove_0s_meter0': {},\n",
    "#     'remove_outliers':{'f':10,'dep_var':'meter_reading'},\n",
    "#     'remove_imputed_weeks':{'dep_var':'meter_reading'},\n",
    "#     'add_dep_var_stats':{},\n",
    "    'add_random_noise_features':{},\n",
    "    'add_time_features':{},\n",
    "#     'add_polar_transformed_features_multiple_cols':{'cols':['timestampHour', 'timestampDayofyear'], 'bounds':[(0,24), (1,365)]}},\n",
    "    'add_weather_features':{'fix_time_offset':True,\n",
    "                            'add_na_indicators':True,\n",
    "                            'impute_nas':True},\n",
    "    'add_building_features':{},\n",
    "    'convert_kBTU_to_kWh':{},\n",
    "#     'add_onehot_encoded':{},\n",
    "}\n",
    "\n",
    "df, var_names = processor(ashrae_data['meter_train'], tfms_configs=tfms_config,\n",
    "                          df_weather=ashrae_data['weather_train'],\n",
    "                          df_building=ashrae_data['building'])\n",
    "display(df.head(), var_names)\n",
    "\n",
    "%time\n",
    "df_test, _ = processor(ashrae_data['meter_test'], tfms_configs=tfms_config,\n",
    "                         df_weather=ashrae_data['weather_test'],\n",
    "                         df_building=ashrae_data['building'])\n",
    "df_test = preprocessing.align_test(df, var_names, df_test)"
   ]
  },
  {
   "cell_type": "code",
   "execution_count": null,
   "metadata": {},
   "outputs": [],
   "source": [
    "%%time\n",
    "# df.to_parquet(data_path/'X.parquet')\n",
    "# df_test.to_parquet(data_path/'X_test.parquet')\n",
    "# pickle.dump(var_names, open(data_path/'var_names.pkl', 'wb'))"
   ]
  },
  {
   "cell_type": "code",
   "execution_count": 13,
   "metadata": {},
   "outputs": [],
   "source": [
    "#export\n",
    "def evaluate_torch(y_true:torch.Tensor, y_pred:torch.Tensor): return torch.sqrt(F.mse_loss(y_true, y_pred))\n",
    "\n",
    "cnr = lambda x: x.clone().numpy().ravel() # clone numpy ravel"
   ]
  },
  {
   "cell_type": "markdown",
   "metadata": {},
   "source": [
    "## Loading"
   ]
  },
  {
   "cell_type": "code",
   "execution_count": null,
   "metadata": {},
   "outputs": [],
   "source": [
    "%%time\n",
    "# var_names = preprocessing.load_var_names(data_path/'var_names.pckl')\n",
    "# var_names"
   ]
  },
  {
   "cell_type": "code",
   "execution_count": null,
   "metadata": {},
   "outputs": [],
   "source": [
    "%%time\n",
    "# df = preprocessing.load_df(data_path/'X.parquet') #.sample(100000)\n",
    "\n",
    "# if do_test:\n",
    "#     df_test = preprocessing.load_df(data_path/'X_test.parquet') #.sample(100000)"
   ]
  },
  {
   "cell_type": "code",
   "execution_count": null,
   "metadata": {},
   "outputs": [],
   "source": [
    "len(df), len(df_test)"
   ]
  },
  {
   "cell_type": "markdown",
   "metadata": {},
   "source": [
    "## Sampling `df`"
   ]
  },
  {
   "cell_type": "code",
   "execution_count": 14,
   "metadata": {},
   "outputs": [
    {
     "name": "stdout",
     "output_type": "stream",
     "text": [
      "using 100000 samples = 100.00 %\n",
      "CPU times: user 428 µs, sys: 71 µs, total: 499 µs\n",
      "Wall time: 304 µs\n"
     ]
    }
   ],
   "source": [
    "%%time\n",
    "n = len(df)\n",
    "\n",
    "if False: # per building_id and meter sampling\n",
    "    n_sample_per_bid = 500\n",
    "    replace = True\n",
    "\n",
    "    df = (df.groupby(['building_id', 'meter'])\n",
    "         .sample(n=n_sample_per_bid, replace=replace))\n",
    "\n",
    "if False: # general sampling\n",
    "    frac_samples = .1\n",
    "    replace = False\n",
    "\n",
    "    df = (df.sample(frac=frac_samples, replace=replace))\n",
    "\n",
    "print(f'using {len(df)} samples = {len(df)/n*100:.2f} %')"
   ]
  },
  {
   "cell_type": "markdown",
   "metadata": {},
   "source": [
    "## Split"
   ]
  },
  {
   "cell_type": "markdown",
   "metadata": {},
   "source": [
    "Split settings"
   ]
  },
  {
   "cell_type": "code",
   "execution_count": 15,
   "metadata": {},
   "outputs": [
    {
     "name": "stdout",
     "output_type": "stream",
     "text": [
      "CPU times: user 2 µs, sys: 0 ns, total: 2 µs\n",
      "Wall time: 3.1 µs\n",
      "CPU times: user 542 µs, sys: 91 µs, total: 633 µs\n",
      "Wall time: 360 µs\n"
     ]
    }
   ],
   "source": [
    "%%time\n",
    "# t_train = pd.read_parquet(data_path/'t_train.parquet')\n",
    "t_train = None\n",
    "\n",
    "%time\n",
    "#split_kind = 'random'\n",
    "#split_kind = 'time'\n",
    "# split_kind = 'fix_time'\n",
    "split_kind = 'time_split_day'\n",
    "train_frac = .9"
   ]
  },
  {
   "cell_type": "markdown",
   "metadata": {},
   "source": [
    "Splitting"
   ]
  },
  {
   "cell_type": "code",
   "execution_count": 16,
   "metadata": {},
   "outputs": [
    {
     "name": "stdout",
     "output_type": "stream",
     "text": [
      "sets 2, train 89757 = 0.8976, valid 10243 = 0.1024\n"
     ]
    }
   ],
   "source": [
    "splits = preprocessing.split_dataset(df, split_kind=split_kind, train_frac=train_frac,\n",
    "                                     t_train=t_train)\n",
    "print(f'sets {len(splits)}, train {len(splits[0])} = {len(splits[0])/len(df):.4f}, valid {len(splits[1])} = {len(splits[1])/len(df):.4f}')"
   ]
  },
  {
   "cell_type": "code",
   "execution_count": null,
   "metadata": {},
   "outputs": [],
   "source": [
    "var_names"
   ]
  },
  {
   "cell_type": "code",
   "execution_count": null,
   "metadata": {},
   "outputs": [],
   "source": [
    "var_names_no_anns = {\n",
    "    'dep_var': var_names['dep_var'],\n",
    "    'conts': [v for v in var_names['conts'] if 'meter_reading' in v],\n",
    "    'cats': [v for v in var_names['cats'] if v.startswith('meter_')]\n",
    "}\n",
    "var_names_no_anns"
   ]
  },
  {
   "cell_type": "code",
   "execution_count": null,
   "metadata": {},
   "outputs": [],
   "source": [
    "var_names_anns = {\n",
    "    'dep_var': var_names['dep_var'],\n",
    "    'conts': var_names['conts'],\n",
    "    'cats': [v for v in var_names['cats'] if not v.startswith('meter_')]\n",
    "}\n",
    "var_names_anns"
   ]
  },
  {
   "cell_type": "markdown",
   "metadata": {},
   "source": [
    "Takes about 6 minutes on 100% of the data"
   ]
  },
  {
   "cell_type": "code",
   "execution_count": 19,
   "metadata": {},
   "outputs": [
    {
     "name": "stdout",
     "output_type": "stream",
     "text": [
      "CPU times: user 1.49 s, sys: 0 ns, total: 1.49 s\n",
      "Wall time: 1.51 s\n"
     ]
    }
   ],
   "source": [
    "%%time\n",
    "procs = [Categorify, FillMissing, Normalize]\n",
    "to = feature_testing.get_tabular_object(df,\n",
    "                                        var_names,\n",
    "                                        splits=splits,\n",
    "                                        procs=procs)"
   ]
  },
  {
   "cell_type": "markdown",
   "metadata": {},
   "source": [
    "Storing `to`"
   ]
  },
  {
   "cell_type": "code",
   "execution_count": null,
   "metadata": {},
   "outputs": [],
   "source": [
    "%%time\n",
    "# pickle.dump(to, open(data_path/'to.pkl', 'wb'))"
   ]
  },
  {
   "cell_type": "markdown",
   "metadata": {},
   "source": [
    "Loading `to`"
   ]
  },
  {
   "cell_type": "code",
   "execution_count": null,
   "metadata": {},
   "outputs": [],
   "source": [
    "%%time\n",
    "# to = pickle.load(open(data_path/'to.pkl', 'rb'))"
   ]
  },
  {
   "cell_type": "markdown",
   "metadata": {},
   "source": [
    "Creating data loaders"
   ]
  },
  {
   "cell_type": "code",
   "execution_count": 20,
   "metadata": {},
   "outputs": [
    {
     "name": "stdout",
     "output_type": "stream",
     "text": [
      "CPU times: user 11.7 ms, sys: 0 ns, total: 11.7 ms\n",
      "Wall time: 11.8 ms\n"
     ]
    }
   ],
   "source": [
    "%%time\n",
    "train_bs = 1000\n",
    "val_bs = 1000\n",
    "\n",
    "dls = to.dataloaders(bs=train_bs, val_bs=val_bs)"
   ]
  },
  {
   "cell_type": "markdown",
   "metadata": {},
   "source": [
    "Saving dls"
   ]
  },
  {
   "cell_type": "code",
   "execution_count": null,
   "metadata": {},
   "outputs": [],
   "source": [
    "%%time\n",
    "# torch.save(dls, data_path/'dls.pkl')"
   ]
  },
  {
   "cell_type": "markdown",
   "metadata": {},
   "source": [
    "Warning: Takes about 14min with the test set"
   ]
  },
  {
   "cell_type": "code",
   "execution_count": 21,
   "metadata": {},
   "outputs": [
    {
     "name": "stdout",
     "output_type": "stream",
     "text": [
      "CPU times: user 1.42 s, sys: 0 ns, total: 1.42 s\n",
      "Wall time: 1.42 s\n"
     ]
    }
   ],
   "source": [
    "%%time\n",
    "test_bs = 1000\n",
    "\n",
    "if do_test:\n",
    "    test_dl = dls.test_dl(df_test, bs=test_bs) "
   ]
  },
  {
   "cell_type": "code",
   "execution_count": null,
   "metadata": {},
   "outputs": [],
   "source": [
    "%%time\n",
    "# torch.save(test_dl, data_path/'test_dl.pkl')"
   ]
  },
  {
   "cell_type": "markdown",
   "metadata": {},
   "source": [
    "Loading dls"
   ]
  },
  {
   "cell_type": "code",
   "execution_count": null,
   "metadata": {},
   "outputs": [],
   "source": [
    "%%time\n",
    "# dls = torch.load(data_path/'dls.pkl')"
   ]
  },
  {
   "cell_type": "code",
   "execution_count": null,
   "metadata": {},
   "outputs": [],
   "source": [
    "%%time\n",
    "# test_dl = torch.load(data_path/'test_dl.pkl')"
   ]
  },
  {
   "cell_type": "markdown",
   "metadata": {},
   "source": [
    "## Modelling with"
   ]
  },
  {
   "cell_type": "markdown",
   "metadata": {},
   "source": [
    "### `fastai`"
   ]
  },
  {
   "cell_type": "markdown",
   "metadata": {},
   "source": [
    "Fastai finding: make sure your test set values are not out of domain $\\Rightarrow$ `timestampYear` in this notebook is put into the training set but there only takes on the value 2016.0, but in the test set it's 2017.0 and 2018.0, causing the predictions to zero out everywhere."
   ]
  },
  {
   "cell_type": "code",
   "execution_count": null,
   "metadata": {},
   "outputs": [],
   "source": [
    "np.min([to.train.ys.values.min(), to.valid.ys.values.min()]), np.max([to.train.ys.values.max(), to.valid.ys.values.max()])"
   ]
  },
  {
   "cell_type": "code",
   "execution_count": 22,
   "metadata": {},
   "outputs": [],
   "source": [
    "y_range = None #(-.1, 17)\n",
    "\n",
    "# layers = [4000, 2000, 1000, 500, 250]\n",
    "layers = [50, 20] # [1600, 800, 400, 200]\n",
    "\n",
    "# embed_p = .01\n",
    "embed_p = 0.\n",
    "\n",
    "# ps = [.1, .1, .1, .1, .1]\n",
    "ps = [.0 for _ in layers]\n",
    "# ps[0] = .2\n",
    "\n",
    "# config = None\n",
    "config = tabular_config(embed_p=embed_p, ps=ps,\n",
    "#                         act_cls=Swish(inplace=True)\n",
    "                        )\n",
    "# config = tabular_config(act_cls=nn.ReLU(inplace=True))\n",
    "# config = tabular_config(act_cls=Swish(inplace=True))\n",
    "# config = tabular_config(act_cls=Sine(inplace=True))\n",
    "\n",
    "learn = tabular_learner(dls, y_range=y_range, \n",
    "                        layers=layers, n_out=1, \n",
    "                        config=config, \n",
    "#                         wd=.01,\n",
    "                        loss_func=evaluate_torch) #.to_fp16()\n",
    "run = -1 # a counter for `fit_one_cycle` executions"
   ]
  },
  {
   "cell_type": "code",
   "execution_count": null,
   "metadata": {},
   "outputs": [],
   "source": [
    "%%time\n",
    "# learn.save('1600-800-400-200')"
   ]
  },
  {
   "cell_type": "code",
   "execution_count": null,
   "metadata": {},
   "outputs": [],
   "source": [
    "%%time\n",
    "# learn = learn.load('1600-800-400-200')"
   ]
  },
  {
   "cell_type": "code",
   "execution_count": 23,
   "metadata": {},
   "outputs": [
    {
     "data": {
      "text/html": [],
      "text/plain": [
       "<IPython.core.display.HTML object>"
      ]
     },
     "metadata": {},
     "output_type": "display_data"
    },
    {
     "data": {
      "text/plain": [
       "SuggestedLRs(lr_min=0.04365158379077912, lr_steep=0.013182567432522774)"
      ]
     },
     "execution_count": 23,
     "metadata": {},
     "output_type": "execute_result"
    },
    {
     "data": {
      "image/png": "[encoded data removed]",
      "text/plain": [
       "<Figure size 432x288 with 1 Axes>"
      ]
     },
     "metadata": {
      "needs_background": "light"
     },
     "output_type": "display_data"
    }
   ],
   "source": [
    "learn.lr_find()"
   ]
  },
  {
   "cell_type": "code",
   "execution_count": 24,
   "metadata": {},
   "outputs": [
    {
     "name": "stdout",
     "output_type": "stream",
     "text": [
      "run #0\n"
     ]
    },
    {
     "data": {
      "text/html": [
       "<table border=\"1\" class=\"dataframe\">\n",
       "  <thead>\n",
       "    <tr style=\"text-align: left;\">\n",
       "      <th>epoch</th>\n",
       "      <th>train_loss</th>\n",
       "      <th>valid_loss</th>\n",
       "      <th>time</th>\n",
       "    </tr>\n",
       "  </thead>\n",
       "  <tbody>\n",
       "    <tr>\n",
       "      <td>0</td>\n",
       "      <td>1.842221</td>\n",
       "      <td>1.579847</td>\n",
       "      <td>00:08</td>\n",
       "    </tr>\n",
       "    <tr>\n",
       "      <td>1</td>\n",
       "      <td>1.292805</td>\n",
       "      <td>1.104238</td>\n",
       "      <td>00:08</td>\n",
       "    </tr>\n",
       "    <tr>\n",
       "      <td>2</td>\n",
       "      <td>1.082080</td>\n",
       "      <td>1.017250</td>\n",
       "      <td>00:11</td>\n",
       "    </tr>\n",
       "    <tr>\n",
       "      <td>3</td>\n",
       "      <td>0.980425</td>\n",
       "      <td>0.964385</td>\n",
       "      <td>00:11</td>\n",
       "    </tr>\n",
       "    <tr>\n",
       "      <td>4</td>\n",
       "      <td>0.901918</td>\n",
       "      <td>0.945074</td>\n",
       "      <td>00:11</td>\n",
       "    </tr>\n",
       "  </tbody>\n",
       "</table>"
      ],
      "text/plain": [
       "<IPython.core.display.HTML object>"
      ]
     },
     "metadata": {},
     "output_type": "display_data"
    }
   ],
   "source": [
    "run += 1\n",
    "print(f'run #{run}')\n",
    "learn.fit_one_cycle(5, lr_max=4e-2)"
   ]
  },
  {
   "cell_type": "code",
   "execution_count": 25,
   "metadata": {},
   "outputs": [
    {
     "data": {
      "text/html": [],
      "text/plain": [
       "<IPython.core.display.HTML object>"
      ]
     },
     "metadata": {},
     "output_type": "display_data"
    },
    {
     "name": "stdout",
     "output_type": "stream",
     "text": [
      "CPU times: user 645 ms, sys: 41.3 ms, total: 686 ms\n",
      "Wall time: 188 ms\n"
     ]
    }
   ],
   "source": [
    "%%time\n",
    "y_valid_pred, y_valid_true = learn.get_preds()\n",
    "y_valid_pred_fast = cnr(y_valid_pred)"
   ]
  },
  {
   "cell_type": "code",
   "execution_count": 26,
   "metadata": {},
   "outputs": [
    {
     "name": "stdout",
     "output_type": "stream",
     "text": [
      "fastai loss 0.9462\n"
     ]
    }
   ],
   "source": [
    "nb_score = evaluate_torch(y_valid_true, \n",
    "                          y_valid_pred).item()\n",
    "print(f'fastai loss {nb_score:.4f}')"
   ]
  },
  {
   "cell_type": "code",
   "execution_count": 27,
   "metadata": {},
   "outputs": [
    {
     "data": {
      "text/html": [],
      "text/plain": [
       "<IPython.core.display.HTML object>"
      ]
     },
     "metadata": {},
     "output_type": "display_data"
    },
    {
     "name": "stdout",
     "output_type": "stream",
     "text": [
      "CPU times: user 3.23 s, sys: 129 ms, total: 3.36 s\n",
      "Wall time: 852 ms\n"
     ]
    }
   ],
   "source": [
    "%%time\n",
    "if do_test:\n",
    "    y_test_pred, _ = learn.get_preds(dl=test_dl)\n",
    "    y_test_pred_fast = cnr(y_test_pred)\n",
    "    y_test_pred = cnr(y_test_pred)"
   ]
  },
  {
   "cell_type": "code",
   "execution_count": 28,
   "metadata": {},
   "outputs": [],
   "source": [
    "y_valid_pred, y_valid_true = cnr(y_valid_pred), cnr(y_valid_true)"
   ]
  },
  {
   "cell_type": "markdown",
   "metadata": {},
   "source": [
    "replacing categorical features for trees with learned embeddings"
   ]
  },
  {
   "cell_type": "code",
   "execution_count": null,
   "metadata": {},
   "outputs": [],
   "source": [
    "trees_with_embeddings = False"
   ]
  },
  {
   "cell_type": "code",
   "execution_count": null,
   "metadata": {},
   "outputs": [],
   "source": [
    "if trees_with_embeddings:\n",
    "    X_emb_train = to.train.xs.copy()\n",
    "    X_emb_val = to.valid.xs.copy()"
   ]
  },
  {
   "cell_type": "code",
   "execution_count": null,
   "metadata": {},
   "outputs": [],
   "source": [
    "#export\n",
    "class EmbeddingFeatures:\n",
    "    def __init__(self, to:TabularPandas, learn:Learner):        \n",
    "        self.df_embs = {col: self.get_embedding_features_df(col, to, learn) for col in to.cat_names}\n",
    "\n",
    "    def get_embedding_features_df(self, col:str, to:TabularPandas, learn:Learner): # , to:TabularPandas, learn:Learner\n",
    "        ix = to.cat_names.index(col)\n",
    "        w_emb = learn.model.embeds[ix].weight.cpu().detach().clone().numpy()\n",
    "        df_emb = (pd.DataFrame(w_emb)\n",
    "                  .add_prefix(f'{col}_embedding_'))\n",
    "        df_emb.index.rename(col, inplace=True)\n",
    "        return df_emb"
   ]
  },
  {
   "cell_type": "code",
   "execution_count": null,
   "metadata": {},
   "outputs": [],
   "source": [
    "%%time\n",
    "ef = EmbeddingFeatures(to, learn)"
   ]
  },
  {
   "cell_type": "code",
   "execution_count": null,
   "metadata": {},
   "outputs": [],
   "source": [
    "ef.df_embs['building_id'].iloc[:5,:3]"
   ]
  },
  {
   "cell_type": "code",
   "execution_count": null,
   "metadata": {},
   "outputs": [],
   "source": [
    "#export\n",
    "@patch\n",
    "def replace_cat_features_with_embeddings(self:EmbeddingFeatures, X:pd.DataFrame):\n",
    "    for col, df_emb in self.df_embs.items():\n",
    "        X = X.join(df_emb, on=col, how='left').drop(columns=col)\n",
    "    return X"
   ]
  },
  {
   "cell_type": "code",
   "execution_count": null,
   "metadata": {},
   "outputs": [],
   "source": [
    "%%time\n",
    "if trees_with_embeddings:\n",
    "    X_emb_train = ef.replace_cat_features_with_embeddings(X_emb_train)\n",
    "    X_emb_val = ef.replace_cat_features_with_embeddings(X_emb_val)"
   ]
  },
  {
   "cell_type": "markdown",
   "metadata": {},
   "source": [
    "### `sklearn`"
   ]
  },
  {
   "cell_type": "code",
   "execution_count": null,
   "metadata": {},
   "outputs": [],
   "source": [
    "%%time\n",
    "params = {'n_estimators': 20, 'max_features': 'sqrt', 'n_jobs':1}\n",
    "model = ensemble.RandomForestRegressor\n",
    "# params = {}\n",
    "# model = linear_model.LinearRegression\n",
    "\n",
    "m = model(**params)"
   ]
  },
  {
   "cell_type": "code",
   "execution_count": null,
   "metadata": {},
   "outputs": [],
   "source": [
    "%%time\n",
    "if trees_with_embeddings:\n",
    "    m.fit(X_emb_train, to.train.ys.values.ravel())\n",
    "else:\n",
    "    m.fit(to.train.xs.values, to.train.ys.values.ravel())"
   ]
  },
  {
   "cell_type": "code",
   "execution_count": null,
   "metadata": {},
   "outputs": [],
   "source": [
    "#export\n",
    "@patch\n",
    "def embedding_assignment_func(self:EmbeddingFeatures, stuff:tuple):\n",
    "    k, grp = stuff\n",
    "    grp.drop(columns=['group'], inplace=True)\n",
    "    grp = self.replace_cat_features_with_embeddings(grp)\n",
    "    return pd.Series(m.predict(grp.values), index=grp.index)\n",
    "\n",
    "@patch\n",
    "def predict_with_embeddings(self:EmbeddingFeatures, X:pd.DataFrame, m,\n",
    "                            num_rows:int=2_000_000, num_workers:int=1):\n",
    "    tmp = X.copy()\n",
    "    tmp['group'] = np.floor(tmp.index.values / num_rows).astype(int)\n",
    "    n = int(np.ceil(len(tmp)/num_rows))\n",
    "    y_test_pred = []\n",
    "    \n",
    "    if num_workers > 1:\n",
    "        pool = Pool(processes=num_workers)\n",
    "        for grp in tqdm.tqdm(pool.imap(self.embedding_assignment_func, tmp.groupby('group')), total=n):\n",
    "            y_test_pred.append(grp)\n",
    "        pool.join()\n",
    "        pool.close()\n",
    "    else:\n",
    "        for stuff in tqdm.tqdm(tmp.groupby('group'), total=n):\n",
    "            y_test_pred.append(self.embedding_assignment_func(stuff))\n",
    "    \n",
    "    y_test_pred = pd.concat(y_test_pred)\n",
    "    display(y_test_pred.head(), y_test_pred.tail())\n",
    "    return y_test_pred.sort_index()"
   ]
  },
  {
   "cell_type": "code",
   "execution_count": null,
   "metadata": {},
   "outputs": [],
   "source": [
    "%%time\n",
    "if trees_with_embeddings:\n",
    "    y_valid_pred = m.predict(X_emb_val)\n",
    "else:\n",
    "    y_valid_pred = m.predict(to.valid.xs.values)\n",
    "\n",
    "y_valid_pred_sk = np.copy(y_valid_pred)"
   ]
  },
  {
   "cell_type": "markdown",
   "metadata": {},
   "source": [
    "> Note: the prediction with embeddings takes ~ 37 minutes."
   ]
  },
  {
   "cell_type": "code",
   "execution_count": null,
   "metadata": {},
   "outputs": [],
   "source": [
    "%%time\n",
    "if do_test:\n",
    "    if trees_with_embeddings:\n",
    "        y_test_pred = ef.predict_with_embeddings(test_dl.xs, m.set_params(n_jobs=-1), \n",
    "                                                 num_workers=1)\n",
    "    else:\n",
    "        y_test_pred = m.predict(test_dl.xs)\n",
    "    y_test_pred_sk = np.copy(y_test_pred)"
   ]
  },
  {
   "cell_type": "code",
   "execution_count": null,
   "metadata": {},
   "outputs": [],
   "source": [
    "y_valid_true = to.valid.ys.values.ravel()\n",
    "nb_score = evaluate_torch(torch.from_numpy(y_valid_true), \n",
    "                          torch.from_numpy(y_valid_pred)).item()\n",
    "print(f'sklearn loss {nb_score:.4f}')"
   ]
  },
  {
   "cell_type": "markdown",
   "metadata": {},
   "source": [
    "### `lightgbm`"
   ]
  },
  {
   "cell_type": "code",
   "execution_count": null,
   "metadata": {},
   "outputs": [],
   "source": [
    "%%time\n",
    "if trees_with_embeddings:\n",
    "    lgb_train = lgb.Dataset(X_emb_train, to.train.ys.values.ravel())\n",
    "    lgb_eval = lgb.Dataset(X_emb_val, to.valid.ys.values.ravel(), \n",
    "                           reference=lgb_train)\n",
    "else:\n",
    "    lgb_train = lgb.Dataset(to.train.xs.values, to.train.ys.values.ravel())\n",
    "    lgb_eval = lgb.Dataset(to.valid.xs.values, to.valid.ys.values.ravel(), \n",
    "                           reference=lgb_train)"
   ]
  },
  {
   "cell_type": "code",
   "execution_count": null,
   "metadata": {},
   "outputs": [],
   "source": [
    "# specify your configurations as a dict\n",
    "params = {\n",
    "    'boosting_type': 'gbdt',\n",
    "    'objective': 'regression',\n",
    "    'metric': 'l2',\n",
    "    'num_leaves': 42,\n",
    "    'learning_rate': 0.5,\n",
    "    'feature_fraction': 0.9,\n",
    "    'bagging_fraction': 0.8,\n",
    "    'bagging_freq': 5,\n",
    "    'verbose': 0\n",
    "}"
   ]
  },
  {
   "cell_type": "code",
   "execution_count": null,
   "metadata": {},
   "outputs": [],
   "source": [
    "%%time\n",
    "gbm = lgb.train(params, lgb_train,\n",
    "                num_boost_round=10,\n",
    "                valid_sets=lgb_eval,\n",
    "                early_stopping_rounds=5)"
   ]
  },
  {
   "cell_type": "code",
   "execution_count": null,
   "metadata": {},
   "outputs": [],
   "source": [
    "%%time\n",
    "if trees_with_embeddings:\n",
    "    y_valid_pred_lgbm = gbm.predict(X_emb_val,\n",
    "                                    num_iteration=gbm.best_iteration)\n",
    "else:\n",
    "    y_valid_pred_lgbm = gbm.predict(to.valid.xs.values,\n",
    "                                    num_iteration=gbm.best_iteration)\n",
    "\n",
    "y_valid_pred = np.copy(y_valid_pred_lgbm)"
   ]
  },
  {
   "cell_type": "code",
   "execution_count": null,
   "metadata": {},
   "outputs": [],
   "source": [
    "%%time\n",
    "if do_test:\n",
    "    if trees_with_embeddings:\n",
    "        y_test_pred_lgbm = gbm.predict(X_emb_test,\n",
    "                                       num_iteration=gbm.best_iteration)\n",
    "    else:\n",
    "        y_test_pred_lgbm = gbm.predict(test_dl.xs.values,\n",
    "                                       num_iteration=gbm.best_iteration)\n",
    "    y_test_pred = np.copy(y_test_pred_lgbm)"
   ]
  },
  {
   "cell_type": "code",
   "execution_count": null,
   "metadata": {},
   "outputs": [],
   "source": [
    "y_valid_true = to.valid.ys.values.ravel()\n",
    "nb_score = evaluate_torch(torch.from_numpy(y_valid_true), \n",
    "                          torch.from_numpy(y_valid_pred)).item()\n",
    "print(f'lgbm loss {nb_score:.4f}')"
   ]
  },
  {
   "cell_type": "markdown",
   "metadata": {},
   "source": [
    "## Ensembling"
   ]
  },
  {
   "cell_type": "code",
   "execution_count": null,
   "metadata": {},
   "outputs": [],
   "source": [
    "y_valid_pred = np.mean([\n",
    "    y_valid_pred_sk, \n",
    "    y_valid_pred_fast,\n",
    "    y_valid_pred_lgbm\n",
    "], axis=0)\n",
    "y_valid_true = to.valid.ys.values.ravel()\n",
    "nb_score = evaluate_torch(torch.from_numpy(y_valid_true), \n",
    "                          torch.from_numpy(y_valid_pred)).item()\n",
    "print(f'ensembling loss {nb_score:.4f}')"
   ]
  },
  {
   "cell_type": "code",
   "execution_count": null,
   "metadata": {},
   "outputs": [],
   "source": [
    "%%time\n",
    "if do_test:\n",
    "    y_test_pred = np.mean([\n",
    "        y_test_pred_sk, \n",
    "        y_test_pred_fast, \n",
    "        y_test_pred_lgbm\n",
    "    ], axis=0)"
   ]
  },
  {
   "cell_type": "markdown",
   "metadata": {},
   "source": [
    "## Inspecting"
   ]
  },
  {
   "cell_type": "markdown",
   "metadata": {},
   "source": [
    "### `dep_var` distribution"
   ]
  },
  {
   "cell_type": "markdown",
   "metadata": {},
   "source": [
    "Train vs validation distributions"
   ]
  },
  {
   "cell_type": "code",
   "execution_count": null,
   "metadata": {},
   "outputs": [],
   "source": [
    "#export\n",
    "def pick_random(x,s:int=50): return np.random.choice(x.ravel(), size=s, replace=False)"
   ]
  },
  {
   "cell_type": "code",
   "execution_count": null,
   "metadata": {},
   "outputs": [],
   "source": [
    "feature_testing.hist_plot_preds(pick_random(y_valid_true), \n",
    "                                pick_random(y_valid_pred), \n",
    "                                label0='truth', label1='prediction')"
   ]
  },
  {
   "cell_type": "code",
   "execution_count": null,
   "metadata": {},
   "outputs": [],
   "source": [
    "if do_test:\n",
    "    feature_testing.hist_plot_preds(pick_random(y_valid_true), \n",
    "                                    pick_random(y_test_pred), \n",
    "                                    label0='truth (validation)', \n",
    "                                    label1='prediction (test set)').show()"
   ]
  },
  {
   "cell_type": "markdown",
   "metadata": {},
   "source": [
    "### Boldly wrong predictions"
   ]
  },
  {
   "cell_type": "code",
   "execution_count": null,
   "metadata": {},
   "outputs": [],
   "source": [
    "%%time\n",
    "miss_cols = [v for v in ['building_id', 'meter','timestamp'] if v not in to.valid.xs.columns]\n",
    "tmp = to.valid.xs.join(df.loc[:,miss_cols]) if len(miss_cols)>0 else to.valid.xs\n",
    "bwt = feature_testing.BoldlyWrongTimeseries(tmp, y_valid_true, y_valid_pred)"
   ]
  },
  {
   "cell_type": "code",
   "execution_count": null,
   "metadata": {},
   "outputs": [],
   "source": [
    "bwt.run_boldly()"
   ]
  },
  {
   "cell_type": "markdown",
   "metadata": {},
   "source": [
    "## Submission to kaggle"
   ]
  },
  {
   "cell_type": "code",
   "execution_count": 33,
   "metadata": {},
   "outputs": [
    {
     "data": {
      "text/plain": [
       "{'building_id': ['#na#', 0, 1, 2, 3, 4, 5, 6, 7, 8, 9, 10, 11, 12, 13, 14, 15, 16, 17, 18, 19, 20, 21, 22, 23, 24, 25, 26, 27, 28, 29, 30, 31, 32, 33, 34, 35, 36, 37, 38, 39, 40, 41, 42, 43, 44, 45, 46, 47, 48, 49, 50, 51, 52, 53, 54, 55, 56, 57, 58, 59, 60, 61, 62, 63, 64, 65, 66, 67, 68, 69, 70, 71, 72, 73, 74, 75, 76, 77, 78, 79, 80, 81, 82, 83, 84, 85, 86, 87, 88, 89, 90, 91, 92, 93, 94, 95, 96, 97, 98, 99, 100, 101, 102, 103, 104, 105, 106, 107, 108, 109, 110, 111, 112, 113, 114, 115, 116, 117, 118, 119, 120, 121, 122, 123, 124, 125, 126, 127, 128, 129, 130, 131, 132, 133, 134, 135, 136, 137, 138, 139, 140, 141, 142, 143, 144, 145, 146, 147, 148, 149, 150, 151, 152, 153, 154, 155, 156, 157, 158, 159, 160, 161, 162, 163, 164, 165, 166, 167, 168, 169, 170, 171, 172, 173, 174, 175, 176, 177, 178, 179, 180, 181, 182, 183, 184, 185, 186, 187, 188, 189, 190, 191, 192, 193, 194, 195, 196, 197, 198, 199, 200, 201, 202, 203, 204, 205, 206, 207, 208, 209, 210, 211, 212, 213, 214, 215, 216, 217, 218, 219, 220, 221, 222, 223, 224, 225, 226, 227, 228, 229, 230, 231, 232, 233, 234, 235, 236, 237, 238, 239, 240, 241, 242, 243, 244, 245, 246, 247, 248, 249, 250, 251, 252, 253, 254, 255, 256, 257, 258, 259, 260, 261, 262, 263, 264, 265, 266, 267, 268, 269, 270, 271, 272, 273, 274, 275, 276, 277, 278, 279, 280, 281, 282, 283, 284, 285, 286, 287, 288, 289, 290, 291, 292, 293, 294, 295, 296, 297, 298, 299, 300, 301, 302, 303, 304, 305, 306, 307, 308, 309, 310, 311, 312, 313, 314, 315, 316, 317, 318, 319, 320, 321, 322, 323, 324, 325, 326, 327, 328, 329, 330, 331, 332, 333, 334, 335, 336, 337, 338, 339, 340, 341, 342, 343, 344, 345, 346, 347, 348, 349, 350, 351, 352, 353, 354, 355, 356, 357, 358, 359, 360, 361, 362, 363, 364, 365, 366, 367, 368, 369, 370, 371, 372, 373, 374, 375, 376, 377, 378, 379, 380, 381, 382, 383, 384, 385, 386, 387, 388, 389, 390, 391, 392, 393, 394, 395, 396, 397, 398, 399, 400, 401, 402, 403, 404, 405, 406, 407, 408, 409, 410, 411, 412, 413, 414, 415, 416, 417, 418, 419, 420, 421, 422, 423, 424, 425, 426, 427, 428, 429, 430, 431, 432, 433, 434, 435, 436, 437, 438, 439, 440, 441, 442, 443, 444, 445, 446, 447, 448, 449, 450, 451, 452, 453, 454, 455, 456, 457, 458, 459, 460, 461, 462, 463, 464, 465, 466, 467, 468, 469, 470, 471, 472, 473, 474, 475, 476, 477, 478, 479, 480, 481, 482, 483, 484, 485, 486, 487, 488, 489, 490, 491, 492, 493, 494, 495, 496, 497, 498, 499, 500, 501, 502, 503, 504, 505, 506, 507, 508, 509, 510, 511, 512, 513, 514, 515, 516, 517, 518, 519, 520, 521, 522, 523, 524, 525, 526, 527, 528, 529, 530, 531, 532, 533, 534, 535, 536, 537, 538, 539, 540, 541, 542, 543, 544, 545, 546, 547, 548, 549, 550, 551, 552, 553, 554, 555, 556, 557, 558, 559, 560, 561, 562, 563, 564, 565, 566, 567, 568, 569, 570, 571, 572, 573, 574, 575, 576, 577, 578, 579, 580, 581, 582, 583, 584, 585, 586, 587, 588, 589, 590, 591, 592, 593, 594, 595, 596, 597, 598, 599, 600, 601, 602, 603, 604, 605, 606, 607, 608, 609, 610, 611, 612, 613, 614, 615, 616, 617, 618, 619, 620, 621, 622, 623, 624, 625, 626, 627, 628, 629, 630, 631, 632, 633, 634, 635, 636, 637, 638, 639, 640, 641, 642, 643, 644, 645, 646, 647, 648, 649, 650, 651, 652, 653, 654, 655, 656, 657, 658, 659, 660, 661, 662, 663, 664, 665, 666, 667, 668, 669, 670, 671, 672, 673, 674, 675, 676, 677, 678, 679, 680, 681, 682, 683, 684, 685, 686, 687, 688, 689, 690, 691, 692, 693, 694, 695, 696, 697, 698, 699, 700, 701, 702, 703, 704, 705, 706, 707, 708, 709, 710, 711, 712, 713, 714, 715, 716, 717, 718, 719, 720, 721, 722, 723, 724, 725, 726, 727, 728, 729, 730, 731, 732, 733, 734, 735, 736, 737, 738, 739, 740, 741, 742, 743, 744, 745, 746, 747, 748, 749, 750, 751, 752, 753, 754, 755, 756, 757, 758, 759, 760, 761, 762, 763, 764, 765, 766, 767, 768, 769, 770, 771, 772, 773, 774, 775, 776, 777, 778, 779, 780, 781, 782, 783, 784, 785, 786, 787, 788, 789, 790, 791, 792, 793, 794, 795, 796, 797, 798, 799, 800, 801, 802, 803, 804, 805, 806, 807, 808, 809, 810, 811, 812, 813, 814, 815, 816, 817, 818, 819, 820, 821, 822, 823, 824, 825, 826, 827, 828, 829, 830, 831, 832, 833, 834, 835, 836, 837, 838, 839, 840, 841, 842, 843, 844, 845, 846, 847, 848, 849, 850, 851, 852, 853, 854, 855, 856, 857, 858, 859, 860, 861, 862, 863, 864, 865, 866, 867, 868, 869, 870, 871, 872, 873, 874, 875, 876, 877, 878, 879, 880, 881, 882, 883, 884, 885, 886, 887, 888, 889, 890, 891, 892, 893, 894, 895, 896, 897, 898, 899, 900, 901, 902, 903, 904, 905, 906, 907, 908, 909, 910, 911, 912, 913, 914, 915, 916, 917, 918, 919, 920, 921, 922, 923, 924, 925, 926, 927, 928, 929, 930, 931, 932, 933, 934, 935, 936, 937, 938, 939, 940, 941, 942, 943, 944, 945, 946, 947, 948, 949, 950, 951, 952, 953, 954, 955, 956, 957, 958, 959, 960, 961, 962, 963, 964, 965, 966, 967, 968, 969, 970, 971, 972, 973, 974, 975, 976, 977, 978, 979, 980, 981, 982, 983, 984, 985, 986, 987, 988, 989, 990, 991, 992, 993, 994, 995, 996, 997, 998, 999, 1000, 1001, 1002, 1003, 1004, 1005, 1006, 1007, 1008, 1009, 1010, 1011, 1012, 1013, 1014, 1015, 1016, 1017, 1018, 1019, 1020, 1021, 1022, 1023, 1024, 1025, 1026, 1027, 1028, 1029, 1030, 1031, 1032, 1033, 1034, 1035, 1036, 1037, 1038, 1039, 1040, 1041, 1042, 1043, 1044, 1045, 1046, 1047, 1048, 1049, 1050, 1051, 1052, 1053, 1054, 1055, 1056, 1057, 1058, 1059, 1060, 1061, 1062, 1063, 1064, 1065, 1066, 1067, 1068, 1069, 1070, 1071, 1072, 1073, 1074, 1075, 1076, 1077, 1078, 1079, 1080, 1081, 1082, 1083, 1084, 1085, 1086, 1087, 1088, 1089, 1090, 1091, 1092, 1093, 1094, 1095, 1096, 1097, 1098, 1099, 1100, 1101, 1102, 1103, 1104, 1105, 1106, 1107, 1108, 1109, 1110, 1111, 1112, 1113, 1114, 1115, 1116, 1117, 1118, 1119, 1120, 1121, 1122, 1123, 1124, 1125, 1126, 1127, 1128, 1129, 1130, 1131, 1132, 1133, 1134, 1135, 1136, 1137, 1138, 1139, 1140, 1141, 1142, 1143, 1144, 1145, 1146, 1147, 1148, 1149, 1150, 1151, 1152, 1153, 1154, 1155, 1156, 1157, 1158, 1159, 1160, 1161, 1162, 1163, 1164, 1165, 1166, 1167, 1168, 1169, 1170, 1171, 1172, 1173, 1174, 1175, 1176, 1177, 1178, 1179, 1180, 1181, 1182, 1183, 1184, 1185, 1186, 1187, 1188, 1189, 1190, 1191, 1192, 1193, 1194, 1195, 1196, 1197, 1198, 1199, 1200, 1201, 1202, 1203, 1204, 1205, 1206, 1207, 1208, 1209, 1210, 1211, 1212, 1213, 1214, 1215, 1216, 1217, 1218, 1219, 1220, 1221, 1222, 1223, 1224, 1225, 1226, 1227, 1228, 1229, 1230, 1231, 1232, 1233, 1234, 1235, 1236, 1237, 1238, 1239, 1240, 1241, 1242, 1243, 1244, 1245, 1246, 1247, 1248, 1249, 1250, 1251, 1252, 1253, 1254, 1255, 1256, 1257, 1258, 1259, 1260, 1261, 1262, 1263, 1264, 1265, 1266, 1267, 1268, 1269, 1270, 1271, 1272, 1273, 1274, 1275, 1276, 1277, 1278, 1279, 1280, 1281, 1282, 1283, 1284, 1285, 1286, 1287, 1288, 1289, 1290, 1291, 1292, 1293, 1294, 1295, 1296, 1297, 1298, 1299, 1300, 1301, 1302, 1303, 1304, 1305, 1306, 1307, 1308, 1309, 1310, 1311, 1312, 1313, 1314, 1315, 1316, 1317, 1318, 1319, 1320, 1321, 1322, 1323, 1324, 1325, 1326, 1327, 1328, 1329, 1330, 1331, 1332, 1333, 1334, 1335, 1336, 1337, 1338, 1339, 1340, 1341, 1342, 1343, 1344, 1345, 1346, 1347, 1348, 1349, 1350, 1351, 1352, 1353, 1354, 1355, 1356, 1357, 1358, 1359, 1360, 1361, 1362, 1363, 1364, 1365, 1366, 1367, 1368, 1369, 1370, 1371, 1372, 1373, 1374, 1375, 1376, 1377, 1378, 1379, 1380, 1381, 1382, 1383, 1384, 1385, 1386, 1387, 1388, 1389, 1390, 1391, 1392, 1393, 1394, 1395, 1396, 1397, 1398, 1399, 1400, 1401, 1402, 1403, 1404, 1405, 1406, 1407, 1408, 1409, 1410, 1411, 1412, 1413, 1414, 1415, 1416, 1417, 1418, 1419, 1420, 1421, 1422, 1423, 1424, 1425, 1426, 1427, 1428, 1429, 1430, 1431, 1432, 1433, 1434, 1435, 1436, 1437, 1438, 1439, 1440, 1441, 1442, 1443, 1444, 1445, 1446, 1447, 1448],\n",
       " 'meter': ['#na#', 0, 1, 2, 3],\n",
       " 'timestampMonth': ['#na#', 1, 2, 3, 4, 5, 6, 7, 8, 9, 10, 11, 12],\n",
       " 'timestampDay': ['#na#', 1, 2, 3, 4, 5, 6, 7, 8, 9, 10, 11, 12, 13, 14, 15, 16, 17, 18, 19, 20, 21, 22, 23, 24, 25, 26, 27, 28, 29, 30, 31],\n",
       " 'timestampWeek': ['#na#', 1, 2, 3, 4, 5, 6, 7, 8, 9, 10, 11, 12, 13, 14, 15, 16, 17, 18, 19, 20, 21, 22, 23, 24, 25, 26, 27, 28, 29, 30, 31, 32, 33, 34, 35, 36, 37, 38, 39, 40, 41, 42, 43, 44, 45, 46, 47, 48, 49, 50, 51, 52, 53],\n",
       " 'timestampDayofweek': ['#na#', 0, 1, 2, 3, 4, 5, 6],\n",
       " 'timestampDayofyear': ['#na#', 1, 2, 3, 4, 5, 6, 7, 8, 9, 10, 11, 12, 13, 14, 15, 16, 17, 18, 19, 20, 21, 22, 23, 24, 25, 26, 27, 28, 29, 30, 31, 32, 33, 34, 35, 36, 37, 38, 39, 40, 41, 42, 43, 44, 45, 46, 47, 48, 49, 50, 51, 52, 53, 54, 55, 56, 57, 58, 59, 60, 61, 62, 63, 64, 65, 66, 67, 68, 69, 70, 71, 72, 73, 74, 75, 76, 77, 78, 79, 80, 81, 82, 83, 84, 85, 86, 87, 88, 89, 90, 91, 92, 93, 94, 95, 96, 97, 98, 99, 100, 101, 102, 103, 104, 105, 106, 107, 108, 109, 110, 111, 112, 113, 114, 115, 116, 117, 118, 119, 120, 121, 122, 123, 124, 125, 126, 127, 128, 129, 130, 131, 132, 133, 134, 135, 136, 137, 138, 139, 140, 141, 142, 143, 144, 145, 146, 147, 148, 149, 150, 151, 152, 153, 154, 155, 156, 157, 158, 159, 160, 161, 162, 163, 164, 165, 166, 167, 168, 169, 170, 171, 172, 173, 174, 175, 176, 177, 178, 179, 180, 181, 182, 183, 184, 185, 186, 187, 188, 189, 190, 191, 192, 193, 194, 195, 196, 197, 198, 199, 200, 201, 202, 203, 204, 205, 206, 207, 208, 209, 210, 211, 212, 213, 214, 215, 216, 217, 218, 219, 220, 221, 222, 223, 224, 225, 226, 227, 228, 229, 230, 231, 232, 233, 234, 235, 236, 237, 238, 239, 240, 241, 242, 243, 244, 245, 246, 247, 248, 249, 250, 251, 252, 253, 254, 255, 256, 257, 258, 259, 260, 261, 262, 263, 264, 265, 266, 267, 268, 269, 270, 271, 272, 273, 274, 275, 276, 277, 278, 279, 280, 281, 282, 283, 284, 285, 286, 287, 288, 289, 290, 291, 292, 293, 294, 295, 296, 297, 298, 299, 300, 301, 302, 303, 304, 305, 306, 307, 308, 309, 310, 311, 312, 313, 314, 315, 316, 317, 318, 319, 320, 321, 322, 323, 324, 325, 326, 327, 328, 329, 330, 331, 332, 333, 334, 335, 336, 337, 338, 339, 340, 341, 342, 343, 344, 345, 346, 347, 348, 349, 350, 351, 352, 353, 354, 355, 356, 357, 358, 359, 360, 361, 362, 363, 364, 365, 366],\n",
       " 'timestampIs_month_end': ['#na#', False, True],\n",
       " 'timestampIs_month_start': ['#na#', False, True],\n",
       " 'timestampIs_quarter_start': ['#na#', False, True],\n",
       " 'timestampIs_quarter_end': ['#na#', False, True],\n",
       " 'timestampIs_year_start': ['#na#', False, True],\n",
       " 'timestampIs_year_end': ['#na#', False, True],\n",
       " 'timestampHour': ['#na#', 0, 1, 2, 3, 4, 5, 6, 7, 8, 9, 10, 11, 12, 13, 14, 15, 16, 17, 18, 19, 20, 21, 22, 23],\n",
       " 'timestampIs_us_holiday': ['#na#', False, True],\n",
       " 'air_temperature_na(processor)': ['#na#', False, True],\n",
       " 'cloud_coverage_na(processor)': ['#na#', False, True],\n",
       " 'dew_temperature_na(processor)': ['#na#', False, True],\n",
       " 'precip_depth_1_hr_na(processor)': ['#na#', False, True],\n",
       " 'sea_level_pressure_na(processor)': ['#na#', False, True],\n",
       " 'wind_direction_na(processor)': ['#na#', False, True],\n",
       " 'wind_speed_na(processor)': ['#na#', False, True],\n",
       " 'site_id': ['#na#', 0, 1, 2, 3, 4, 5, 6, 7, 8, 9, 10, 11, 12, 13, 14, 15],\n",
       " 'primary_use': ['#na#', 'Education', 'Entertainment/public assembly', 'Food sales and service', 'Healthcare', 'Lodging/residential', 'Manufacturing/industrial', 'Office', 'Other', 'Parking', 'Public services', 'Religious worship', 'Retail', 'Services', 'Technology/science', 'Utility', 'Warehouse/storage'],\n",
       " 'wind_direction_na': ['#na#', False, True],\n",
       " 'air_temperature_na': ['#na#', False, True],\n",
       " 'dew_temperature_na': ['#na#', False, True],\n",
       " 'precip_depth_1_hr_na': ['#na#', False, True],\n",
       " 'sea_level_pressure_na': ['#na#', False, True],\n",
       " 'wind_speed_na': ['#na#', False, True],\n",
       " 'cloud_coverage_na': ['#na#', False, True],\n",
       " 'year_built_na': ['#na#', False, True],\n",
       " 'floor_count_na': ['#na#', False, True]}"
      ]
     },
     "execution_count": 33,
     "metadata": {},
     "output_type": "execute_result"
    }
   ],
   "source": [
    "test_dl.classes"
   ]
  },
  {
   "cell_type": "code",
   "execution_count": 38,
   "metadata": {
    "scrolled": true
   },
   "outputs": [
    {
     "data": {
      "text/plain": [
       "0"
      ]
     },
     "execution_count": 38,
     "metadata": {},
     "output_type": "execute_result"
    }
   ],
   "source": [
    "test_dl.classes['meter'].o2i['#na']"
   ]
  },
  {
   "cell_type": "code",
   "execution_count": 39,
   "metadata": {},
   "outputs": [
    {
     "data": {
      "text/plain": [
       "'before rescaling'"
      ]
     },
     "metadata": {},
     "output_type": "display_data"
    },
    {
     "data": {
      "text/html": [
       "<div>\n",
       "<style scoped>\n",
       "    .dataframe tbody tr th:only-of-type {\n",
       "        vertical-align: middle;\n",
       "    }\n",
       "\n",
       "    .dataframe tbody tr th {\n",
       "        vertical-align: top;\n",
       "    }\n",
       "\n",
       "    .dataframe thead th {\n",
       "        text-align: right;\n",
       "    }\n",
       "</style>\n",
       "<table border=\"1\" class=\"dataframe\">\n",
       "  <thead>\n",
       "    <tr style=\"text-align: right;\">\n",
       "      <th></th>\n",
       "      <th>meter_reading</th>\n",
       "    </tr>\n",
       "    <tr>\n",
       "      <th>row_id</th>\n",
       "      <th></th>\n",
       "    </tr>\n",
       "  </thead>\n",
       "  <tbody>\n",
       "    <tr>\n",
       "      <th>8806925</th>\n",
       "      <td>68.210304</td>\n",
       "    </tr>\n",
       "    <tr>\n",
       "      <th>35102001</th>\n",
       "      <td>24.198999</td>\n",
       "    </tr>\n",
       "    <tr>\n",
       "      <th>21876748</th>\n",
       "      <td>6.581793</td>\n",
       "    </tr>\n",
       "    <tr>\n",
       "      <th>2575372</th>\n",
       "      <td>51.853706</td>\n",
       "    </tr>\n",
       "    <tr>\n",
       "      <th>25127301</th>\n",
       "      <td>11.948301</td>\n",
       "    </tr>\n",
       "  </tbody>\n",
       "</table>\n",
       "</div>"
      ],
      "text/plain": [
       "          meter_reading\n",
       "row_id                 \n",
       "8806925       68.210304\n",
       "35102001      24.198999\n",
       "21876748       6.581793\n",
       "2575372       51.853706\n",
       "25127301      11.948301"
      ]
     },
     "metadata": {},
     "output_type": "display_data"
    },
    {
     "data": {
      "text/plain": [
       "'after joining'"
      ]
     },
     "metadata": {},
     "output_type": "display_data"
    },
    {
     "data": {
      "text/html": [
       "<div>\n",
       "<style scoped>\n",
       "    .dataframe tbody tr th:only-of-type {\n",
       "        vertical-align: middle;\n",
       "    }\n",
       "\n",
       "    .dataframe tbody tr th {\n",
       "        vertical-align: top;\n",
       "    }\n",
       "\n",
       "    .dataframe thead th {\n",
       "        text-align: right;\n",
       "    }\n",
       "</style>\n",
       "<table border=\"1\" class=\"dataframe\">\n",
       "  <thead>\n",
       "    <tr style=\"text-align: right;\">\n",
       "      <th></th>\n",
       "      <th>meter_reading</th>\n",
       "      <th>building_id</th>\n",
       "      <th>meter</th>\n",
       "    </tr>\n",
       "    <tr>\n",
       "      <th>row_id</th>\n",
       "      <th></th>\n",
       "      <th></th>\n",
       "      <th></th>\n",
       "    </tr>\n",
       "  </thead>\n",
       "  <tbody>\n",
       "    <tr>\n",
       "      <th>8806925</th>\n",
       "      <td>68.210304</td>\n",
       "      <td>492</td>\n",
       "      <td>1</td>\n",
       "    </tr>\n",
       "    <tr>\n",
       "      <th>35102001</th>\n",
       "      <td>24.198999</td>\n",
       "      <td>1234</td>\n",
       "      <td>4</td>\n",
       "    </tr>\n",
       "    <tr>\n",
       "      <th>21876748</th>\n",
       "      <td>6.581793</td>\n",
       "      <td>942</td>\n",
       "      <td>1</td>\n",
       "    </tr>\n",
       "    <tr>\n",
       "      <th>2575372</th>\n",
       "      <td>51.853706</td>\n",
       "      <td>138</td>\n",
       "      <td>1</td>\n",
       "    </tr>\n",
       "    <tr>\n",
       "      <th>25127301</th>\n",
       "      <td>11.948301</td>\n",
       "      <td>1018</td>\n",
       "      <td>2</td>\n",
       "    </tr>\n",
       "  </tbody>\n",
       "</table>\n",
       "</div>"
      ],
      "text/plain": [
       "          meter_reading  building_id  meter\n",
       "row_id                                     \n",
       "8806925       68.210304          492      1\n",
       "35102001      24.198999         1234      4\n",
       "21876748       6.581793          942      1\n",
       "2575372       51.853706          138      1\n",
       "25127301      11.948301         1018      2"
      ]
     },
     "metadata": {},
     "output_type": "display_data"
    },
    {
     "data": {
      "text/plain": [
       "'after rescaling'"
      ]
     },
     "metadata": {},
     "output_type": "display_data"
    },
    {
     "data": {
      "text/html": [
       "<div>\n",
       "<style scoped>\n",
       "    .dataframe tbody tr th:only-of-type {\n",
       "        vertical-align: middle;\n",
       "    }\n",
       "\n",
       "    .dataframe tbody tr th {\n",
       "        vertical-align: top;\n",
       "    }\n",
       "\n",
       "    .dataframe thead th {\n",
       "        text-align: right;\n",
       "    }\n",
       "</style>\n",
       "<table border=\"1\" class=\"dataframe\">\n",
       "  <thead>\n",
       "    <tr style=\"text-align: right;\">\n",
       "      <th></th>\n",
       "      <th>meter_reading</th>\n",
       "      <th>building_id</th>\n",
       "      <th>meter</th>\n",
       "    </tr>\n",
       "    <tr>\n",
       "      <th>row_id</th>\n",
       "      <th></th>\n",
       "      <th></th>\n",
       "      <th></th>\n",
       "    </tr>\n",
       "  </thead>\n",
       "  <tbody>\n",
       "    <tr>\n",
       "      <th>8806925</th>\n",
       "      <td>68.210304</td>\n",
       "      <td>492</td>\n",
       "      <td>1</td>\n",
       "    </tr>\n",
       "    <tr>\n",
       "      <th>35102001</th>\n",
       "      <td>24.198999</td>\n",
       "      <td>1234</td>\n",
       "      <td>4</td>\n",
       "    </tr>\n",
       "    <tr>\n",
       "      <th>21876748</th>\n",
       "      <td>6.581793</td>\n",
       "      <td>942</td>\n",
       "      <td>1</td>\n",
       "    </tr>\n",
       "    <tr>\n",
       "      <th>2575372</th>\n",
       "      <td>51.853706</td>\n",
       "      <td>138</td>\n",
       "      <td>1</td>\n",
       "    </tr>\n",
       "    <tr>\n",
       "      <th>25127301</th>\n",
       "      <td>11.948301</td>\n",
       "      <td>1018</td>\n",
       "      <td>2</td>\n",
       "    </tr>\n",
       "  </tbody>\n",
       "</table>\n",
       "</div>"
      ],
      "text/plain": [
       "          meter_reading  building_id  meter\n",
       "row_id                                     \n",
       "8806925       68.210304          492      1\n",
       "35102001      24.198999         1234      4\n",
       "21876748       6.581793          942      1\n",
       "2575372       51.853706          138      1\n",
       "25127301      11.948301         1018      2"
      ]
     },
     "metadata": {},
     "output_type": "display_data"
    },
    {
     "data": {
      "text/html": [
       "<div>\n",
       "<style scoped>\n",
       "    .dataframe tbody tr th:only-of-type {\n",
       "        vertical-align: middle;\n",
       "    }\n",
       "\n",
       "    .dataframe tbody tr th {\n",
       "        vertical-align: top;\n",
       "    }\n",
       "\n",
       "    .dataframe thead th {\n",
       "        text-align: right;\n",
       "    }\n",
       "</style>\n",
       "<table border=\"1\" class=\"dataframe\">\n",
       "  <thead>\n",
       "    <tr style=\"text-align: right;\">\n",
       "      <th></th>\n",
       "      <th>meter_reading</th>\n",
       "    </tr>\n",
       "    <tr>\n",
       "      <th>row_id</th>\n",
       "      <th></th>\n",
       "    </tr>\n",
       "  </thead>\n",
       "  <tbody>\n",
       "    <tr>\n",
       "      <th>8806925</th>\n",
       "      <td>68.210304</td>\n",
       "    </tr>\n",
       "    <tr>\n",
       "      <th>35102001</th>\n",
       "      <td>24.198999</td>\n",
       "    </tr>\n",
       "    <tr>\n",
       "      <th>21876748</th>\n",
       "      <td>6.581793</td>\n",
       "    </tr>\n",
       "    <tr>\n",
       "      <th>2575372</th>\n",
       "      <td>51.853706</td>\n",
       "    </tr>\n",
       "    <tr>\n",
       "      <th>25127301</th>\n",
       "      <td>11.948301</td>\n",
       "    </tr>\n",
       "  </tbody>\n",
       "</table>\n",
       "</div>"
      ],
      "text/plain": [
       "          meter_reading\n",
       "row_id                 \n",
       "8806925       68.210304\n",
       "35102001      24.198999\n",
       "21876748       6.581793\n",
       "2575372       51.853706\n",
       "25127301      11.948301"
      ]
     },
     "metadata": {},
     "output_type": "display_data"
    },
    {
     "ename": "AssertionError",
     "evalue": "",
     "output_type": "error",
     "traceback": [
      "\u001b[0;31m---------------------------------------------------------------------------\u001b[0m",
      "\u001b[0;31mAssertionError\u001b[0m                            Traceback (most recent call last)",
      "\u001b[0;32m<timed exec>\u001b[0m in \u001b[0;36m<module>\u001b[0;34m\u001b[0m\n",
      "\u001b[0;31mAssertionError\u001b[0m: "
     ]
    }
   ],
   "source": [
    "%%time\n",
    "if do_test:\n",
    "    y_test_pred_original = torch.exp(tensor(y_test_pred)) - 1\n",
    "\n",
    "    y_out = pd.DataFrame(cnr(y_test_pred_original),\n",
    "                         columns=['meter_reading'],\n",
    "                         index=test_dl.xs.index)\n",
    "    \n",
    "    # for meter 0 readings of site 0 buildings\n",
    "    y_out = y_out.join(test_dl.xs.loc[:,['building_id', 'meter']])\n",
    "\n",
    "    _meter = test_dl.classes['meter'].o2i[0]\n",
    "    _bids = [test_dl.classes['building_id'].o2i[_bid] for _bid in preprocessing.site0_bids]\n",
    "    y_out = preprocessing.convert_meter_reading(y_out, _bids,\n",
    "                                                preprocessing.kWh_to_kBTU,\n",
    "                                                meter=_meter)\n",
    "    y_out.drop(columns=['building_id', 'meter'], inplace=True)\n",
    "    display(y_out.head())\n",
    "\n",
    "    assert len(y_out) == 41697600"
   ]
  },
  {
   "cell_type": "markdown",
   "metadata": {},
   "source": [
    "> Note: Writing to csv takes ~2min"
   ]
  },
  {
   "cell_type": "code",
   "execution_count": null,
   "metadata": {},
   "outputs": [],
   "source": [
    "%%time\n",
    "if do_submit:\n",
    "    y_out.to_csv(data_path/'my_submission.csv',\n",
    "                 float_format='%.4f')"
   ]
  },
  {
   "cell_type": "markdown",
   "metadata": {},
   "source": [
    "`kaggle competitions submit -c ashrae-energy-prediction -f submission.csv -m \"Message\"`"
   ]
  },
  {
   "cell_type": "code",
   "execution_count": null,
   "metadata": {},
   "outputs": [],
   "source": [
    "#export\n",
    "def pretty_dictionary(d:dict): return ', '.join(f'{k} = {v}' for k,v in d.items())"
   ]
  },
  {
   "cell_type": "code",
   "execution_count": null,
   "metadata": {},
   "outputs": [],
   "source": [
    "act = 'ReLu'\n",
    "\n",
    "# lin_model_msg = f'baseline (linear regression)'\n",
    "rf_model_msg = f'RandomForest: {pretty_dictionary(params)}'\n",
    "if trees_with_embeddings:\n",
    "    rf_model_msg += ' (with embeddings)'\n",
    "lgbm_model_msg = f'LGBM: {pretty_dictionary(params)}'\n",
    "\n",
    "fast_model_msg = f'tabular_learner (run #{run}): act {act}, layers {layers}, ps {ps}, embed_p {embed_p}'\n",
    "\n",
    "# model_msg = f'Ensembling tabular_learner and RandomForest ({fast_model_msg}, {rf_model_msg})'\n",
    "model_msg = f'Ensembling LGBM, tabular_learner and RandomForest ({lgbm_model_msg}, {fast_model_msg}, {rf_model_msg})'\n",
    "# model_msg = rf_model_msg\n",
    "# model_msg = lgbm_model_msg\n",
    "\n",
    "split_msg = f'split kind \"{split_kind}\" N_TRAIN {loading.N_TRAIN}'\n",
    "samples_msg = f'num samples {len(dls.xs)} = {len(dls.xs)/20216100/2*100:.2f} %'\n",
    "features_msg = f'weather and building features'\n",
    "score_msg = f'nb score {nb_score:.4f}'\n",
    "# message = ['baseline (linear regression on dep_var_stats and 1hot meter) ', '500 obs/bid', f'nb score {nb_score:.4f}']\n",
    "# message = ['random forest', '500 obs/bid', 'all features', f'nb score {nb_score:.4f}']\n",
    "# message = ['lightgbm', '500 obs/bid', '100 rounds', '42 leaves', 'lr .5', f'nb score {nb_score:.4f}']\n",
    "# message = ['tabular_learner', '500 obs/bid', 'all features', f'layers {layers}, embed_p .1, ps [.1,.1,.1]', f'nb score {nb_score:.4f}']\n",
    "message = ' + '.join([model_msg, samples_msg, split_msg, features_msg, score_msg])\n",
    "message"
   ]
  },
  {
   "cell_type": "code",
   "execution_count": null,
   "metadata": {},
   "outputs": [],
   "source": [
    "if do_test and do_submit:\n",
    "    print('Submitting...')\n",
    "    !kaggle competitions submit -c ashrae-energy-prediction -f '{data_path}/my_submission.csv' -m '{message}'"
   ]
  },
  {
   "cell_type": "code",
   "execution_count": null,
   "metadata": {},
   "outputs": [],
   "source": [
    "#hide\n",
    "from nbdev.export import *\n",
    "notebook2script()"
   ]
  }
 ],
 "metadata": {
  "kernelspec": {
   "display_name": "Python [conda env:py38_fastai]",
   "language": "python",
   "name": "conda-env-py38_fastai-py"
  },
  "language_info": {
   "codemirror_mode": {
    "name": "ipython",
    "version": 3
   },
   "file_extension": ".py",
   "mimetype": "text/x-python",
   "name": "python",
   "nbconvert_exporter": "python",
   "pygments_lexer": "ipython3",
   "version": "3.8.5"
  },
  "toc": {
   "base_numbering": 1,
   "nav_menu": {},
   "number_sections": true,
   "sideBar": true,
   "skip_h1_title": false,
   "title_cell": "Table of Contents",
   "title_sidebar": "Contents",
   "toc_cell": false,
   "toc_position": {},
   "toc_section_display": true,
   "toc_window_display": false
  }
 },
 "nbformat": 4,
 "nbformat_minor": 4
}

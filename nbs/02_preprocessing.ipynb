{
 "cells": [
  {
   "cell_type": "code",
   "execution_count": null,
   "metadata": {},
   "outputs": [],
   "source": [
    "# default_exp preprocessing"
   ]
  },
  {
   "cell_type": "markdown",
   "metadata": {},
   "source": [
    "# Preprocessing data\n",
    "\n",
    "> Inspecting any particular irregularities and general preparation of the data for modelling."
   ]
  },
  {
   "cell_type": "code",
   "execution_count": null,
   "metadata": {},
   "outputs": [],
   "source": [
    "%load_ext autoreload\n",
    "%autoreload 2"
   ]
  },
  {
   "cell_type": "code",
   "execution_count": null,
   "metadata": {},
   "outputs": [],
   "source": [
    "#export\n",
    "import pandas as pd\n",
    "from pathlib import Path\n",
    "import os\n",
    "import plotly.graph_objects as go\n",
    "import plotly.express as px\n",
    "import numpy as np\n",
    "import typing\n",
    "import pickle\n",
    "\n",
    "from sklearn import linear_model, tree, model_selection, ensemble\n",
    "from ashrae import inspection\n",
    "from fastai.tabular.all import *\n",
    "\n",
    "import tqdm\n",
    "\n",
    "from sklearn import linear_model, tree, model_selection, ensemble"
   ]
  },
  {
   "cell_type": "code",
   "execution_count": null,
   "metadata": {},
   "outputs": [],
   "source": [
    "pd.options.plotting.backend = \"plotly\""
   ]
  },
  {
   "cell_type": "code",
   "execution_count": null,
   "metadata": {},
   "outputs": [],
   "source": [
    "data_path = Path(\"../data\")"
   ]
  },
  {
   "cell_type": "code",
   "execution_count": null,
   "metadata": {},
   "outputs": [],
   "source": [
    "csvs = inspection.get_csvs(data_path)\n",
    "csvs"
   ]
  },
  {
   "cell_type": "code",
   "execution_count": null,
   "metadata": {},
   "outputs": [],
   "source": [
    "%%time\n",
    "train = inspection.get_core_Xy(csvs['train'])\n",
    "display(train.head(), train.info())"
   ]
  },
  {
   "cell_type": "code",
   "execution_count": null,
   "metadata": {},
   "outputs": [],
   "source": [
    "%%time\n",
    "test = inspection.get_core_Xy(csvs['test'])\n",
    "display(test.head(), test.info())"
   ]
  },
  {
   "cell_type": "code",
   "execution_count": null,
   "metadata": {},
   "outputs": [],
   "source": [
    "%%time\n",
    "building = inspection.get_building_X(csvs['building'])\n",
    "display(building.head(), building.info())"
   ]
  },
  {
   "cell_type": "code",
   "execution_count": null,
   "metadata": {},
   "outputs": [],
   "source": [
    "%%time\n",
    "weather_train = inspection.get_weather_X(csvs['weather_train'])\n",
    "display(weather_train.head(), weather_train.info())"
   ]
  },
  {
   "cell_type": "code",
   "execution_count": null,
   "metadata": {},
   "outputs": [],
   "source": [
    "%%time\n",
    "weather_test = inspection.get_weather_X(csvs['weather_test'])\n",
    "display(weather_test.head(), weather_test.info())"
   ]
  },
  {
   "cell_type": "code",
   "execution_count": null,
   "metadata": {},
   "outputs": [],
   "source": [
    "#export\n",
    "DEP_VAR = 'meter_reading'\n",
    "TIME_COL = 'timestamp'\n",
    "\n",
    "class Processor:\n",
    "    \n",
    "    dep_var_stats:dict = None\n",
    "    \n",
    "    def __call__(self, df_core:pd.DataFrame, df_building:pd.DataFrame=None,\n",
    "                 df_weather:pd.DataFrame=None, dep_var:str=None, time_col:str=None,\n",
    "                 add_time_features:bool=False, add_dep_var_stats:bool=False) -> pd.DataFrame:\n",
    "    \n",
    "        # TODO: \n",
    "        # - add daily features: temperature delta per site_id, total rain fall, ...\n",
    "        # - add global stats: mean, median and so on of dep_var by building_id or type\n",
    "        # - add consumption of the days around the day of interest\n",
    "\n",
    "\n",
    "        # sanity check presence of df_building if df_weather is given\n",
    "        if df_weather is not None:\n",
    "            assert df_building is not None, 'To join the weather info in `df_weather` you need to pass `df_building`.'\n",
    "\n",
    "        self.dep_var = DEP_VAR if dep_var is None else dep_var\n",
    "        self.time_col = TIME_COL if time_col is None else time_col\n",
    "\n",
    "        self.conts, self.cats = [], []\n",
    "\n",
    "        # sanity check if `df` is a test set (dep_var is missing)\n",
    "        self.is_train = self.dep_var in df_core.columns\n",
    "\n",
    "        # core pieces of dependent and independent variables\n",
    "        self.dep_var_new = f'{self.dep_var}_log1p'\n",
    "        if self.is_train:\n",
    "            df_core[self.dep_var_new] = np.log(df_core[self.dep_var].values + 1)\n",
    "        self.cats += ['building_id', 'meter']\n",
    "\n",
    "        # adding basic statistics as features\n",
    "        if add_dep_var_stats:\n",
    "            df_core = self.add_dep_var_stats(df_core)\n",
    "\n",
    "        # adding building information\n",
    "        if df_building is not None:\n",
    "            df_core = self.add_building_features(df_core, df_building)\n",
    "\n",
    "        # adding weather information\n",
    "        if df_weather is not None:\n",
    "            df_core = self.add_weather_features(df_core, df_weather)\n",
    "        \n",
    "        # add timestamp related fields\n",
    "        if add_time_features:\n",
    "            df_core = self.add_time_features(df_core)\n",
    "        \n",
    "        df_core, var_names = self.cleanup(df_core)\n",
    "        return df_core, var_names\n",
    "    \n",
    "    \n",
    "    def add_dep_var_stats(self, df_core:pd.DataFrame):\n",
    "        assert self.is_train or self.dep_var_stats is not None\n",
    "        if self.is_train: \n",
    "            self.dep_var_stats = dict()\n",
    "        funs = {\n",
    "            'median': lambda x: torch.median(tensor(x)).item(),\n",
    "            'mean': lambda x: torch.mean(tensor(x)).item(),\n",
    "            '5%': lambda x: np.percentile(x, 5),\n",
    "            '95%': lambda x: np.percentile(x, 95),\n",
    "        }\n",
    "        for name, fun in funs.items():\n",
    "            name = f'{self.dep_var}_{name}'\n",
    "            self.conts.append(name)\n",
    "            \n",
    "            if self.is_train:\n",
    "                value = fun(df_core[self.dep_var].values)\n",
    "                df_core[name] = value\n",
    "                self.dep_var_stats[name] = value\n",
    "            else:\n",
    "                df_core[name] = self.dep_var_stats[name]\n",
    "        return df_core\n",
    "                \n",
    "    def add_time_features(self, df_core:pd.DataFrame):\n",
    "        self.cats.extend(['timestampMonth', 'timestampDay', 'timestampWeek', 'timestampDayofweek',\n",
    "                     'timestampDayofyear', 'timestampIs_month_end', 'timestampIs_month_start',\n",
    "                     'timestampIs_quarter_start', 'timestampIs_quarter_end',\n",
    "                     'timestampIs_year_start', 'timestampIs_year_end',])\n",
    "        return add_datepart(df_core, self.time_col)\n",
    "    \n",
    "    def add_building_features(self, df_core:pd.DataFrame, df_building:pd.DataFrame):\n",
    "        n = len(df_core)\n",
    "        df_core = pd.merge(df_core, df_building, on='building_id', how='left')\n",
    "        assert n == len(df_core)\n",
    "\n",
    "        self.cats.extend(['site_id', 'primary_use'])\n",
    "        self.conts.extend(['square_feet', 'year_built', 'floor_count'])\n",
    "        return df_core\n",
    "    \n",
    "    def add_weather_features(self, df_core:pd.DataFrame, df_weather:pd.DataFrame):\n",
    "        n = len(df_core)\n",
    "        df_core = pd.merge(df_core, df_weather, on=['site_id', 'timestamp'], how='left')\n",
    "        assert n == len(df_core)\n",
    "\n",
    "        self.cats.extend(['cloud_coverage', 'wind_direction'])\n",
    "        self.conts.extend(['air_temperature', 'dew_temperature', 'precip_depth_1_hr',\n",
    "                      'sea_level_pressure', 'wind_speed'])\n",
    "        return df_core\n",
    "    \n",
    "    def cleanup(self, df_core:pd.DataFrame):\n",
    "        # converting cats to category type\n",
    "        for col in self.cats:\n",
    "            df_core[col] = df_core[col].astype('category')\n",
    "\n",
    "        # removing features \n",
    "        to_remove_cols = [self.dep_var, 'timestampElapsed', 'timestampYear', self.time_col]\n",
    "        df_core = df_core.drop(columns=[c for c in df_core.columns if c in to_remove_cols])\n",
    "        df_core = df_shrink(df_core, int2uint=True)\n",
    "\n",
    "        var_names = {'conts': self.conts, 'cats': self.cats, 'dep_var': self.dep_var_new}\n",
    "        if not self.is_train:\n",
    "            df_core.set_index('row_id', inplace=True)\n",
    "        missing_cols = [col for col in df_core.columns.values if col not in self.cats + self.conts + [self.dep_var_new]]\n",
    "        assert len(missing_cols) == 0, f'Missed to assign columns: {missing_cols} to `conts` or `cats`'\n",
    "        return df_core, var_names"
   ]
  },
  {
   "cell_type": "code",
   "execution_count": null,
   "metadata": {},
   "outputs": [],
   "source": [
    "process_config = dict(\n",
    "    add_time_features = True,\n",
    "    add_dep_var_stats = True,\n",
    "    df_building = building,\n",
    "    df_weather = weather_train\n",
    ")\n",
    "process = Processor()"
   ]
  },
  {
   "cell_type": "code",
   "execution_count": null,
   "metadata": {},
   "outputs": [],
   "source": [
    "%%time\n",
    "df, var_names = process(train.copy(), \n",
    "                        **process_config)"
   ]
  },
  {
   "cell_type": "code",
   "execution_count": null,
   "metadata": {},
   "outputs": [],
   "source": [
    "%%time\n",
    "df_test, _ = process(test.copy(), \n",
    "                                  **process_config)"
   ]
  },
  {
   "cell_type": "code",
   "execution_count": null,
   "metadata": {},
   "outputs": [],
   "source": [
    "#hide\n",
    "assert len(df_test.columns) + 1 == len(df.columns)"
   ]
  },
  {
   "cell_type": "code",
   "execution_count": null,
   "metadata": {},
   "outputs": [],
   "source": [
    "df_test.head().T"
   ]
  },
  {
   "cell_type": "code",
   "execution_count": null,
   "metadata": {},
   "outputs": [],
   "source": [
    "df_test.info()"
   ]
  },
  {
   "cell_type": "code",
   "execution_count": null,
   "metadata": {},
   "outputs": [],
   "source": [
    "#export\n",
    "def test_var_names(var_names:dict):\n",
    "    assert isinstance(var_names, dict)\n",
    "    assert 'conts' in var_names and 'cats' in var_names and 'dep_var' in var_names\n",
    "    assert isinstance(var_names['conts'], list) \n",
    "    assert isinstance(var_names['cats'], list) \n",
    "    assert isinstance(var_names['dep_var'], str)"
   ]
  },
  {
   "cell_type": "code",
   "execution_count": null,
   "metadata": {},
   "outputs": [],
   "source": [
    "test_var_names(var_names)"
   ]
  },
  {
   "cell_type": "code",
   "execution_count": null,
   "metadata": {},
   "outputs": [],
   "source": [
    "#export\n",
    "def store_var_names(data_path:Path, var_names:dict):\n",
    "    fname = data_path/'var_names.pckl'\n",
    "    print(f'Storing var names at: {fname}')\n",
    "    with open(fname, 'wb') as f:\n",
    "        pickle.dump(var_names, f)"
   ]
  },
  {
   "cell_type": "code",
   "execution_count": null,
   "metadata": {},
   "outputs": [],
   "source": [
    "%%time\n",
    "store_var_names(data_path, var_names)"
   ]
  },
  {
   "cell_type": "code",
   "execution_count": null,
   "metadata": {},
   "outputs": [],
   "source": [
    "#export\n",
    "def load_var_names(fname:Path):\n",
    "    print(f'Reading var names at: {fname}')\n",
    "    with open(fname, 'rb') as f:\n",
    "        var_names = pickle.load(f)\n",
    "    return var_names"
   ]
  },
  {
   "cell_type": "code",
   "execution_count": null,
   "metadata": {},
   "outputs": [],
   "source": [
    "%%time\n",
    "# var_names = load_var_names(data_path/'var_names.pckl')"
   ]
  },
  {
   "cell_type": "code",
   "execution_count": null,
   "metadata": {},
   "outputs": [],
   "source": [
    "#hide\n",
    "test_var_names(var_names)"
   ]
  },
  {
   "cell_type": "code",
   "execution_count": null,
   "metadata": {},
   "outputs": [],
   "source": [
    "#export\n",
    "def store_df(path:Path, df:pd.DataFrame): df.to_parquet(path)"
   ]
  },
  {
   "cell_type": "code",
   "execution_count": null,
   "metadata": {},
   "outputs": [],
   "source": [
    "%%time\n",
    "# store_df(data_path/'X.parquet', df)"
   ]
  },
  {
   "cell_type": "code",
   "execution_count": null,
   "metadata": {},
   "outputs": [],
   "source": [
    "%%time\n",
    "# store_df(data_path/'X_test.parquet', df_test)"
   ]
  },
  {
   "cell_type": "code",
   "execution_count": null,
   "metadata": {},
   "outputs": [],
   "source": [
    "#export\n",
    "def load_df(path:Path): return pd.read_parquet(path)"
   ]
  },
  {
   "cell_type": "code",
   "execution_count": null,
   "metadata": {},
   "outputs": [],
   "source": [
    "%%time\n",
    "# df = load_df(data_path/'X.parquet')"
   ]
  },
  {
   "cell_type": "markdown",
   "metadata": {},
   "source": [
    "Training to get a basic idea if the added features do have any benefit"
   ]
  },
  {
   "cell_type": "code",
   "execution_count": null,
   "metadata": {},
   "outputs": [],
   "source": [
    "def train_predict(df:pd.DataFrame, var_names:dict, \n",
    "                  model, params:dict=None, n_rep:int=3,\n",
    "                  n_samples_train:int=10000, \n",
    "                  n_samples_test:int=10000,\n",
    "                  test_size:float=.2):\n",
    "\n",
    "    y_col = var_names['dep_var']\n",
    "    score_vals = []\n",
    "    params = {} if params is None else params\n",
    "\n",
    "    procs = [Categorify, FillMissing, Normalize]\n",
    "    to = TabularPandas(df.copy(), procs, \n",
    "                       var_names['cats'], var_names['conts'], \n",
    "                       y_names=var_names['dep_var'])\n",
    "    \n",
    "    for i in tqdm.tqdm(range(n_rep), total=n_rep, desc='Repetition'):\n",
    "        \n",
    "        mask = to.xs.index.isin(\n",
    "            np.random.choice(to.xs.index.values, size=int(test_size*len(to.xs)), replace=False)\n",
    "        )\n",
    "        \n",
    "        m = model(**params)\n",
    "        \n",
    "        _X = to.xs.loc[~mask, :].iloc[:n_samples_train]\n",
    "        _y = to.ys.loc[~mask, y_col].iloc[:n_samples_train]\n",
    "        m.fit(_X.values, _y.values)\n",
    "        \n",
    "        _X = to.xs.loc[mask, :].iloc[:n_samples_test]\n",
    "        _y = to.ys.loc[mask, y_col].iloc[:n_samples_test]\n",
    "        pred = m.predict(_X.values)\n",
    "        s = torch.sqrt(F.mse_loss(tensor(pred), tensor(_y.values))).item()\n",
    "        score_vals.append({'iter': i, 'rmse loss': s})\n",
    "    \n",
    "    return pd.DataFrame(score_vals)"
   ]
  },
  {
   "cell_type": "code",
   "execution_count": null,
   "metadata": {},
   "outputs": [],
   "source": [
    "params = {'n_estimators': 20, 'max_features': 'sqrt'}\n",
    "model = ensemble.RandomForestRegressor\n",
    "# params = None\n",
    "# model = linear_model.LinearRegression\n",
    "n_rep = 21\n",
    "n_samples_train = 10000\n",
    "n_samples_test = 1000"
   ]
  },
  {
   "cell_type": "code",
   "execution_count": null,
   "metadata": {},
   "outputs": [],
   "source": [
    "%%time\n",
    "df_rep = train_predict(df.copy(), var_names, model, params=params, \n",
    "                       n_rep=n_rep, n_samples_train=n_samples_train,\n",
    "                       n_samples_test=n_samples_test)"
   ]
  },
  {
   "cell_type": "code",
   "execution_count": null,
   "metadata": {},
   "outputs": [],
   "source": [
    "df_rep['rmse loss'].describe()"
   ]
  },
  {
   "cell_type": "code",
   "execution_count": null,
   "metadata": {},
   "outputs": [],
   "source": [
    "px.box(df_rep, y='rmse loss', range_y=(0, 2.5))"
   ]
  },
  {
   "cell_type": "markdown",
   "metadata": {},
   "source": [
    "Baseline model = RandomForest with 20 estimators and sqrt features, training over 100k samples and predicting over 1k\n",
    "\n",
    "<table>\n",
    "    <tr>\n",
    "        <th>input</th>\n",
    "        <th>rmse loss</th>\n",
    "        <th>time [s/it]</th>\n",
    "    </tr>\n",
    "    <tr>\n",
    "        <td>meter and building id only</td>\n",
    "        <td>1.2 - 1.21</td>\n",
    "        <td>10.2</td>\n",
    "    </tr>\n",
    "    <tr>\n",
    "        <td>using dep_var stats</td>\n",
    "        <td>1.16 - 1.18</td>\n",
    "        <td>17.3</td>\n",
    "    </tr>\n",
    "    <tr>\n",
    "        <td>using time stats</td>\n",
    "        <td>1.2 - 1.21</td>\n",
    "        <td>13.2 - 13.7</td>\n",
    "    </tr>\n",
    "    <tr>\n",
    "        <td>using building info</td>\n",
    "        <td>1.19</td>\n",
    "        <td>17 - 18</td>\n",
    "    </tr>\n",
    "    <tr>\n",
    "        <td>using weather (+ building) info</td>\n",
    "        <td>1.13 - 1.139</td>\n",
    "        <td>14.6 - 15</td>\n",
    "    </tr>\n",
    "    <tr>\n",
    "        <td>using all above</td>\n",
    "        <td>1.19 - 1.21</td>\n",
    "        <td>20 - 26</td>\n",
    "    </tr>\n",
    "</table>"
   ]
  },
  {
   "cell_type": "markdown",
   "metadata": {},
   "source": [
    "## old stuff"
   ]
  },
  {
   "cell_type": "code",
   "execution_count": null,
   "metadata": {},
   "outputs": [],
   "source": []
  },
  {
   "cell_type": "code",
   "execution_count": null,
   "metadata": {},
   "outputs": [],
   "source": [
    "cols = var_names['conts'] + var_names['cats']\n",
    "y_col = var_names['dep_var']\n",
    "test_size = .2"
   ]
  },
  {
   "cell_type": "code",
   "execution_count": null,
   "metadata": {},
   "outputs": [],
   "source": [
    "%%time\n",
    "X_train, X_test, y_train, y_test = model_selection.train_test_split(df.loc[:,cols].values, df[y_col].values,\n",
    "                                                                            test_size=test_size)"
   ]
  },
  {
   "cell_type": "code",
   "execution_count": null,
   "metadata": {},
   "outputs": [],
   "source": [
    "%%time\n",
    "mask = df.index.isin(np.random.choice(df.index.values, size=int(test_size*len(df)), replace=False))"
   ]
  },
  {
   "cell_type": "code",
   "execution_count": null,
   "metadata": {},
   "outputs": [],
   "source": [
    "base_path = Path(\"../data\")"
   ]
  },
  {
   "cell_type": "code",
   "execution_count": null,
   "metadata": {},
   "outputs": [],
   "source": [
    "csvs = sorted([base_path/v for v in os.listdir(base_path) if v.endswith('.csv')])\n",
    "csvs"
   ]
  },
  {
   "cell_type": "code",
   "execution_count": null,
   "metadata": {},
   "outputs": [],
   "source": [
    "train_csv = csvs[3]\n",
    "train_weather_csv = csvs[-1]\n",
    "test_csv = csvs[2]\n",
    "test_weather_csv = csvs[-2]\n",
    "meta_csv = csvs[0]\n",
    "\n",
    "train_csv, train_weather_csv, test_csv, test_weather_csv, meta_csv"
   ]
  },
  {
   "cell_type": "markdown",
   "metadata": {},
   "source": [
    "## Loading"
   ]
  },
  {
   "cell_type": "code",
   "execution_count": null,
   "metadata": {},
   "outputs": [],
   "source": [
    "%%time\n",
    "train = pd.read_csv(train_csv, parse_dates=['timestamp'])\n",
    "train.head()"
   ]
  },
  {
   "cell_type": "code",
   "execution_count": null,
   "metadata": {},
   "outputs": [],
   "source": [
    "%%time\n",
    "test = pd.read_csv(test_csv, parse_dates=['timestamp'])\n",
    "test.head()"
   ]
  },
  {
   "cell_type": "code",
   "execution_count": null,
   "metadata": {},
   "outputs": [],
   "source": [
    "%%time\n",
    "weather_train = pd.read_csv(train_weather_csv, parse_dates=['timestamp'])\n",
    "weather_train.head()"
   ]
  },
  {
   "cell_type": "code",
   "execution_count": null,
   "metadata": {},
   "outputs": [],
   "source": [
    "%%time\n",
    "weather_test = pd.read_csv(test_weather_csv, parse_dates=['timestamp'])\n",
    "weather_test.head()"
   ]
  },
  {
   "cell_type": "code",
   "execution_count": null,
   "metadata": {},
   "outputs": [],
   "source": [
    "%%time\n",
    "building = pd.read_csv(meta_csv)\n",
    "building.head()"
   ]
  },
  {
   "cell_type": "markdown",
   "metadata": {},
   "source": [
    "## Inspection of the data"
   ]
  },
  {
   "cell_type": "code",
   "execution_count": null,
   "metadata": {},
   "outputs": [],
   "source": [
    "train.head()"
   ]
  },
  {
   "cell_type": "markdown",
   "metadata": {},
   "source": [
    "Kicking out outlying measurements"
   ]
  },
  {
   "cell_type": "code",
   "execution_count": null,
   "metadata": {},
   "outputs": [],
   "source": [
    "%%time\n",
    "train_meter_stats = (train.groupby(['meter'])['meter_reading']\n",
    "                     .describe(percentiles=[.05, .25, .5, .75, .95]))\n",
    "train_meter_stats"
   ]
  },
  {
   "cell_type": "code",
   "execution_count": null,
   "metadata": {},
   "outputs": [],
   "source": [
    "%%time\n",
    "mask = pd.concat([(train['meter']==m) & (train['meter_reading'] < 1e2*grp['95%'].iloc[0])\n",
    "         for m, grp in train_meter_stats.groupby(['meter'])], axis=1).any(axis=1)\n",
    "mask"
   ]
  },
  {
   "cell_type": "code",
   "execution_count": null,
   "metadata": {},
   "outputs": [],
   "source": [
    "print(f'removing {(1 - mask.sum()/len(mask)) * 100:.3f} % of the data')\n",
    "print(f'min {train.loc[~mask, \"meter_reading\"].min()}, max {train.loc[~mask, \"meter_reading\"].max()}')"
   ]
  },
  {
   "cell_type": "code",
   "execution_count": null,
   "metadata": {},
   "outputs": [],
   "source": [
    "train = train.loc[mask]"
   ]
  },
  {
   "cell_type": "markdown",
   "metadata": {},
   "source": [
    "Looking into time series with a lot of 0s"
   ]
  },
  {
   "cell_type": "code",
   "execution_count": null,
   "metadata": {},
   "outputs": [],
   "source": [
    "%%time\n",
    "train_meter_stats = (train.groupby(['meter', 'building_id'])['meter_reading']\n",
    "                     .describe(percentiles=[.05, .25, .5, .75, .95]))\n",
    "train_meter_stats"
   ]
  },
  {
   "cell_type": "code",
   "execution_count": null,
   "metadata": {},
   "outputs": [],
   "source": [
    "with pd.option_context('display.max_rows',200):\n",
    "    display(train_meter_stats.loc[train_meter_stats['50%'] == 0])"
   ]
  },
  {
   "cell_type": "code",
   "execution_count": null,
   "metadata": {},
   "outputs": [],
   "source": [
    "train.head()"
   ]
  },
  {
   "cell_type": "code",
   "execution_count": null,
   "metadata": {},
   "outputs": [],
   "source": [
    "%%time\n",
    "bid = 112\n",
    "meter = 3\n",
    "mask = (train['building_id']==bid) & (train['meter']==meter)\n",
    "print(f'number of observations: {mask.sum()}')"
   ]
  },
  {
   "cell_type": "code",
   "execution_count": null,
   "metadata": {},
   "outputs": [],
   "source": [
    "%%time\n",
    "train.loc[mask].plot(x='timestamp', y='meter_reading')"
   ]
  },
  {
   "cell_type": "markdown",
   "metadata": {},
   "source": [
    "Finding:\n",
    "* electricity: meter 0 should probably never be close to 0\n",
    "* chilledwater: meter 1 can be continuously 0 at night\n",
    "* steam: meter 2 should probably never be close to 0\n",
    "* hotwater: meter 3 possibly also shouldn't be 0"
   ]
  },
  {
   "cell_type": "markdown",
   "metadata": {},
   "source": [
    "Dropping 0s for electricity readings"
   ]
  },
  {
   "cell_type": "code",
   "execution_count": null,
   "metadata": {},
   "outputs": [],
   "source": [
    "meter_maps = {0: 'electricity', 1: 'chilledwater', 2: 'steam', 3: 'hotwater'}\n",
    "inv_meter_maps = {v:k for k,v in meter_maps.items()}"
   ]
  },
  {
   "cell_type": "code",
   "execution_count": null,
   "metadata": {},
   "outputs": [],
   "source": [
    "mask = (train['meter'] == inv_meter_maps['electricity']) & (train['meter_reading'] > 0) \\\n",
    "    | (train['meter'] != inv_meter_maps['electricity'])\n",
    "# mask = ~np.isclose(train['meter_reading'], 0)\n",
    "print(f'removing {(1 - mask.sum()/len(mask)) * 100:.3f} % of the data')\n",
    "print(f'min {train.loc[~mask, \"meter_reading\"].min()}, max {train.loc[~mask, \"meter_reading\"].max()}')"
   ]
  },
  {
   "cell_type": "code",
   "execution_count": null,
   "metadata": {},
   "outputs": [],
   "source": [
    "# train.loc[~mask, 'meter_reading'] = np.nan\n",
    "train = train.loc[mask]"
   ]
  },
  {
   "cell_type": "markdown",
   "metadata": {},
   "source": [
    "A broader look at the distribution of `meter_reading` given `meter`"
   ]
  },
  {
   "cell_type": "code",
   "execution_count": null,
   "metadata": {},
   "outputs": [],
   "source": [
    "s = train.loc[train['meter_reading']<20000].groupby('meter').sample(n=5000)\n",
    "px.histogram(s, x='meter_reading', color='meter',\n",
    "             barmode='overlay', opacity=.5,\n",
    "             histnorm='probability density')"
   ]
  },
  {
   "cell_type": "code",
   "execution_count": null,
   "metadata": {},
   "outputs": [],
   "source": [
    "nbins = 1000\n",
    "all_paretos = []\n",
    "for meter, grp in train.groupby('meter'):\n",
    "    mask = train['meter']==meter\n",
    "    max_val = train.loc[mask,'meter_reading'].max()\n",
    "    bins = np.logspace(0, np.log10(max_val), nbins)\n",
    "\n",
    "    s = (pd.cut(train.loc[mask, 'meter_reading'].sample(5000), \n",
    "                bins=bins)\n",
    "         .value_counts()\n",
    "         .sort_index()\n",
    "         .to_frame()\n",
    "         .rename(columns={'meter_reading': 'count'}))\n",
    "    \n",
    "    s['pareto share'] = s['count'].cumsum() / s['count'].sum()\n",
    "    s['x'] = [v.right for v in s.index.values]\n",
    "    s['log(1+x)'] = [np.log(1+v.right) for v in s.index.values]\n",
    "    s['meter'] = meter_maps[meter]\n",
    "    \n",
    "    print('\\n', meter_maps[meter])\n",
    "    display(s.loc[s['pareto share'] < .99, ['pareto share']])\n",
    "    all_paretos.append(s)"
   ]
  },
  {
   "cell_type": "code",
   "execution_count": null,
   "metadata": {},
   "outputs": [],
   "source": [
    "all_paretos = pd.concat(all_paretos, ignore_index=True)"
   ]
  },
  {
   "cell_type": "code",
   "execution_count": null,
   "metadata": {},
   "outputs": [],
   "source": [
    "px.line(all_paretos, x='log(1+x)', y='pareto share', color='meter')"
   ]
  },
  {
   "cell_type": "code",
   "execution_count": null,
   "metadata": {},
   "outputs": [],
   "source": [
    "px.line(all_paretos, x='x', y='pareto share', color='meter')"
   ]
  },
  {
   "cell_type": "markdown",
   "metadata": {},
   "source": [
    "## Radically merging all the data"
   ]
  },
  {
   "cell_type": "code",
   "execution_count": null,
   "metadata": {},
   "outputs": [],
   "source": [
    "#export\n",
    "def radical_merging(df:pd.DataFrame, building:pd.DataFrame, \n",
    "                    weather:pd.DataFrame, n_sample:int=None,\n",
    "                    training:bool=True):\n",
    "    \n",
    "    tmp = df.copy(deep=True)\n",
    "\n",
    "    bid_col = 'building_id'\n",
    "    sid_col = 'site_id'\n",
    "    time_col = 'timestamp'\n",
    "    target_col = 'meter_reading'\n",
    "    \n",
    "    categorical = ['meter', 'primary_use', 'cloud_coverage', bid_col, sid_col]\n",
    "    continuous = ['square_feet', 'year_built', 'floor_count', \n",
    "                  'air_temperature', 'dew_temperature',\n",
    "                  'precip_depth_1_hr', 'sea_level_pressure', 'wind_direction',\n",
    "                  'wind_speed']\n",
    "\n",
    "    x_cols = [bid_col, 'meter', target_col, time_col] if training \\\n",
    "            else [bid_col, 'meter', time_col]\n",
    "    X = tmp.loc[:,x_cols].copy()\n",
    "\n",
    "    X = pd.merge(X, building, on=bid_col, how='left')\n",
    "    X = pd.merge(X, weather, on=[sid_col, time_col], how='left')\n",
    "\n",
    "    #return_cols =  categorical + continuous + [target_col,]  # time_col\n",
    "\n",
    "    #X = X.loc[:,return_cols]\n",
    "    if n_sample is not None:\n",
    "        X = X.sample(n_sample)\n",
    "        \n",
    "    if training:\n",
    "        X[target_col] = np.log(X[target_col] + 1)\n",
    "        \n",
    "    X = add_datepart(X, time_col)\n",
    "    categorical.extend(['timestampMonth', 'timestampWeek', 'timestampDay',\n",
    "                        'timestampDayofweek', 'timestampDayofyear', 'timestampIs_month_end',\n",
    "                        'timestampIs_month_start', 'timestampIs_quarter_end',\n",
    "                        'timestampIs_quarter_start', 'timestampIs_year_end',\n",
    "                        'timestampIs_year_start'])\n",
    "    \n",
    "    continuous.extend(['timestampYear', 'timestampElapsed'])\n",
    "        \n",
    "    X = X.loc[:, [col for col in X.columns.values if col not in [time_col]]]\n",
    "    \n",
    "    missing_cont = [col for col in continuous if col not in X.columns]\n",
    "    missing_cat = [col for col in categorical if col not in X.columns]\n",
    "    assert len(missing_cat) == 0, f'{missing_cat} not in X!'\n",
    "    assert len(missing_cont) == 0, f'{missing_cont} not in X!'\n",
    "    \n",
    "    X.loc[:,continuous] = X.loc[:,continuous].astype(float)\n",
    "    X.loc[:,categorical] = X.loc[:,categorical].astype('category')\n",
    "    \n",
    "    return X, continuous, categorical"
   ]
  },
  {
   "cell_type": "markdown",
   "metadata": {},
   "source": [
    "Generating train / validate features"
   ]
  },
  {
   "cell_type": "code",
   "execution_count": null,
   "metadata": {},
   "outputs": [],
   "source": [
    "%%time\n",
    "n_sample = None  #10000\n",
    "X, continuous, categorical = radical_merging(train.copy(), building, weather_train,\n",
    "                    n_sample=n_sample)"
   ]
  },
  {
   "cell_type": "code",
   "execution_count": null,
   "metadata": {},
   "outputs": [],
   "source": [
    "%%time\n",
    "X.to_parquet('../data/X.parquet')"
   ]
  },
  {
   "cell_type": "markdown",
   "metadata": {},
   "source": [
    "Storing variable types"
   ]
  },
  {
   "cell_type": "code",
   "execution_count": null,
   "metadata": {},
   "outputs": [],
   "source": [
    "with open('../data/var_types.pckl', 'wb') as f:\n",
    "    pickle.dump({'cont':continuous, 'cat':categorical}, f)"
   ]
  },
  {
   "cell_type": "markdown",
   "metadata": {},
   "source": [
    "Generating test set features"
   ]
  },
  {
   "cell_type": "code",
   "execution_count": null,
   "metadata": {},
   "outputs": [],
   "source": [
    "%%time\n",
    "X_test, _, _ = radical_merging(test.copy(), building, weather_test,\n",
    "                    n_sample=None, training=False)"
   ]
  },
  {
   "cell_type": "code",
   "execution_count": null,
   "metadata": {},
   "outputs": [],
   "source": [
    "X_test.to_parquet('../data/X_test.parquet')"
   ]
  },
  {
   "cell_type": "code",
   "execution_count": null,
   "metadata": {},
   "outputs": [],
   "source": []
  }
 ],
 "metadata": {
  "kernelspec": {
   "display_name": "Python [conda env:py38_fastai]",
   "language": "python",
   "name": "conda-env-py38_fastai-py"
  }
 },
 "nbformat": 4,
 "nbformat_minor": 2
}
